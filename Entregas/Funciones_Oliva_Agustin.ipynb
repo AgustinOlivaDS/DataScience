{
 "cells": [
  {
   "cell_type": "markdown",
   "id": "4b4c381f",
   "metadata": {},
   "source": [
    "### Función factorial\n"
   ]
  },
  {
   "cell_type": "code",
   "execution_count": 2,
   "id": "6d68be91",
   "metadata": {},
   "outputs": [],
   "source": [
    "def factorial(valor):\n",
    "    \"\"\"Retorna el factorial de un numero\"\"\"\n",
    "    fac = 1\n",
    "    for z in range(1, valor + 1):\n",
    "        fac *= z\n",
    "    return fac"
   ]
  },
  {
   "cell_type": "markdown",
   "id": "cc0fc73c",
   "metadata": {},
   "source": [
    "#### Prueba de función Factorial"
   ]
  },
  {
   "cell_type": "code",
   "execution_count": 6,
   "id": "104ab91b",
   "metadata": {},
   "outputs": [
    {
     "name": "stdout",
     "output_type": "stream",
     "text": [
      "El factorial de 5 es: 120\n"
     ]
    }
   ],
   "source": [
    "arg = 5\n",
    "result = factorial(arg)\n",
    "\n",
    "print(\"El factorial de\", arg, \"es:\", result)"
   ]
  },
  {
   "cell_type": "markdown",
   "id": "204ee10a",
   "metadata": {},
   "source": [
    "### Función Suma Serie de números"
   ]
  },
  {
   "cell_type": "code",
   "execution_count": 17,
   "id": "34529656",
   "metadata": {},
   "outputs": [],
   "source": [
    "def sumaSerie(valorDesde, valorHasta):\n",
    "    \"\"\"Retorna la suma de una serie de números\n",
    "    El valor hasta debe ser mayor al desde\"\"\"\n",
    "    ##Control de argumentos\n",
    "    if valorHasta < valorDesde:\n",
    "        return \"El Valor Hasta debe ser mayor al Desde\"\n",
    "    suma = 0\n",
    "    for z in range(valorDesde, valorHasta + 1):\n",
    "       suma += z  \n",
    "    return suma"
   ]
  },
  {
   "cell_type": "markdown",
   "id": "7c1c46a7",
   "metadata": {},
   "source": [
    "#### Prueba función Serie de números"
   ]
  },
  {
   "cell_type": "code",
   "execution_count": 20,
   "id": "38ae9eb5",
   "metadata": {},
   "outputs": [
    {
     "name": "stdout",
     "output_type": "stream",
     "text": [
      "La suma de la serie desde 1 hasta 4 es: 10\n"
     ]
    }
   ],
   "source": [
    "argDesde = 1\n",
    "argHasta = 4\n",
    "result = sumaSerie(argDesde, argHasta)\n",
    "\n",
    "print(\"La suma de la serie desde\", argDesde, \"hasta\", argHasta, \"es:\", result)"
   ]
  }
 ],
 "metadata": {
  "kernelspec": {
   "display_name": "Python 3 (ipykernel)",
   "language": "python",
   "name": "python3"
  },
  "language_info": {
   "codemirror_mode": {
    "name": "ipython",
    "version": 3
   },
   "file_extension": ".py",
   "mimetype": "text/x-python",
   "name": "python",
   "nbconvert_exporter": "python",
   "pygments_lexer": "ipython3",
   "version": "3.9.7"
  }
 },
 "nbformat": 4,
 "nbformat_minor": 5
}
