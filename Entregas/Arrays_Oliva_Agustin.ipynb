{
 "cells": [
  {
   "cell_type": "markdown",
   "id": "8ff663ae",
   "metadata": {},
   "source": [
    "### Crear un array aleatorio de 100 elementos\n",
    "**negrita**"
   ]
  },
  {
   "cell_type": "code",
   "execution_count": 4,
   "id": "79ace10b",
   "metadata": {},
   "outputs": [
    {
     "name": "stdout",
     "output_type": "stream",
     "text": [
      "La mediana del array es: 50.0\n"
     ]
    }
   ],
   "source": [
    "import numpy as np\n",
    "\n",
    "aRandomCien = np.random.randint(100, size=100)\n",
    "#recupero la mediana\n",
    "mediana = np.median(aRandomCien)\n",
    "print(\"La mediana del array es:\", mediana)\n"
   ]
  },
  {
   "cell_type": "markdown",
   "id": "6ae1f56c",
   "metadata": {},
   "source": [
    "### Función Factorial con ndarray"
   ]
  },
  {
   "cell_type": "code",
   "execution_count": 15,
   "id": "968d4c4a",
   "metadata": {},
   "outputs": [
    {
     "name": "stdout",
     "output_type": "stream",
     "text": [
      "120\n"
     ]
    }
   ],
   "source": [
    "def factorial(valor):\n",
    "    \"\"\"Retorna el factorial de un numero usando ndarray\"\"\"\n",
    "    rango = np.arange(1, valor + 1) \n",
    "    fac = 1\n",
    "    \n",
    "    for z in rango:\n",
    "        fac *= z\n",
    "    return fac\n",
    "\n",
    "print(factorial(5))"
   ]
  },
  {
   "cell_type": "markdown",
   "id": "9e73f755",
   "metadata": {},
   "source": [
    "### Función suma serie con ndarray"
   ]
  },
  {
   "cell_type": "code",
   "execution_count": 46,
   "id": "8ac15c95",
   "metadata": {},
   "outputs": [
    {
     "name": "stdout",
     "output_type": "stream",
     "text": [
      "10\n"
     ]
    }
   ],
   "source": [
    "def sumaSerie(valorDesde, valorHasta):\n",
    "    \"\"\"Retorna la suma de una serie de números\n",
    "    El valor hasta debe ser mayor al desde\"\"\"\n",
    "    ##Control de argumentos\n",
    "    if valorHasta < valorDesde:\n",
    "        return \"El Valor Hasta debe ser mayor al Desde\"\n",
    "    rango = np.arange(valorDesde, valorHasta + 1)\n",
    "    suma = rango.sum()\n",
    "    return suma\n",
    "\n",
    "print(sumaSerie(1, 4))"
   ]
  },
  {
   "cell_type": "markdown",
   "id": "e86f3312",
   "metadata": {},
   "source": [
    "### Datos sobre sueldos netos"
   ]
  },
  {
   "cell_type": "code",
   "execution_count": 2,
   "id": "5d1788b8",
   "metadata": {},
   "outputs": [
    {
     "name": "stdout",
     "output_type": "stream",
     "text": [
      "             Timestamp Me identifico  Tengo Estoy trabajando en  \\\n",
      "0  2020-06-07 09:56:02         Mujer   26.0           Argentina   \n",
      "1  2020-06-07 09:57:09        Hombre   29.0           Argentina   \n",
      "2  2020-06-07 09:58:09         Mujer   22.0           Argentina   \n",
      "3  2020-06-07 09:59:52        Hombre   39.0           Argentina   \n",
      "4  2020-06-07 10:01:27        Hombre   32.0           Argentina   \n",
      "\n",
      "            Dónde estás trabajando Bolivia Chile Colombia Cuba Costa Rica  \\\n",
      "0  Ciudad Autónoma de Buenos Aires     NaN   NaN      NaN  NaN        NaN   \n",
      "1                       Corrientes     NaN   NaN      NaN  NaN        NaN   \n",
      "2  Ciudad Autónoma de Buenos Aires     NaN   NaN      NaN  NaN        NaN   \n",
      "3                       Corrientes     NaN   NaN      NaN  NaN        NaN   \n",
      "4  Ciudad Autónoma de Buenos Aires     NaN   NaN      NaN  NaN        NaN   \n",
      "\n",
      "   ... ¿Con cuántas personas estás conviviendo?  \\\n",
      "0  ...                                      0.0   \n",
      "1  ...                                      1.0   \n",
      "2  ...                                      1.0   \n",
      "3  ...                                      1.0   \n",
      "4  ...                                      2.0   \n",
      "\n",
      "               ¿Con quiénes convivís?  \\\n",
      "0                         Vivo solo/a   \n",
      "1                                   -   \n",
      "2                              Pareja   \n",
      "3                              Pareja   \n",
      "4  Pareja, Hijos/as (tiempo completo)   \n",
      "\n",
      "  ¿Tenés un espacio dedicado para el trabajo?  \\\n",
      "0                                          No   \n",
      "1                                          No   \n",
      "2                                          No   \n",
      "3                                          Sí   \n",
      "4                                          Sí   \n",
      "\n",
      "  ¿Tenés que compartir tu equipo de trabajo con alguien?  \\\n",
      "0                                                 No       \n",
      "1                                                 No       \n",
      "2                                                 No       \n",
      "3                                                 No       \n",
      "4                                                 No       \n",
      "\n",
      "  ¿Qué tipo de cuarentena estás haciendo?  \\\n",
      "0                                     4.0   \n",
      "1                                     3.0   \n",
      "2                                     4.0   \n",
      "3                                     4.0   \n",
      "4                                     3.0   \n",
      "\n",
      "  ¿Cambió tu situación laboral a raíz de la pandemia?  \\\n",
      "0                         Decidí buscar otro trabajo    \n",
      "1         Cambié de trabajo, pero no por la pandemia    \n",
      "2         Cambié de trabajo, pero no por la pandemia    \n",
      "3                                                 No    \n",
      "4                                                 No    \n",
      "\n",
      "  ¿Qué tanto sentís que te está apoyando tu empresa en esta situación?  \\\n",
      "0                                                7.0                     \n",
      "1                                                8.0                     \n",
      "2                                                8.0                     \n",
      "3                                                4.0                     \n",
      "4                                                6.0                     \n",
      "\n",
      "                   ¿Cómo se vio afectada tu empresa?  \\\n",
      "0                                       No la afectó   \n",
      "1                                       No la afectó   \n",
      "2                                 Se vio beneficiada   \n",
      "3  Cerró oficinas, Bajaron los sueldos o pagan pa...   \n",
      "4                Nos obligaron a tomarnos vacaciones   \n",
      "\n",
      "                 ¿Instauraron algún beneficio nuevo?  \\\n",
      "0                                                 No   \n",
      "1                                                 No   \n",
      "2  Clases de gimnasia, Clases de meditación, Clas...   \n",
      "3                                                 No   \n",
      "4                                                 No   \n",
      "\n",
      "   ¿Cuáles considerás que son las mejores empresas de IT para trabajar en este momento, en tu ciudad?  \n",
      "0                                                NaN                                                   \n",
      "1                                                NaN                                                   \n",
      "2                                                NaN                                                   \n",
      "3                                                NaN                                                   \n",
      "4                                                NaN                                                   \n",
      "\n",
      "[5 rows x 81 columns]\n"
     ]
    }
   ],
   "source": [
    "import pandas as pd\n",
    "\n",
    "archivo = pd.read_excel(\"files/Salarios Openqube.xlsx\") \n",
    "\n",
    "print(archivo.head(3))"
   ]
  }
 ],
 "metadata": {
  "kernelspec": {
   "display_name": "Python 3 (ipykernel)",
   "language": "python",
   "name": "python3"
  },
  "language_info": {
   "codemirror_mode": {
    "name": "ipython",
    "version": 3
   },
   "file_extension": ".py",
   "mimetype": "text/x-python",
   "name": "python",
   "nbconvert_exporter": "python",
   "pygments_lexer": "ipython3",
   "version": "3.9.7"
  }
 },
 "nbformat": 4,
 "nbformat_minor": 5
}
