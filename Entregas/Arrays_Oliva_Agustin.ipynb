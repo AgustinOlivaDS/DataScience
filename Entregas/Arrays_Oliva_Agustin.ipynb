{
 "cells": [
  {
   "cell_type": "markdown",
   "id": "8ff663ae",
   "metadata": {},
   "source": [
    "### Crear un array aleatorio de 100 elementos\n",
    "**negrita**"
   ]
  },
  {
   "cell_type": "code",
   "execution_count": 5,
   "id": "79ace10b",
   "metadata": {},
   "outputs": [
    {
     "name": "stdout",
     "output_type": "stream",
     "text": [
      "La mediana del array es: 48.5\n"
     ]
    }
   ],
   "source": [
    "import numpy as np\n",
    "\n",
    "aRandomCien = np.random.randint(100, size=100)\n",
    "#recupero la mediana\n",
    "mediana = np.median(aRandomCien)\n",
    "print(\"La mediana del array es:\", mediana)\n"
   ]
  },
  {
   "cell_type": "markdown",
   "id": "6ae1f56c",
   "metadata": {},
   "source": [
    "### Función Factorial con ndarray"
   ]
  },
  {
   "cell_type": "code",
   "execution_count": 50,
   "id": "968d4c4a",
   "metadata": {},
   "outputs": [
    {
     "name": "stdout",
     "output_type": "stream",
     "text": [
      "120\n"
     ]
    }
   ],
   "source": [
    "def factorial(valor):\n",
    "    \"\"\"Retorna el factorial de un numero usando ndarray\"\"\"\n",
    "    rango = np.arange(1, valor + 1) \n",
    "    fac = 1\n",
    "    \n",
    "    for z in rango:\n",
    "        fac *= z\n",
    "    return fac\n",
    "\n",
    "# Verifico la función\n",
    "print(factorial(5))"
   ]
  },
  {
   "cell_type": "markdown",
   "id": "9e73f755",
   "metadata": {},
   "source": [
    "### Función suma serie con ndarray"
   ]
  },
  {
   "cell_type": "code",
   "execution_count": 8,
   "id": "8ac15c95",
   "metadata": {},
   "outputs": [
    {
     "name": "stdout",
     "output_type": "stream",
     "text": [
      "10\n"
     ]
    }
   ],
   "source": [
    "def sumaSerie(valorDesde, valorHasta):\n",
    "    \"\"\"Retorna la suma de una serie de números\n",
    "        El valor hasta debe ser mayor al desde en caso de estar mal devuelve -1\n",
    "    \"\"\"\n",
    "    ##Control de argumentos\n",
    "    suma = 0\n",
    "    if valorHasta < valorDesde:\n",
    "        suma = -1\n",
    "        print(\"El Valor Hasta debe ser mayor al Desde\")\n",
    "    else:    \n",
    "        rango = np.arange(valorDesde, valorHasta + 1)\n",
    "        suma = rango.sum()\n",
    "    return suma\n",
    "\n",
    "# Verifico la función\n",
    "z = sumaSerie(1, 4)\n",
    "print(z)"
   ]
  },
  {
   "cell_type": "markdown",
   "id": "e86f3312",
   "metadata": {},
   "source": [
    "### Datos sobre sueldos netos\n",
    "**Comparar la mediana y la media del sueldo Neto**"
   ]
  },
  {
   "cell_type": "code",
   "execution_count": 42,
   "id": "5d1788b8",
   "metadata": {},
   "outputs": [],
   "source": [
    "import pandas as pd\n",
    "\n",
    "archivo = pd.read_excel(\"files/Salarios Openqube.xlsx\") \n",
    "# seteo esta opción para ver todas las columnas\n",
    "pd.set_option(\"display.max_columns\", 90)\n",
    "\n",
    "# convierto todo a float y limpio los nan\n",
    "archivo[\"Salario mensual NETO (en tu moneda local)\"] = pd.to_numeric(archivo[\"Salario mensual NETO (en tu moneda local)\"], errors='coerce')\n",
    "archivo[\"Salario mensual NETO (en tu moneda local)\"] = archivo[\"Salario mensual NETO (en tu moneda local)\"].fillna(0)\n"
   ]
  },
  {
   "cell_type": "code",
   "execution_count": 67,
   "id": "6dd6ebaf",
   "metadata": {},
   "outputs": [
    {
     "name": "stdout",
     "output_type": "stream",
     "text": [
      "El promedio es:18656258.060858924\n",
      "La mediana es: 75000.0\n"
     ]
    }
   ],
   "source": [
    "promedio = archivo[\"Salario mensual NETO (en tu moneda local)\"].mean()\n",
    "mediana = np.median(archivo[\"Salario mensual NETO (en tu moneda local)\"])\n",
    "print(f\"El promedio es: {promedio}\") \n",
    "print(f\"La mediana es: {mediana}\")\n"
   ]
  }
 ],
 "metadata": {
  "kernelspec": {
   "display_name": "Python 3 (ipykernel)",
   "language": "python",
   "name": "python3"
  },
  "language_info": {
   "codemirror_mode": {
    "name": "ipython",
    "version": 3
   },
   "file_extension": ".py",
   "mimetype": "text/x-python",
   "name": "python",
   "nbconvert_exporter": "python",
   "pygments_lexer": "ipython3",
   "version": "3.9.7"
  }
 },
 "nbformat": 4,
 "nbformat_minor": 5
}
