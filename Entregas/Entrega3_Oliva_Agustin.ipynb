{
 "cells": [
  {
   "cell_type": "markdown",
   "metadata": {},
   "source": [
    "# Proyecto final curso Data Science CoderHouse - com. 18340\n",
    "\n",
    "## Presentación de la Empresa **Ipx Tools** (nombre inventado)\n",
    "\n",
    "### Ipx Tools es una empresa fundada en 2013, orientada a la comercialización de bombas de agua, máquinas y herramientas para uso doméstico, comercial e industrial.\n",
    "\n",
    "Ipx Tools cuenta con la representación de varias marcars del sector y está en constante crecimiento\n",
    "\n",
    "La empresa cuenta con un equipo de venta y postventa especializado en el rubro como principal fuerza de venta, además cuana con un sitio ecommerce B2B que está en desarrollo.\n",
    "\n",
    "### Objetivos a resolver.\n",
    "\n",
    "Para una correcta planificación de campañas de venta, es necesario clasificar a los clientes en distintas categorías, esto hoy se hace manualmente, pero al estar en constante crecimiento, se hace muy dificil confiar en los criterios y muchas veces se dejam clientes sin clasificar, lo que distorciona todoas las mediciones.\n",
    "\n",
    "Por otro lado, una tara que es realmente problemática y que también genera desconfiazo en lo fidedigna, es la creación del forecaste de ventas anual, que hoy en día se hace en función del histórico de ventas, pero sería interesante poder predecir las ventas, inclusive de clientes con poca historia o aunque sea se r más precisos con los clientes que si la tienen."
   ]
  },
  {
   "cell_type": "markdown",
   "metadata": {},
   "source": [
    "## Preguntas y objetivos de la investigación\n",
    "\n",
    "Para poder responder a los problemas a resolver, surgen las siguientes preguntas a responder:\n",
    "- Es posible clasificar a los clientes con la infromnación guardada en el ERP?\n",
    "- Teniendo en cuenta el histórico de ventas, se puede predecir la cantidad de productos que va a comprar en el futuro?\n",
    "- Existe alguna relación entre los vendedores y la cantiad de ventas? se puede prescindir de los vendedores y pasar a un esquema online?\n",
    "- Haría falta más información para que sea más predecible el comportamiento\n",
    "- La clasificación actual de clientes es adecuada o convendría clasificarlos con otro criterio?"
   ]
  },
  {
   "cell_type": "markdown",
   "metadata": {},
   "source": [
    "## Conformación del Equipo de tranajo\n",
    "\n",
    "### Alumnos\n",
    "- Adrián Leon\n",
    "- Agustina Lencina\n",
    "- Agustín Oliva\n",
    "- Aldo Sanchez\n",
    "\n",
    "### Tutor\n",
    "- Joaquin Aranguren"
   ]
  },
  {
   "cell_type": "markdown",
   "metadata": {},
   "source": [
    "## Fuente de Datos y criterios de selección (Data Acquisition)\n",
    "\n",
    "Los datos son extraídos básicamente de los maestros de clientes y productos y del histórico de ventas (facturas y notas de crédito)\n",
    "\n",
    "En principio se tomaron las ventas del 01/01/2020 al 09/03/2022, fecha en la que se hizo la extracción. \n",
    "\n",
    "No se descarta que esta selección varíe en función de los futuros análisis y resultados"
   ]
  },
  {
   "cell_type": "markdown",
   "metadata": {},
   "source": [
    "## Data Wrangling y EDA, Univariado, Bivariado y Multivariado"
   ]
  },
  {
   "cell_type": "markdown",
   "metadata": {},
   "source": [
    "### Data Wrangling"
   ]
  },
  {
   "cell_type": "markdown",
   "metadata": {
    "id": "1r3_g8YaiOq0"
   },
   "source": [
    "Importar las librerías"
   ]
  },
  {
   "cell_type": "code",
   "execution_count": 14,
   "metadata": {
    "id": "4va9WTJ5iOq0"
   },
   "outputs": [],
   "source": [
    "#DESHABILITO LOS WARNINIGS\n",
    "import warnings\n",
    "warnings.filterwarnings('ignore')\n",
    "\n",
    "#Datos\n",
    "import pandas as pd\n",
    "import numpy as np\n",
    "import pandas_profiling\n",
    "\n",
    "# Visualizacion de Datos\n",
    "import matplotlib\n",
    "import matplotlib.pyplot as plt\n",
    "import seaborn as sns\n",
    "# esta línea se agrega para que imprima los gráficos dentro del notebook\n",
    "%matplotlib inline  \n",
    "#pip install funpymodeling\n",
    "from funpymodeling.exploratory import profiling_num\n",
    "from funpymodeling.exploratory import freq_tbl\n",
    "#Modelos\n",
    "import scipy.cluster.hierarchy as shc"
   ]
  },
  {
   "cell_type": "markdown",
   "metadata": {
    "id": "7KOz5tGaiOq1"
   },
   "source": [
    "Importar el archivo csv"
   ]
  },
  {
   "cell_type": "code",
   "execution_count": 3,
   "metadata": {
    "colab": {
     "base_uri": "https://localhost:8080/",
     "height": 365
    },
    "id": "9nc5P1xuiOq2",
    "outputId": "b6553f95-82da-4603-ecab-0d6ede70a94d"
   },
   "outputs": [
    {
     "data": {
      "text/html": [
       "<div>\n",
       "<style scoped>\n",
       "    .dataframe tbody tr th:only-of-type {\n",
       "        vertical-align: middle;\n",
       "    }\n",
       "\n",
       "    .dataframe tbody tr th {\n",
       "        vertical-align: top;\n",
       "    }\n",
       "\n",
       "    .dataframe thead th {\n",
       "        text-align: right;\n",
       "    }\n",
       "</style>\n",
       "<table border=\"1\" class=\"dataframe\">\n",
       "  <thead>\n",
       "    <tr style=\"text-align: right;\">\n",
       "      <th></th>\n",
       "      <th>DS_CODZON</th>\n",
       "      <th>CODCOM</th>\n",
       "      <th>FCHMOV</th>\n",
       "      <th>NROCTA</th>\n",
       "      <th>DS_NROCTA</th>\n",
       "      <th>CLASIF</th>\n",
       "      <th>REGION</th>\n",
       "      <th>ZONAR</th>\n",
       "      <th>DS_VNDDOR</th>\n",
       "      <th>CANTID</th>\n",
       "      <th>IMPORT</th>\n",
       "      <th>PCTBFN</th>\n",
       "      <th>TIPPRO</th>\n",
       "      <th>ARTCOD</th>\n",
       "      <th>DS_ARTCOD</th>\n",
       "      <th>CANAL</th>\n",
       "      <th>REPRES</th>\n",
       "      <th>NEGOCI</th>\n",
       "      <th>SEGMEN</th>\n",
       "      <th>SUBSEG</th>\n",
       "    </tr>\n",
       "  </thead>\n",
       "  <tbody>\n",
       "    <tr>\n",
       "      <th>0</th>\n",
       "      <td>GBA Sur</td>\n",
       "      <td>NC0000</td>\n",
       "      <td>2020-01-02 00:00:00.000</td>\n",
       "      <td>I00794</td>\n",
       "      <td>SILVA IMPORTACIONES S.A.</td>\n",
       "      <td>Cliente C (resto de los clientes)</td>\n",
       "      <td>GBA</td>\n",
       "      <td>GBASUR</td>\n",
       "      <td>Juan Jose Gutemberg</td>\n",
       "      <td>-1.0</td>\n",
       "      <td>-6802.29</td>\n",
       "      <td>0.0</td>\n",
       "      <td>PT</td>\n",
       "      <td>VTI01350M</td>\n",
       "      <td>(NO USAR, DISCONTINUADO) Taladro inalambrico 1...</td>\n",
       "      <td>HERRAMIENTAS ELECTRICAS</td>\n",
       "      <td>TOTAL</td>\n",
       "      <td>HERRAMIENTAS</td>\n",
       "      <td>INALAMBRICAS</td>\n",
       "      <td>18V</td>\n",
       "    </tr>\n",
       "    <tr>\n",
       "      <th>1</th>\n",
       "      <td>PATAGONIA (Neuquen/Rio Negro/Chubut/Santa Cruz...</td>\n",
       "      <td>NC0000</td>\n",
       "      <td>2020-01-02 00:00:00.000</td>\n",
       "      <td>I00631</td>\n",
       "      <td>SEPULVEDA JUAN MANUEL</td>\n",
       "      <td>Cliente C (resto de los clientes)</td>\n",
       "      <td>NEUQUEN</td>\n",
       "      <td>NEUQUEN</td>\n",
       "      <td>Martin Mere</td>\n",
       "      <td>-12.0</td>\n",
       "      <td>-1884.02</td>\n",
       "      <td>0.0</td>\n",
       "      <td>PT</td>\n",
       "      <td>XAR030300</td>\n",
       "      <td>Acople rapido 1/2`` para riego TOTAL THWS030301</td>\n",
       "      <td>HERRAMIENTAS MANUALES</td>\n",
       "      <td>TOTAL</td>\n",
       "      <td>HERRAMIENTAS</td>\n",
       "      <td>MANUALES</td>\n",
       "      <td>Poda</td>\n",
       "    </tr>\n",
       "    <tr>\n",
       "      <th>2</th>\n",
       "      <td>GBA Norte</td>\n",
       "      <td>NC0000</td>\n",
       "      <td>2020-01-03 00:00:00.000</td>\n",
       "      <td>I01101</td>\n",
       "      <td>DECKER DIEGO ROBERTO</td>\n",
       "      <td>Cliente C (resto de los clientes)</td>\n",
       "      <td>GBA</td>\n",
       "      <td>GBANOR</td>\n",
       "      <td>CARLOS MICELI</td>\n",
       "      <td>-1.0</td>\n",
       "      <td>-1310.52</td>\n",
       "      <td>0.0</td>\n",
       "      <td>PT</td>\n",
       "      <td>XLS003700</td>\n",
       "      <td>Llave Sueca 1-1/2´´ TOTAL THT172151</td>\n",
       "      <td>HERRAMIENTAS MANUALES</td>\n",
       "      <td>TOTAL</td>\n",
       "      <td>HERRAMIENTAS</td>\n",
       "      <td>MANUALES</td>\n",
       "      <td>Llaves de Caño</td>\n",
       "    </tr>\n",
       "    <tr>\n",
       "      <th>3</th>\n",
       "      <td>GBA Norte</td>\n",
       "      <td>NC0000</td>\n",
       "      <td>2020-01-03 00:00:00.000</td>\n",
       "      <td>I01101</td>\n",
       "      <td>DECKER DIEGO ROBERTO</td>\n",
       "      <td>Cliente C (resto de los clientes)</td>\n",
       "      <td>GBA</td>\n",
       "      <td>GBANOR</td>\n",
       "      <td>CARLOS MICELI</td>\n",
       "      <td>-2.0</td>\n",
       "      <td>-899.01</td>\n",
       "      <td>0.0</td>\n",
       "      <td>PT</td>\n",
       "      <td>XTQI01580</td>\n",
       "      <td>Llave cricket158mm INDUSTRIAL TOTAL  THT106146</td>\n",
       "      <td>HERRAMIENTAS MANUALES</td>\n",
       "      <td>TOTAL</td>\n",
       "      <td>HERRAMIENTAS</td>\n",
       "      <td>MANUALES</td>\n",
       "      <td>Llaves</td>\n",
       "    </tr>\n",
       "    <tr>\n",
       "      <th>4</th>\n",
       "      <td>GBA Norte</td>\n",
       "      <td>NC0000</td>\n",
       "      <td>2020-01-03 00:00:00.000</td>\n",
       "      <td>I01101</td>\n",
       "      <td>DECKER DIEGO ROBERTO</td>\n",
       "      <td>Cliente C (resto de los clientes)</td>\n",
       "      <td>GBA</td>\n",
       "      <td>GBANOR</td>\n",
       "      <td>CARLOS MICELI</td>\n",
       "      <td>-2.0</td>\n",
       "      <td>-1479.87</td>\n",
       "      <td>0.0</td>\n",
       "      <td>PT</td>\n",
       "      <td>XTQI02600</td>\n",
       "      <td>Llave cricket 260mm INDUSTRIAL TOTAL  THT106126</td>\n",
       "      <td>HERRAMIENTAS MANUALES</td>\n",
       "      <td>TOTAL</td>\n",
       "      <td>HERRAMIENTAS</td>\n",
       "      <td>MANUALES</td>\n",
       "      <td>Bocallaves y accesorios</td>\n",
       "    </tr>\n",
       "  </tbody>\n",
       "</table>\n",
       "</div>"
      ],
      "text/plain": [
       "                                           DS_CODZON  CODCOM  \\\n",
       "0                                            GBA Sur  NC0000   \n",
       "1  PATAGONIA (Neuquen/Rio Negro/Chubut/Santa Cruz...  NC0000   \n",
       "2                                          GBA Norte  NC0000   \n",
       "3                                          GBA Norte  NC0000   \n",
       "4                                          GBA Norte  NC0000   \n",
       "\n",
       "                    FCHMOV  NROCTA                 DS_NROCTA  \\\n",
       "0  2020-01-02 00:00:00.000  I00794  SILVA IMPORTACIONES S.A.   \n",
       "1  2020-01-02 00:00:00.000  I00631     SEPULVEDA JUAN MANUEL   \n",
       "2  2020-01-03 00:00:00.000  I01101      DECKER DIEGO ROBERTO   \n",
       "3  2020-01-03 00:00:00.000  I01101      DECKER DIEGO ROBERTO   \n",
       "4  2020-01-03 00:00:00.000  I01101      DECKER DIEGO ROBERTO   \n",
       "\n",
       "                              CLASIF   REGION    ZONAR            DS_VNDDOR  \\\n",
       "0  Cliente C (resto de los clientes)      GBA   GBASUR  Juan Jose Gutemberg   \n",
       "1  Cliente C (resto de los clientes)  NEUQUEN  NEUQUEN          Martin Mere   \n",
       "2  Cliente C (resto de los clientes)      GBA   GBANOR        CARLOS MICELI   \n",
       "3  Cliente C (resto de los clientes)      GBA   GBANOR        CARLOS MICELI   \n",
       "4  Cliente C (resto de los clientes)      GBA   GBANOR        CARLOS MICELI   \n",
       "\n",
       "   CANTID   IMPORT  PCTBFN  TIPPRO     ARTCOD  \\\n",
       "0    -1.0 -6802.29     0.0  PT      VTI01350M   \n",
       "1   -12.0 -1884.02     0.0  PT      XAR030300   \n",
       "2    -1.0 -1310.52     0.0  PT      XLS003700   \n",
       "3    -2.0  -899.01     0.0  PT      XTQI01580   \n",
       "4    -2.0 -1479.87     0.0  PT      XTQI02600   \n",
       "\n",
       "                                           DS_ARTCOD                    CANAL  \\\n",
       "0  (NO USAR, DISCONTINUADO) Taladro inalambrico 1...  HERRAMIENTAS ELECTRICAS   \n",
       "1    Acople rapido 1/2`` para riego TOTAL THWS030301    HERRAMIENTAS MANUALES   \n",
       "2                Llave Sueca 1-1/2´´ TOTAL THT172151    HERRAMIENTAS MANUALES   \n",
       "3     Llave cricket158mm INDUSTRIAL TOTAL  THT106146    HERRAMIENTAS MANUALES   \n",
       "4    Llave cricket 260mm INDUSTRIAL TOTAL  THT106126    HERRAMIENTAS MANUALES   \n",
       "\n",
       "  REPRES        NEGOCI        SEGMEN                   SUBSEG  \n",
       "0  TOTAL  HERRAMIENTAS  INALAMBRICAS                      18V  \n",
       "1  TOTAL  HERRAMIENTAS      MANUALES                     Poda  \n",
       "2  TOTAL  HERRAMIENTAS      MANUALES           Llaves de Caño  \n",
       "3  TOTAL  HERRAMIENTAS      MANUALES                   Llaves  \n",
       "4  TOTAL  HERRAMIENTAS      MANUALES  Bocallaves y accesorios  "
      ]
     },
     "execution_count": 3,
     "metadata": {},
     "output_type": "execute_result"
    }
   ],
   "source": [
    "#Completar\n",
    "df_ventas = pd.read_csv('./files/HistoricoVentas.csv', sep=';')\n",
    "df_ventas.head()"
   ]
  },
  {
   "cell_type": "code",
   "execution_count": 4,
   "metadata": {
    "colab": {
     "base_uri": "https://localhost:8080/"
    },
    "executionInfo": {
     "elapsed": 637,
     "status": "ok",
     "timestamp": 1647814888993,
     "user": {
      "displayName": "Aldo Sanchez",
      "photoUrl": "https://lh3.googleusercontent.com/a-/AOh14Gh9nuHrD0W0qzkY1uSTrV0AunQZ4sV8azTLASIj=s64",
      "userId": "00522355467807237656"
     },
     "user_tz": 180
    },
    "id": "XPLIaKbtv---",
    "outputId": "2bf64b44-0415-4c2e-ca28-599a34932226"
   },
   "outputs": [
    {
     "data": {
      "text/plain": [
       "(127918, 20)"
      ]
     },
     "execution_count": 4,
     "metadata": {},
     "output_type": "execute_result"
    }
   ],
   "source": [
    "#Shape del dataframe\n",
    "df_ventas.shape"
   ]
  },
  {
   "cell_type": "code",
   "execution_count": 5,
   "metadata": {
    "colab": {
     "base_uri": "https://localhost:8080/"
    },
    "executionInfo": {
     "elapsed": 528,
     "status": "ok",
     "timestamp": 1647814897846,
     "user": {
      "displayName": "Aldo Sanchez",
      "photoUrl": "https://lh3.googleusercontent.com/a-/AOh14Gh9nuHrD0W0qzkY1uSTrV0AunQZ4sV8azTLASIj=s64",
      "userId": "00522355467807237656"
     },
     "user_tz": 180
    },
    "id": "nLflXhfuw_RW",
    "outputId": "7a1f3814-0a1a-435f-8285-cc0365db6dd1"
   },
   "outputs": [
    {
     "data": {
      "text/plain": [
       "DS_CODZON     object\n",
       "CODCOM        object\n",
       "FCHMOV        object\n",
       "NROCTA        object\n",
       "DS_NROCTA     object\n",
       "CLASIF        object\n",
       "REGION        object\n",
       "ZONAR         object\n",
       "DS_VNDDOR     object\n",
       "CANTID       float64\n",
       "IMPORT       float64\n",
       "PCTBFN       float64\n",
       "TIPPRO        object\n",
       "ARTCOD        object\n",
       "DS_ARTCOD     object\n",
       "CANAL         object\n",
       "REPRES        object\n",
       "NEGOCI        object\n",
       "SEGMEN        object\n",
       "SUBSEG        object\n",
       "dtype: object"
      ]
     },
     "execution_count": 5,
     "metadata": {},
     "output_type": "execute_result"
    }
   ],
   "source": [
    "#Tipos de datos que componen el df_ventas\n",
    "df_ventas.dtypes"
   ]
  },
  {
   "cell_type": "code",
   "execution_count": 6,
   "metadata": {
    "colab": {
     "base_uri": "https://localhost:8080/"
    },
    "executionInfo": {
     "elapsed": 515,
     "status": "ok",
     "timestamp": 1647814905192,
     "user": {
      "displayName": "Aldo Sanchez",
      "photoUrl": "https://lh3.googleusercontent.com/a-/AOh14Gh9nuHrD0W0qzkY1uSTrV0AunQZ4sV8azTLASIj=s64",
      "userId": "00522355467807237656"
     },
     "user_tz": 180
    },
    "id": "GlkAb2fnw_HG",
    "outputId": "11417b32-ec71-49b1-c935-67aba584304b"
   },
   "outputs": [
    {
     "data": {
      "text/plain": [
       "DS_CODZON    127918\n",
       "CODCOM       127918\n",
       "FCHMOV       127918\n",
       "NROCTA       127918\n",
       "DS_NROCTA    127918\n",
       "CLASIF       123739\n",
       "REGION       127918\n",
       "ZONAR        127918\n",
       "DS_VNDDOR    127918\n",
       "CANTID       127918\n",
       "IMPORT       127918\n",
       "PCTBFN       127918\n",
       "TIPPRO       127918\n",
       "ARTCOD       127918\n",
       "DS_ARTCOD    127918\n",
       "CANAL        126527\n",
       "REPRES       127918\n",
       "NEGOCI       127918\n",
       "SEGMEN       127918\n",
       "SUBSEG       127918\n",
       "dtype: int64"
      ]
     },
     "execution_count": 6,
     "metadata": {},
     "output_type": "execute_result"
    }
   ],
   "source": [
    "#Total de registros por columnas\n",
    "df_ventas.count()"
   ]
  },
  {
   "cell_type": "code",
   "execution_count": 7,
   "metadata": {
    "colab": {
     "base_uri": "https://localhost:8080/"
    },
    "executionInfo": {
     "elapsed": 6,
     "status": "ok",
     "timestamp": 1647814907480,
     "user": {
      "displayName": "Aldo Sanchez",
      "photoUrl": "https://lh3.googleusercontent.com/a-/AOh14Gh9nuHrD0W0qzkY1uSTrV0AunQZ4sV8azTLASIj=s64",
      "userId": "00522355467807237656"
     },
     "user_tz": 180
    },
    "id": "LS6H4pIdw-3v",
    "outputId": "90f1f88c-3b49-411a-d638-3fe0034044c0"
   },
   "outputs": [
    {
     "name": "stdout",
     "output_type": "stream",
     "text": [
      "<class 'pandas.core.frame.DataFrame'>\n",
      "RangeIndex: 127918 entries, 0 to 127917\n",
      "Data columns (total 20 columns):\n",
      " #   Column     Non-Null Count   Dtype  \n",
      "---  ------     --------------   -----  \n",
      " 0   DS_CODZON  127918 non-null  object \n",
      " 1   CODCOM     127918 non-null  object \n",
      " 2   FCHMOV     127918 non-null  object \n",
      " 3   NROCTA     127918 non-null  object \n",
      " 4   DS_NROCTA  127918 non-null  object \n",
      " 5   CLASIF     123739 non-null  object \n",
      " 6   REGION     127918 non-null  object \n",
      " 7   ZONAR      127918 non-null  object \n",
      " 8   DS_VNDDOR  127918 non-null  object \n",
      " 9   CANTID     127918 non-null  float64\n",
      " 10  IMPORT     127918 non-null  float64\n",
      " 11  PCTBFN     127918 non-null  float64\n",
      " 12  TIPPRO     127918 non-null  object \n",
      " 13  ARTCOD     127918 non-null  object \n",
      " 14  DS_ARTCOD  127918 non-null  object \n",
      " 15  CANAL      126527 non-null  object \n",
      " 16  REPRES     127918 non-null  object \n",
      " 17  NEGOCI     127918 non-null  object \n",
      " 18  SEGMEN     127918 non-null  object \n",
      " 19  SUBSEG     127918 non-null  object \n",
      "dtypes: float64(3), object(17)\n",
      "memory usage: 19.5+ MB\n"
     ]
    }
   ],
   "source": [
    "#Informacion de la estructura de df_ventas\n",
    "df_ventas.info()"
   ]
  },
  {
   "cell_type": "code",
   "execution_count": 4,
   "metadata": {
    "colab": {
     "base_uri": "https://localhost:8080/"
    },
    "executionInfo": {
     "elapsed": 466,
     "status": "ok",
     "timestamp": 1647824772890,
     "user": {
      "displayName": "Aldo Sanchez",
      "photoUrl": "https://lh3.googleusercontent.com/a-/AOh14Gh9nuHrD0W0qzkY1uSTrV0AunQZ4sV8azTLASIj=s64",
      "userId": "00522355467807237656"
     },
     "user_tz": 180
    },
    "id": "kcRVcHVbz3jT",
    "outputId": "d3ab01ae-f939-4b0f-cb01-68df61aa5b19"
   },
   "outputs": [
    {
     "data": {
      "text/plain": [
       "DS_CODZON            object\n",
       "CODCOM               object\n",
       "FCHMOV       datetime64[ns]\n",
       "NROCTA               object\n",
       "DS_NROCTA            object\n",
       "CLASIF               object\n",
       "REGION               object\n",
       "ZONAR                object\n",
       "DS_VNDDOR            object\n",
       "CANTID              float64\n",
       "IMPORT              float64\n",
       "PCTBFN              float64\n",
       "TIPPRO               object\n",
       "ARTCOD               object\n",
       "DS_ARTCOD            object\n",
       "CANAL                object\n",
       "REPRES               object\n",
       "NEGOCI               object\n",
       "SEGMEN               object\n",
       "SUBSEG               object\n",
       "dtype: object"
      ]
     },
     "execution_count": 4,
     "metadata": {},
     "output_type": "execute_result"
    }
   ],
   "source": [
    "df_ventas['FCHMOV'] = pd.to_datetime(df_ventas['FCHMOV']) #Se convierte columna de fecha de movimiento a fecha\n",
    "df_ventas.dtypes"
   ]
  },
  {
   "cell_type": "code",
   "execution_count": 5,
   "metadata": {
    "colab": {
     "base_uri": "https://localhost:8080/",
     "height": 595
    },
    "executionInfo": {
     "elapsed": 420,
     "status": "ok",
     "timestamp": 1647824819926,
     "user": {
      "displayName": "Aldo Sanchez",
      "photoUrl": "https://lh3.googleusercontent.com/a-/AOh14Gh9nuHrD0W0qzkY1uSTrV0AunQZ4sV8azTLASIj=s64",
      "userId": "00522355467807237656"
     },
     "user_tz": 180
    },
    "id": "M1U-nV4SxPIn",
    "outputId": "64ee779b-ff72-4c47-88e7-0d3437b388bf"
   },
   "outputs": [
    {
     "data": {
      "text/html": [
       "<div>\n",
       "<style scoped>\n",
       "    .dataframe tbody tr th:only-of-type {\n",
       "        vertical-align: middle;\n",
       "    }\n",
       "\n",
       "    .dataframe tbody tr th {\n",
       "        vertical-align: top;\n",
       "    }\n",
       "\n",
       "    .dataframe thead th {\n",
       "        text-align: right;\n",
       "    }\n",
       "</style>\n",
       "<table border=\"1\" class=\"dataframe\">\n",
       "  <thead>\n",
       "    <tr style=\"text-align: right;\">\n",
       "      <th></th>\n",
       "      <th>DS_CODZON</th>\n",
       "      <th>CODCOM</th>\n",
       "      <th>FCHMOV</th>\n",
       "      <th>NROCTA</th>\n",
       "      <th>DS_NROCTA</th>\n",
       "      <th>CLASIF</th>\n",
       "      <th>REGION</th>\n",
       "      <th>ZONAR</th>\n",
       "      <th>DS_VNDDOR</th>\n",
       "      <th>CANTID</th>\n",
       "      <th>...</th>\n",
       "      <th>DS_ARTCOD</th>\n",
       "      <th>CANAL</th>\n",
       "      <th>REPRES</th>\n",
       "      <th>NEGOCI</th>\n",
       "      <th>SEGMEN</th>\n",
       "      <th>SUBSEG</th>\n",
       "      <th>Anio</th>\n",
       "      <th>Mes</th>\n",
       "      <th>Periodo</th>\n",
       "      <th>PRECIO</th>\n",
       "    </tr>\n",
       "  </thead>\n",
       "  <tbody>\n",
       "    <tr>\n",
       "      <th>0</th>\n",
       "      <td>GBA Sur</td>\n",
       "      <td>NC0000</td>\n",
       "      <td>2020-01-02</td>\n",
       "      <td>I00794</td>\n",
       "      <td>SILVA IMPORTACIONES S.A.</td>\n",
       "      <td>Cliente C (resto de los clientes)</td>\n",
       "      <td>GBA</td>\n",
       "      <td>GBASUR</td>\n",
       "      <td>Juan Jose Gutemberg</td>\n",
       "      <td>-1.0</td>\n",
       "      <td>...</td>\n",
       "      <td>(NO USAR, DISCONTINUADO) Taladro inalambrico 1...</td>\n",
       "      <td>HERRAMIENTAS ELECTRICAS</td>\n",
       "      <td>TOTAL</td>\n",
       "      <td>HERRAMIENTAS</td>\n",
       "      <td>INALAMBRICAS</td>\n",
       "      <td>18V</td>\n",
       "      <td>2020</td>\n",
       "      <td>1</td>\n",
       "      <td>20201</td>\n",
       "      <td>6802.29</td>\n",
       "    </tr>\n",
       "    <tr>\n",
       "      <th>1</th>\n",
       "      <td>PATAGONIA (Neuquen/Rio Negro/Chubut/Santa Cruz...</td>\n",
       "      <td>NC0000</td>\n",
       "      <td>2020-01-02</td>\n",
       "      <td>I00631</td>\n",
       "      <td>SEPULVEDA JUAN MANUEL</td>\n",
       "      <td>Cliente C (resto de los clientes)</td>\n",
       "      <td>NEUQUEN</td>\n",
       "      <td>NEUQUEN</td>\n",
       "      <td>Martin Mere</td>\n",
       "      <td>-12.0</td>\n",
       "      <td>...</td>\n",
       "      <td>Acople rapido 1/2`` para riego TOTAL THWS030301</td>\n",
       "      <td>HERRAMIENTAS MANUALES</td>\n",
       "      <td>TOTAL</td>\n",
       "      <td>HERRAMIENTAS</td>\n",
       "      <td>MANUALES</td>\n",
       "      <td>Poda</td>\n",
       "      <td>2020</td>\n",
       "      <td>1</td>\n",
       "      <td>20201</td>\n",
       "      <td>157.00</td>\n",
       "    </tr>\n",
       "    <tr>\n",
       "      <th>2</th>\n",
       "      <td>GBA Norte</td>\n",
       "      <td>NC0000</td>\n",
       "      <td>2020-01-03</td>\n",
       "      <td>I01101</td>\n",
       "      <td>DECKER DIEGO ROBERTO</td>\n",
       "      <td>Cliente C (resto de los clientes)</td>\n",
       "      <td>GBA</td>\n",
       "      <td>GBANOR</td>\n",
       "      <td>CARLOS MICELI</td>\n",
       "      <td>-1.0</td>\n",
       "      <td>...</td>\n",
       "      <td>Llave Sueca 1-1/2´´ TOTAL THT172151</td>\n",
       "      <td>HERRAMIENTAS MANUALES</td>\n",
       "      <td>TOTAL</td>\n",
       "      <td>HERRAMIENTAS</td>\n",
       "      <td>MANUALES</td>\n",
       "      <td>Llaves de Caño</td>\n",
       "      <td>2020</td>\n",
       "      <td>1</td>\n",
       "      <td>20201</td>\n",
       "      <td>1310.52</td>\n",
       "    </tr>\n",
       "    <tr>\n",
       "      <th>3</th>\n",
       "      <td>GBA Norte</td>\n",
       "      <td>NC0000</td>\n",
       "      <td>2020-01-03</td>\n",
       "      <td>I01101</td>\n",
       "      <td>DECKER DIEGO ROBERTO</td>\n",
       "      <td>Cliente C (resto de los clientes)</td>\n",
       "      <td>GBA</td>\n",
       "      <td>GBANOR</td>\n",
       "      <td>CARLOS MICELI</td>\n",
       "      <td>-2.0</td>\n",
       "      <td>...</td>\n",
       "      <td>Llave cricket158mm INDUSTRIAL TOTAL  THT106146</td>\n",
       "      <td>HERRAMIENTAS MANUALES</td>\n",
       "      <td>TOTAL</td>\n",
       "      <td>HERRAMIENTAS</td>\n",
       "      <td>MANUALES</td>\n",
       "      <td>Llaves</td>\n",
       "      <td>2020</td>\n",
       "      <td>1</td>\n",
       "      <td>20201</td>\n",
       "      <td>449.50</td>\n",
       "    </tr>\n",
       "    <tr>\n",
       "      <th>4</th>\n",
       "      <td>GBA Norte</td>\n",
       "      <td>NC0000</td>\n",
       "      <td>2020-01-03</td>\n",
       "      <td>I01101</td>\n",
       "      <td>DECKER DIEGO ROBERTO</td>\n",
       "      <td>Cliente C (resto de los clientes)</td>\n",
       "      <td>GBA</td>\n",
       "      <td>GBANOR</td>\n",
       "      <td>CARLOS MICELI</td>\n",
       "      <td>-2.0</td>\n",
       "      <td>...</td>\n",
       "      <td>Llave cricket 260mm INDUSTRIAL TOTAL  THT106126</td>\n",
       "      <td>HERRAMIENTAS MANUALES</td>\n",
       "      <td>TOTAL</td>\n",
       "      <td>HERRAMIENTAS</td>\n",
       "      <td>MANUALES</td>\n",
       "      <td>Bocallaves y accesorios</td>\n",
       "      <td>2020</td>\n",
       "      <td>1</td>\n",
       "      <td>20201</td>\n",
       "      <td>739.94</td>\n",
       "    </tr>\n",
       "  </tbody>\n",
       "</table>\n",
       "<p>5 rows × 24 columns</p>\n",
       "</div>"
      ],
      "text/plain": [
       "                                           DS_CODZON  CODCOM     FCHMOV  \\\n",
       "0                                            GBA Sur  NC0000 2020-01-02   \n",
       "1  PATAGONIA (Neuquen/Rio Negro/Chubut/Santa Cruz...  NC0000 2020-01-02   \n",
       "2                                          GBA Norte  NC0000 2020-01-03   \n",
       "3                                          GBA Norte  NC0000 2020-01-03   \n",
       "4                                          GBA Norte  NC0000 2020-01-03   \n",
       "\n",
       "   NROCTA                 DS_NROCTA                             CLASIF  \\\n",
       "0  I00794  SILVA IMPORTACIONES S.A.  Cliente C (resto de los clientes)   \n",
       "1  I00631     SEPULVEDA JUAN MANUEL  Cliente C (resto de los clientes)   \n",
       "2  I01101      DECKER DIEGO ROBERTO  Cliente C (resto de los clientes)   \n",
       "3  I01101      DECKER DIEGO ROBERTO  Cliente C (resto de los clientes)   \n",
       "4  I01101      DECKER DIEGO ROBERTO  Cliente C (resto de los clientes)   \n",
       "\n",
       "    REGION    ZONAR            DS_VNDDOR  CANTID  ...  \\\n",
       "0      GBA   GBASUR  Juan Jose Gutemberg    -1.0  ...   \n",
       "1  NEUQUEN  NEUQUEN          Martin Mere   -12.0  ...   \n",
       "2      GBA   GBANOR        CARLOS MICELI    -1.0  ...   \n",
       "3      GBA   GBANOR        CARLOS MICELI    -2.0  ...   \n",
       "4      GBA   GBANOR        CARLOS MICELI    -2.0  ...   \n",
       "\n",
       "                                           DS_ARTCOD                    CANAL  \\\n",
       "0  (NO USAR, DISCONTINUADO) Taladro inalambrico 1...  HERRAMIENTAS ELECTRICAS   \n",
       "1    Acople rapido 1/2`` para riego TOTAL THWS030301    HERRAMIENTAS MANUALES   \n",
       "2                Llave Sueca 1-1/2´´ TOTAL THT172151    HERRAMIENTAS MANUALES   \n",
       "3     Llave cricket158mm INDUSTRIAL TOTAL  THT106146    HERRAMIENTAS MANUALES   \n",
       "4    Llave cricket 260mm INDUSTRIAL TOTAL  THT106126    HERRAMIENTAS MANUALES   \n",
       "\n",
       "  REPRES        NEGOCI        SEGMEN                   SUBSEG  Anio Mes  \\\n",
       "0  TOTAL  HERRAMIENTAS  INALAMBRICAS                      18V  2020   1   \n",
       "1  TOTAL  HERRAMIENTAS      MANUALES                     Poda  2020   1   \n",
       "2  TOTAL  HERRAMIENTAS      MANUALES           Llaves de Caño  2020   1   \n",
       "3  TOTAL  HERRAMIENTAS      MANUALES                   Llaves  2020   1   \n",
       "4  TOTAL  HERRAMIENTAS      MANUALES  Bocallaves y accesorios  2020   1   \n",
       "\n",
       "  Periodo   PRECIO  \n",
       "0   20201  6802.29  \n",
       "1   20201   157.00  \n",
       "2   20201  1310.52  \n",
       "3   20201   449.50  \n",
       "4   20201   739.94  \n",
       "\n",
       "[5 rows x 24 columns]"
      ]
     },
     "execution_count": 5,
     "metadata": {},
     "output_type": "execute_result"
    }
   ],
   "source": [
    "#Generar dos columnas de periodo (Año y Mes) a partir de la fecha de venta\n",
    "df_ventas['Anio'] = df_ventas['FCHMOV'].dt.year \n",
    "df_ventas['Mes'] = df_ventas['FCHMOV'].dt.month\n",
    "df_ventas['Periodo'] = pd.to_numeric(df_ventas[\"Anio\"].apply(str) + df_ventas[\"Mes\"].apply(str))\n",
    "#Generar columna precio\n",
    "df_ventas['PRECIO'] = np.round(df_ventas['IMPORT']/df_ventas['CANTID'], decimals = 2) \n",
    "df_ventas.head()"
   ]
  },
  {
   "cell_type": "code",
   "execution_count": 6,
   "metadata": {
    "colab": {
     "base_uri": "https://localhost:8080/",
     "height": 595
    },
    "executionInfo": {
     "elapsed": 458,
     "status": "ok",
     "timestamp": 1647824825390,
     "user": {
      "displayName": "Aldo Sanchez",
      "photoUrl": "https://lh3.googleusercontent.com/a-/AOh14Gh9nuHrD0W0qzkY1uSTrV0AunQZ4sV8azTLASIj=s64",
      "userId": "00522355467807237656"
     },
     "user_tz": 180
    },
    "id": "IC4ltdzZy7tg",
    "outputId": "79553c74-db95-4f11-f55b-6c1334e3aa52"
   },
   "outputs": [
    {
     "data": {
      "text/html": [
       "<div>\n",
       "<style scoped>\n",
       "    .dataframe tbody tr th:only-of-type {\n",
       "        vertical-align: middle;\n",
       "    }\n",
       "\n",
       "    .dataframe tbody tr th {\n",
       "        vertical-align: top;\n",
       "    }\n",
       "\n",
       "    .dataframe thead th {\n",
       "        text-align: right;\n",
       "    }\n",
       "</style>\n",
       "<table border=\"1\" class=\"dataframe\">\n",
       "  <thead>\n",
       "    <tr style=\"text-align: right;\">\n",
       "      <th></th>\n",
       "      <th>DS_CODZON</th>\n",
       "      <th>CODCOM</th>\n",
       "      <th>FCHMOV</th>\n",
       "      <th>NROCTA</th>\n",
       "      <th>CLASIF</th>\n",
       "      <th>REGION</th>\n",
       "      <th>ZONAR</th>\n",
       "      <th>DS_VNDDOR</th>\n",
       "      <th>CANTID</th>\n",
       "      <th>IMPORT</th>\n",
       "      <th>...</th>\n",
       "      <th>DS_ARTCOD</th>\n",
       "      <th>CANAL</th>\n",
       "      <th>REPRES</th>\n",
       "      <th>NEGOCI</th>\n",
       "      <th>SEGMEN</th>\n",
       "      <th>SUBSEG</th>\n",
       "      <th>Anio</th>\n",
       "      <th>Mes</th>\n",
       "      <th>Periodo</th>\n",
       "      <th>PRECIO</th>\n",
       "    </tr>\n",
       "  </thead>\n",
       "  <tbody>\n",
       "    <tr>\n",
       "      <th>0</th>\n",
       "      <td>GBA Sur</td>\n",
       "      <td>NC0000</td>\n",
       "      <td>2020-01-02</td>\n",
       "      <td>I00794</td>\n",
       "      <td>Cliente C (resto de los clientes)</td>\n",
       "      <td>GBA</td>\n",
       "      <td>GBASUR</td>\n",
       "      <td>Juan Jose Gutemberg</td>\n",
       "      <td>-1.0</td>\n",
       "      <td>-6802.29</td>\n",
       "      <td>...</td>\n",
       "      <td>(NO USAR, DISCONTINUADO) Taladro inalambrico 1...</td>\n",
       "      <td>HERRAMIENTAS ELECTRICAS</td>\n",
       "      <td>TOTAL</td>\n",
       "      <td>HERRAMIENTAS</td>\n",
       "      <td>INALAMBRICAS</td>\n",
       "      <td>18V</td>\n",
       "      <td>2020</td>\n",
       "      <td>1</td>\n",
       "      <td>20201</td>\n",
       "      <td>6802.29</td>\n",
       "    </tr>\n",
       "    <tr>\n",
       "      <th>1</th>\n",
       "      <td>PATAGONIA (Neuquen/Rio Negro/Chubut/Santa Cruz...</td>\n",
       "      <td>NC0000</td>\n",
       "      <td>2020-01-02</td>\n",
       "      <td>I00631</td>\n",
       "      <td>Cliente C (resto de los clientes)</td>\n",
       "      <td>NEUQUEN</td>\n",
       "      <td>NEUQUEN</td>\n",
       "      <td>Martin Mere</td>\n",
       "      <td>-12.0</td>\n",
       "      <td>-1884.02</td>\n",
       "      <td>...</td>\n",
       "      <td>Acople rapido 1/2`` para riego TOTAL THWS030301</td>\n",
       "      <td>HERRAMIENTAS MANUALES</td>\n",
       "      <td>TOTAL</td>\n",
       "      <td>HERRAMIENTAS</td>\n",
       "      <td>MANUALES</td>\n",
       "      <td>Poda</td>\n",
       "      <td>2020</td>\n",
       "      <td>1</td>\n",
       "      <td>20201</td>\n",
       "      <td>157.00</td>\n",
       "    </tr>\n",
       "    <tr>\n",
       "      <th>2</th>\n",
       "      <td>GBA Norte</td>\n",
       "      <td>NC0000</td>\n",
       "      <td>2020-01-03</td>\n",
       "      <td>I01101</td>\n",
       "      <td>Cliente C (resto de los clientes)</td>\n",
       "      <td>GBA</td>\n",
       "      <td>GBANOR</td>\n",
       "      <td>CARLOS MICELI</td>\n",
       "      <td>-1.0</td>\n",
       "      <td>-1310.52</td>\n",
       "      <td>...</td>\n",
       "      <td>Llave Sueca 1-1/2´´ TOTAL THT172151</td>\n",
       "      <td>HERRAMIENTAS MANUALES</td>\n",
       "      <td>TOTAL</td>\n",
       "      <td>HERRAMIENTAS</td>\n",
       "      <td>MANUALES</td>\n",
       "      <td>Llaves de Caño</td>\n",
       "      <td>2020</td>\n",
       "      <td>1</td>\n",
       "      <td>20201</td>\n",
       "      <td>1310.52</td>\n",
       "    </tr>\n",
       "    <tr>\n",
       "      <th>3</th>\n",
       "      <td>GBA Norte</td>\n",
       "      <td>NC0000</td>\n",
       "      <td>2020-01-03</td>\n",
       "      <td>I01101</td>\n",
       "      <td>Cliente C (resto de los clientes)</td>\n",
       "      <td>GBA</td>\n",
       "      <td>GBANOR</td>\n",
       "      <td>CARLOS MICELI</td>\n",
       "      <td>-2.0</td>\n",
       "      <td>-899.01</td>\n",
       "      <td>...</td>\n",
       "      <td>Llave cricket158mm INDUSTRIAL TOTAL  THT106146</td>\n",
       "      <td>HERRAMIENTAS MANUALES</td>\n",
       "      <td>TOTAL</td>\n",
       "      <td>HERRAMIENTAS</td>\n",
       "      <td>MANUALES</td>\n",
       "      <td>Llaves</td>\n",
       "      <td>2020</td>\n",
       "      <td>1</td>\n",
       "      <td>20201</td>\n",
       "      <td>449.50</td>\n",
       "    </tr>\n",
       "    <tr>\n",
       "      <th>4</th>\n",
       "      <td>GBA Norte</td>\n",
       "      <td>NC0000</td>\n",
       "      <td>2020-01-03</td>\n",
       "      <td>I01101</td>\n",
       "      <td>Cliente C (resto de los clientes)</td>\n",
       "      <td>GBA</td>\n",
       "      <td>GBANOR</td>\n",
       "      <td>CARLOS MICELI</td>\n",
       "      <td>-2.0</td>\n",
       "      <td>-1479.87</td>\n",
       "      <td>...</td>\n",
       "      <td>Llave cricket 260mm INDUSTRIAL TOTAL  THT106126</td>\n",
       "      <td>HERRAMIENTAS MANUALES</td>\n",
       "      <td>TOTAL</td>\n",
       "      <td>HERRAMIENTAS</td>\n",
       "      <td>MANUALES</td>\n",
       "      <td>Bocallaves y accesorios</td>\n",
       "      <td>2020</td>\n",
       "      <td>1</td>\n",
       "      <td>20201</td>\n",
       "      <td>739.94</td>\n",
       "    </tr>\n",
       "  </tbody>\n",
       "</table>\n",
       "<p>5 rows × 23 columns</p>\n",
       "</div>"
      ],
      "text/plain": [
       "                                           DS_CODZON  CODCOM     FCHMOV  \\\n",
       "0                                            GBA Sur  NC0000 2020-01-02   \n",
       "1  PATAGONIA (Neuquen/Rio Negro/Chubut/Santa Cruz...  NC0000 2020-01-02   \n",
       "2                                          GBA Norte  NC0000 2020-01-03   \n",
       "3                                          GBA Norte  NC0000 2020-01-03   \n",
       "4                                          GBA Norte  NC0000 2020-01-03   \n",
       "\n",
       "   NROCTA                             CLASIF   REGION    ZONAR  \\\n",
       "0  I00794  Cliente C (resto de los clientes)      GBA   GBASUR   \n",
       "1  I00631  Cliente C (resto de los clientes)  NEUQUEN  NEUQUEN   \n",
       "2  I01101  Cliente C (resto de los clientes)      GBA   GBANOR   \n",
       "3  I01101  Cliente C (resto de los clientes)      GBA   GBANOR   \n",
       "4  I01101  Cliente C (resto de los clientes)      GBA   GBANOR   \n",
       "\n",
       "             DS_VNDDOR  CANTID   IMPORT  ...  \\\n",
       "0  Juan Jose Gutemberg    -1.0 -6802.29  ...   \n",
       "1          Martin Mere   -12.0 -1884.02  ...   \n",
       "2        CARLOS MICELI    -1.0 -1310.52  ...   \n",
       "3        CARLOS MICELI    -2.0  -899.01  ...   \n",
       "4        CARLOS MICELI    -2.0 -1479.87  ...   \n",
       "\n",
       "                                           DS_ARTCOD                    CANAL  \\\n",
       "0  (NO USAR, DISCONTINUADO) Taladro inalambrico 1...  HERRAMIENTAS ELECTRICAS   \n",
       "1    Acople rapido 1/2`` para riego TOTAL THWS030301    HERRAMIENTAS MANUALES   \n",
       "2                Llave Sueca 1-1/2´´ TOTAL THT172151    HERRAMIENTAS MANUALES   \n",
       "3     Llave cricket158mm INDUSTRIAL TOTAL  THT106146    HERRAMIENTAS MANUALES   \n",
       "4    Llave cricket 260mm INDUSTRIAL TOTAL  THT106126    HERRAMIENTAS MANUALES   \n",
       "\n",
       "  REPRES        NEGOCI        SEGMEN                   SUBSEG  Anio Mes  \\\n",
       "0  TOTAL  HERRAMIENTAS  INALAMBRICAS                      18V  2020   1   \n",
       "1  TOTAL  HERRAMIENTAS      MANUALES                     Poda  2020   1   \n",
       "2  TOTAL  HERRAMIENTAS      MANUALES           Llaves de Caño  2020   1   \n",
       "3  TOTAL  HERRAMIENTAS      MANUALES                   Llaves  2020   1   \n",
       "4  TOTAL  HERRAMIENTAS      MANUALES  Bocallaves y accesorios  2020   1   \n",
       "\n",
       "  Periodo   PRECIO  \n",
       "0   20201  6802.29  \n",
       "1   20201   157.00  \n",
       "2   20201  1310.52  \n",
       "3   20201   449.50  \n",
       "4   20201   739.94  \n",
       "\n",
       "[5 rows x 23 columns]"
      ]
     },
     "execution_count": 6,
     "metadata": {},
     "output_type": "execute_result"
    }
   ],
   "source": [
    "#Eliminar la columna nombre del Cliente y PCTBFN\n",
    "df_ventas = df_ventas.drop(columns=['DS_NROCTA'])\n",
    "## df_ventas = df_ventas.drop(columns=['PCTBFN']) no la eliminaría en principio por si hay una relación entre el % de descuento aplicado y la cantidad comprada\n",
    "df_ventas.head()"
   ]
  },
  {
   "cell_type": "code",
   "execution_count": 11,
   "metadata": {
    "colab": {
     "base_uri": "https://localhost:8080/",
     "height": 206
    },
    "executionInfo": {
     "elapsed": 438,
     "status": "ok",
     "timestamp": 1647824830623,
     "user": {
      "displayName": "Aldo Sanchez",
      "photoUrl": "https://lh3.googleusercontent.com/a-/AOh14Gh9nuHrD0W0qzkY1uSTrV0AunQZ4sV8azTLASIj=s64",
      "userId": "00522355467807237656"
     },
     "user_tz": 180
    },
    "id": "nQEh0a7b07mw",
    "outputId": "43394d90-9c50-4674-fe6f-dc4a9f833f33"
   },
   "outputs": [
    {
     "data": {
      "text/html": [
       "<div>\n",
       "<style scoped>\n",
       "    .dataframe tbody tr th:only-of-type {\n",
       "        vertical-align: middle;\n",
       "    }\n",
       "\n",
       "    .dataframe tbody tr th {\n",
       "        vertical-align: top;\n",
       "    }\n",
       "\n",
       "    .dataframe thead th {\n",
       "        text-align: right;\n",
       "    }\n",
       "</style>\n",
       "<table border=\"1\" class=\"dataframe\">\n",
       "  <thead>\n",
       "    <tr style=\"text-align: right;\">\n",
       "      <th></th>\n",
       "      <th>Region</th>\n",
       "    </tr>\n",
       "  </thead>\n",
       "  <tbody>\n",
       "    <tr>\n",
       "      <th>0</th>\n",
       "      <td>GBA</td>\n",
       "    </tr>\n",
       "    <tr>\n",
       "      <th>1</th>\n",
       "      <td>NEUQUEN</td>\n",
       "    </tr>\n",
       "    <tr>\n",
       "      <th>2</th>\n",
       "      <td>BSAS</td>\n",
       "    </tr>\n",
       "    <tr>\n",
       "      <th>3</th>\n",
       "      <td>CABA</td>\n",
       "    </tr>\n",
       "    <tr>\n",
       "      <th>4</th>\n",
       "      <td>STAFE</td>\n",
       "    </tr>\n",
       "  </tbody>\n",
       "</table>\n",
       "</div>"
      ],
      "text/plain": [
       "    Region\n",
       "0      GBA\n",
       "1  NEUQUEN\n",
       "2     BSAS\n",
       "3     CABA\n",
       "4    STAFE"
      ]
     },
     "execution_count": 11,
     "metadata": {},
     "output_type": "execute_result"
    }
   ],
   "source": [
    "#Creacion de tablas auxiliares para convertir variables categoricas en numericas\"\n",
    "#Regiones\n",
    "region = df_ventas['REGION'].unique()\n",
    "df_region = pd.DataFrame(region, columns= [\"Region\"])\n",
    "df_region.head()"
   ]
  },
  {
   "cell_type": "code",
   "execution_count": 12,
   "metadata": {
    "colab": {
     "base_uri": "https://localhost:8080/",
     "height": 206
    },
    "executionInfo": {
     "elapsed": 428,
     "status": "ok",
     "timestamp": 1647824832791,
     "user": {
      "displayName": "Aldo Sanchez",
      "photoUrl": "https://lh3.googleusercontent.com/a-/AOh14Gh9nuHrD0W0qzkY1uSTrV0AunQZ4sV8azTLASIj=s64",
      "userId": "00522355467807237656"
     },
     "user_tz": 180
    },
    "id": "YCz75DCM8Re6",
    "outputId": "484aa24b-1073-41a8-fd90-865fa3220d11"
   },
   "outputs": [
    {
     "data": {
      "text/html": [
       "<div>\n",
       "<style scoped>\n",
       "    .dataframe tbody tr th:only-of-type {\n",
       "        vertical-align: middle;\n",
       "    }\n",
       "\n",
       "    .dataframe tbody tr th {\n",
       "        vertical-align: top;\n",
       "    }\n",
       "\n",
       "    .dataframe thead th {\n",
       "        text-align: right;\n",
       "    }\n",
       "</style>\n",
       "<table border=\"1\" class=\"dataframe\">\n",
       "  <thead>\n",
       "    <tr style=\"text-align: right;\">\n",
       "      <th></th>\n",
       "      <th>Zona</th>\n",
       "    </tr>\n",
       "  </thead>\n",
       "  <tbody>\n",
       "    <tr>\n",
       "      <th>0</th>\n",
       "      <td>GBASUR</td>\n",
       "    </tr>\n",
       "    <tr>\n",
       "      <th>1</th>\n",
       "      <td>NEUQUEN</td>\n",
       "    </tr>\n",
       "    <tr>\n",
       "      <th>2</th>\n",
       "      <td>GBANOR</td>\n",
       "    </tr>\n",
       "    <tr>\n",
       "      <th>3</th>\n",
       "      <td>BSASCO</td>\n",
       "    </tr>\n",
       "    <tr>\n",
       "      <th>4</th>\n",
       "      <td>CABA1</td>\n",
       "    </tr>\n",
       "  </tbody>\n",
       "</table>\n",
       "</div>"
      ],
      "text/plain": [
       "      Zona\n",
       "0   GBASUR\n",
       "1  NEUQUEN\n",
       "2   GBANOR\n",
       "3   BSASCO\n",
       "4    CABA1"
      ]
     },
     "execution_count": 12,
     "metadata": {},
     "output_type": "execute_result"
    }
   ],
   "source": [
    "#Zonas\n",
    "zona = df_ventas['ZONAR'].unique()\n",
    "df_zona = pd.DataFrame(zona, columns= [\"Zona\"])\n",
    "df_zona.head()"
   ]
  },
  {
   "cell_type": "code",
   "execution_count": 13,
   "metadata": {
    "colab": {
     "base_uri": "https://localhost:8080/",
     "height": 206
    },
    "executionInfo": {
     "elapsed": 409,
     "status": "ok",
     "timestamp": 1647824834724,
     "user": {
      "displayName": "Aldo Sanchez",
      "photoUrl": "https://lh3.googleusercontent.com/a-/AOh14Gh9nuHrD0W0qzkY1uSTrV0AunQZ4sV8azTLASIj=s64",
      "userId": "00522355467807237656"
     },
     "user_tz": 180
    },
    "id": "wrbCstGK8yAq",
    "outputId": "0b461f5e-a647-47ce-a7aa-bed2aadd7154"
   },
   "outputs": [
    {
     "data": {
      "text/html": [
       "<div>\n",
       "<style scoped>\n",
       "    .dataframe tbody tr th:only-of-type {\n",
       "        vertical-align: middle;\n",
       "    }\n",
       "\n",
       "    .dataframe tbody tr th {\n",
       "        vertical-align: top;\n",
       "    }\n",
       "\n",
       "    .dataframe thead th {\n",
       "        text-align: right;\n",
       "    }\n",
       "</style>\n",
       "<table border=\"1\" class=\"dataframe\">\n",
       "  <thead>\n",
       "    <tr style=\"text-align: right;\">\n",
       "      <th></th>\n",
       "      <th>Canal</th>\n",
       "    </tr>\n",
       "  </thead>\n",
       "  <tbody>\n",
       "    <tr>\n",
       "      <th>0</th>\n",
       "      <td>HERRAMIENTAS ELECTRICAS</td>\n",
       "    </tr>\n",
       "    <tr>\n",
       "      <th>1</th>\n",
       "      <td>HERRAMIENTAS MANUALES</td>\n",
       "    </tr>\n",
       "    <tr>\n",
       "      <th>2</th>\n",
       "      <td>BOMBAS INDUSTRIALES</td>\n",
       "    </tr>\n",
       "    <tr>\n",
       "      <th>3</th>\n",
       "      <td>BOMBAS DOMESTICAS</td>\n",
       "    </tr>\n",
       "    <tr>\n",
       "      <th>4</th>\n",
       "      <td>MAQUINAS</td>\n",
       "    </tr>\n",
       "  </tbody>\n",
       "</table>\n",
       "</div>"
      ],
      "text/plain": [
       "                     Canal\n",
       "0  HERRAMIENTAS ELECTRICAS\n",
       "1    HERRAMIENTAS MANUALES\n",
       "2      BOMBAS INDUSTRIALES\n",
       "3        BOMBAS DOMESTICAS\n",
       "4                 MAQUINAS"
      ]
     },
     "execution_count": 13,
     "metadata": {},
     "output_type": "execute_result"
    }
   ],
   "source": [
    "#Canales\n",
    "canal = df_ventas['CANAL'].unique()\n",
    "df_canal = pd.DataFrame(canal, columns= [\"Canal\"])\n",
    "df_canal.head()"
   ]
  },
  {
   "cell_type": "code",
   "execution_count": 14,
   "metadata": {
    "colab": {
     "base_uri": "https://localhost:8080/",
     "height": 206
    },
    "executionInfo": {
     "elapsed": 511,
     "status": "ok",
     "timestamp": 1647824836512,
     "user": {
      "displayName": "Aldo Sanchez",
      "photoUrl": "https://lh3.googleusercontent.com/a-/AOh14Gh9nuHrD0W0qzkY1uSTrV0AunQZ4sV8azTLASIj=s64",
      "userId": "00522355467807237656"
     },
     "user_tz": 180
    },
    "id": "mAp07ITa9IKc",
    "outputId": "6082938c-3bc5-4938-b99a-55ba454b54be"
   },
   "outputs": [
    {
     "data": {
      "text/html": [
       "<div>\n",
       "<style scoped>\n",
       "    .dataframe tbody tr th:only-of-type {\n",
       "        vertical-align: middle;\n",
       "    }\n",
       "\n",
       "    .dataframe tbody tr th {\n",
       "        vertical-align: top;\n",
       "    }\n",
       "\n",
       "    .dataframe thead th {\n",
       "        text-align: right;\n",
       "    }\n",
       "</style>\n",
       "<table border=\"1\" class=\"dataframe\">\n",
       "  <thead>\n",
       "    <tr style=\"text-align: right;\">\n",
       "      <th></th>\n",
       "      <th>Negocio</th>\n",
       "    </tr>\n",
       "  </thead>\n",
       "  <tbody>\n",
       "    <tr>\n",
       "      <th>0</th>\n",
       "      <td>HERRAMIENTAS</td>\n",
       "    </tr>\n",
       "    <tr>\n",
       "      <th>1</th>\n",
       "      <td>BOMBAS</td>\n",
       "    </tr>\n",
       "    <tr>\n",
       "      <th>2</th>\n",
       "      <td>MAQUINAS</td>\n",
       "    </tr>\n",
       "    <tr>\n",
       "      <th>3</th>\n",
       "      <td>NADA</td>\n",
       "    </tr>\n",
       "    <tr>\n",
       "      <th>4</th>\n",
       "      <td>KLUGAN</td>\n",
       "    </tr>\n",
       "  </tbody>\n",
       "</table>\n",
       "</div>"
      ],
      "text/plain": [
       "        Negocio\n",
       "0  HERRAMIENTAS\n",
       "1        BOMBAS\n",
       "2      MAQUINAS\n",
       "3          NADA\n",
       "4        KLUGAN"
      ]
     },
     "execution_count": 14,
     "metadata": {},
     "output_type": "execute_result"
    }
   ],
   "source": [
    "#Negocios\n",
    "negocio = df_ventas['NEGOCI'].unique()\n",
    "df_negocio = pd.DataFrame(negocio, columns= [\"Negocio\"])\n",
    "df_negocio.head()"
   ]
  },
  {
   "cell_type": "code",
   "execution_count": 15,
   "metadata": {
    "colab": {
     "base_uri": "https://localhost:8080/",
     "height": 206
    },
    "executionInfo": {
     "elapsed": 515,
     "status": "ok",
     "timestamp": 1647824846281,
     "user": {
      "displayName": "Aldo Sanchez",
      "photoUrl": "https://lh3.googleusercontent.com/a-/AOh14Gh9nuHrD0W0qzkY1uSTrV0AunQZ4sV8azTLASIj=s64",
      "userId": "00522355467807237656"
     },
     "user_tz": 180
    },
    "id": "M2QeabbO9Y4m",
    "outputId": "76ee3dae-f9f8-4959-d65d-92a48521f7be"
   },
   "outputs": [
    {
     "data": {
      "text/html": [
       "<div>\n",
       "<style scoped>\n",
       "    .dataframe tbody tr th:only-of-type {\n",
       "        vertical-align: middle;\n",
       "    }\n",
       "\n",
       "    .dataframe tbody tr th {\n",
       "        vertical-align: top;\n",
       "    }\n",
       "\n",
       "    .dataframe thead th {\n",
       "        text-align: right;\n",
       "    }\n",
       "</style>\n",
       "<table border=\"1\" class=\"dataframe\">\n",
       "  <thead>\n",
       "    <tr style=\"text-align: right;\">\n",
       "      <th></th>\n",
       "      <th>Segmento</th>\n",
       "    </tr>\n",
       "  </thead>\n",
       "  <tbody>\n",
       "    <tr>\n",
       "      <th>0</th>\n",
       "      <td>INALAMBRICAS</td>\n",
       "    </tr>\n",
       "    <tr>\n",
       "      <th>1</th>\n",
       "      <td>MANUALES</td>\n",
       "    </tr>\n",
       "    <tr>\n",
       "      <th>2</th>\n",
       "      <td>ELECTRICAS</td>\n",
       "    </tr>\n",
       "    <tr>\n",
       "      <th>3</th>\n",
       "      <td>NEUMATICAS</td>\n",
       "    </tr>\n",
       "    <tr>\n",
       "      <th>4</th>\n",
       "      <td>SUMERGIBLE</td>\n",
       "    </tr>\n",
       "  </tbody>\n",
       "</table>\n",
       "</div>"
      ],
      "text/plain": [
       "       Segmento\n",
       "0  INALAMBRICAS\n",
       "1      MANUALES\n",
       "2    ELECTRICAS\n",
       "3    NEUMATICAS\n",
       "4    SUMERGIBLE"
      ]
     },
     "execution_count": 15,
     "metadata": {},
     "output_type": "execute_result"
    }
   ],
   "source": [
    "#Segmentos\n",
    "segmento = df_ventas['SEGMEN'].unique()\n",
    "df_segmento = pd.DataFrame(segmento, columns= [\"Segmento\"])\n",
    "df_segmento.head()"
   ]
  },
  {
   "cell_type": "code",
   "execution_count": 16,
   "metadata": {
    "colab": {
     "base_uri": "https://localhost:8080/"
    },
    "executionInfo": {
     "elapsed": 434,
     "status": "ok",
     "timestamp": 1647820590549,
     "user": {
      "displayName": "Aldo Sanchez",
      "photoUrl": "https://lh3.googleusercontent.com/a-/AOh14Gh9nuHrD0W0qzkY1uSTrV0AunQZ4sV8azTLASIj=s64",
      "userId": "00522355467807237656"
     },
     "user_tz": 180
    },
    "id": "-w5ztjty9l6v",
    "outputId": "ace81126-31a0-40e5-d9aa-872846b0fcbd"
   },
   "outputs": [
    {
     "data": {
      "text/plain": [
       "<pandas.core.groupby.generic.DataFrameGroupBy object at 0x000001728297A9D0>"
      ]
     },
     "execution_count": 16,
     "metadata": {},
     "output_type": "execute_result"
    }
   ],
   "source": [
    "#Subsegmentos\n",
    "#subsegm = df_ventas(['SEGMEN'])\n",
    "#df_subsegm = pd.DataFrame(subsegm, columns= [\"Segmento\"])\n",
    "#df_subsegm.head()\n",
    "\n",
    "grouped = df_ventas.groupby(['SEGMEN','SUBSEG']) \n",
    "grouped \n",
    "#df_subsegm = pd.DataFrame(grouped)#, columns= [\"Segmento\"])\n",
    "#df_subsegm.head(10)\n",
    "\n",
    "#subsegmento=np.unique(df_ventas[['SEGMEN','SUBSEG']])\n",
    "\n",
    "#subsegmento = df_ventas['SUBSEG'].unique()\n",
    "#df_subsegm = pd.DataFrame(subsegmento, columns= [\"Segmento\",\"Subsegmento\"])\n",
    "#df_subsegm.head(10)"
   ]
  },
  {
   "cell_type": "code",
   "execution_count": 17,
   "metadata": {
    "colab": {
     "base_uri": "https://localhost:8080/",
     "height": 206
    },
    "executionInfo": {
     "elapsed": 438,
     "status": "ok",
     "timestamp": 1647824919917,
     "user": {
      "displayName": "Aldo Sanchez",
      "photoUrl": "https://lh3.googleusercontent.com/a-/AOh14Gh9nuHrD0W0qzkY1uSTrV0AunQZ4sV8azTLASIj=s64",
      "userId": "00522355467807237656"
     },
     "user_tz": 180
    },
    "id": "6ebb7uDT-udu",
    "outputId": "277c4e98-03de-4875-dac4-c0357a31b8c4"
   },
   "outputs": [
    {
     "data": {
      "text/html": [
       "<div>\n",
       "<style scoped>\n",
       "    .dataframe tbody tr th:only-of-type {\n",
       "        vertical-align: middle;\n",
       "    }\n",
       "\n",
       "    .dataframe tbody tr th {\n",
       "        vertical-align: top;\n",
       "    }\n",
       "\n",
       "    .dataframe thead th {\n",
       "        text-align: right;\n",
       "    }\n",
       "</style>\n",
       "<table border=\"1\" class=\"dataframe\">\n",
       "  <thead>\n",
       "    <tr style=\"text-align: right;\">\n",
       "      <th></th>\n",
       "      <th>CANTID</th>\n",
       "      <th>IMPORT</th>\n",
       "      <th>PCTBFN</th>\n",
       "      <th>PRECIO</th>\n",
       "    </tr>\n",
       "  </thead>\n",
       "  <tbody>\n",
       "    <tr>\n",
       "      <th>0</th>\n",
       "      <td>-1.0</td>\n",
       "      <td>-6802.29</td>\n",
       "      <td>0.0</td>\n",
       "      <td>6802.29</td>\n",
       "    </tr>\n",
       "    <tr>\n",
       "      <th>1</th>\n",
       "      <td>-12.0</td>\n",
       "      <td>-1884.02</td>\n",
       "      <td>0.0</td>\n",
       "      <td>157.00</td>\n",
       "    </tr>\n",
       "    <tr>\n",
       "      <th>2</th>\n",
       "      <td>-1.0</td>\n",
       "      <td>-1310.52</td>\n",
       "      <td>0.0</td>\n",
       "      <td>1310.52</td>\n",
       "    </tr>\n",
       "    <tr>\n",
       "      <th>3</th>\n",
       "      <td>-2.0</td>\n",
       "      <td>-899.01</td>\n",
       "      <td>0.0</td>\n",
       "      <td>449.50</td>\n",
       "    </tr>\n",
       "    <tr>\n",
       "      <th>4</th>\n",
       "      <td>-2.0</td>\n",
       "      <td>-1479.87</td>\n",
       "      <td>0.0</td>\n",
       "      <td>739.94</td>\n",
       "    </tr>\n",
       "  </tbody>\n",
       "</table>\n",
       "</div>"
      ],
      "text/plain": [
       "   CANTID   IMPORT  PCTBFN   PRECIO\n",
       "0    -1.0 -6802.29     0.0  6802.29\n",
       "1   -12.0 -1884.02     0.0   157.00\n",
       "2    -1.0 -1310.52     0.0  1310.52\n",
       "3    -2.0  -899.01     0.0   449.50\n",
       "4    -2.0 -1479.87     0.0   739.94"
      ]
     },
     "execution_count": 17,
     "metadata": {},
     "output_type": "execute_result"
    }
   ],
   "source": [
    "#df_ventas_num = df_ventas(['CANTID','IMPORT','PRECIO'])\n",
    "df_ventas_num = df_ventas.select_dtypes(include=[np.number])\n",
    "df_ventas_num = df_ventas_num.drop(columns=['Anio','Mes'])\n",
    "df_ventas_num.head()"
   ]
  },
  {
   "cell_type": "markdown",
   "metadata": {
    "id": "wc-PSrDC1uwM"
   },
   "source": [
    "#Análisis univariado"
   ]
  },
  {
   "cell_type": "code",
   "execution_count": 18,
   "metadata": {
    "colab": {
     "base_uri": "https://localhost:8080/",
     "height": 143
    },
    "executionInfo": {
     "elapsed": 436,
     "status": "ok",
     "timestamp": 1647824923837,
     "user": {
      "displayName": "Aldo Sanchez",
      "photoUrl": "https://lh3.googleusercontent.com/a-/AOh14Gh9nuHrD0W0qzkY1uSTrV0AunQZ4sV8azTLASIj=s64",
      "userId": "00522355467807237656"
     },
     "user_tz": 180
    },
    "id": "92ILgCOHnnXp",
    "outputId": "eff28d5e-0ec9-411a-ea11-1ccd56a45c3a"
   },
   "outputs": [
    {
     "data": {
      "text/html": [
       "<div>\n",
       "<style scoped>\n",
       "    .dataframe tbody tr th:only-of-type {\n",
       "        vertical-align: middle;\n",
       "    }\n",
       "\n",
       "    .dataframe tbody tr th {\n",
       "        vertical-align: top;\n",
       "    }\n",
       "\n",
       "    .dataframe thead th {\n",
       "        text-align: right;\n",
       "    }\n",
       "</style>\n",
       "<table border=\"1\" class=\"dataframe\">\n",
       "  <thead>\n",
       "    <tr style=\"text-align: right;\">\n",
       "      <th></th>\n",
       "      <th>count</th>\n",
       "      <th>mean</th>\n",
       "      <th>std</th>\n",
       "      <th>min</th>\n",
       "      <th>25%</th>\n",
       "      <th>50%</th>\n",
       "      <th>75%</th>\n",
       "      <th>max</th>\n",
       "    </tr>\n",
       "  </thead>\n",
       "  <tbody>\n",
       "    <tr>\n",
       "      <th>CANTID</th>\n",
       "      <td>127918.0</td>\n",
       "      <td>8.190302</td>\n",
       "      <td>31.030810</td>\n",
       "      <td>-2.400000e+03</td>\n",
       "      <td>2.000</td>\n",
       "      <td>4.000</td>\n",
       "      <td>10.000</td>\n",
       "      <td>4000.0</td>\n",
       "    </tr>\n",
       "    <tr>\n",
       "      <th>IMPORT</th>\n",
       "      <td>127918.0</td>\n",
       "      <td>19203.371989</td>\n",
       "      <td>56820.481891</td>\n",
       "      <td>-4.620900e+06</td>\n",
       "      <td>3370.800</td>\n",
       "      <td>8204.595</td>\n",
       "      <td>20103.380</td>\n",
       "      <td>4620900.0</td>\n",
       "    </tr>\n",
       "    <tr>\n",
       "      <th>PCTBFN</th>\n",
       "      <td>127918.0</td>\n",
       "      <td>-44.873293</td>\n",
       "      <td>14.610571</td>\n",
       "      <td>-7.227978e+01</td>\n",
       "      <td>-52.615</td>\n",
       "      <td>-50.000</td>\n",
       "      <td>-41.500</td>\n",
       "      <td>33.0</td>\n",
       "    </tr>\n",
       "    <tr>\n",
       "      <th>PRECIO</th>\n",
       "      <td>127918.0</td>\n",
       "      <td>5035.115044</td>\n",
       "      <td>8344.651297</td>\n",
       "      <td>-1.637384e+05</td>\n",
       "      <td>588.300</td>\n",
       "      <td>2735.830</td>\n",
       "      <td>6843.735</td>\n",
       "      <td>668115.9</td>\n",
       "    </tr>\n",
       "  </tbody>\n",
       "</table>\n",
       "</div>"
      ],
      "text/plain": [
       "           count          mean           std           min       25%  \\\n",
       "CANTID  127918.0      8.190302     31.030810 -2.400000e+03     2.000   \n",
       "IMPORT  127918.0  19203.371989  56820.481891 -4.620900e+06  3370.800   \n",
       "PCTBFN  127918.0    -44.873293     14.610571 -7.227978e+01   -52.615   \n",
       "PRECIO  127918.0   5035.115044   8344.651297 -1.637384e+05   588.300   \n",
       "\n",
       "             50%        75%        max  \n",
       "CANTID     4.000     10.000     4000.0  \n",
       "IMPORT  8204.595  20103.380  4620900.0  \n",
       "PCTBFN   -50.000    -41.500       33.0  \n",
       "PRECIO  2735.830   6843.735   668115.9  "
      ]
     },
     "execution_count": 18,
     "metadata": {},
     "output_type": "execute_result"
    }
   ],
   "source": [
    "#Principales medidas estadisticas\n",
    "#Se ejecuta este metodo a modo de ejemplo debi a que la mayoria de los valores de columnas referencian\n",
    "#por codigo a descripciones que se encuentran referenciados en otras tablas\n",
    "df_ventas_num.describe().T"
   ]
  },
  {
   "cell_type": "markdown",
   "metadata": {
    "id": "ADnccraN1aNR"
   },
   "source": [
    "### Generar 3 gráficos asociados"
   ]
  },
  {
   "cell_type": "markdown",
   "metadata": {
    "id": "V6QW0upn7WqB"
   },
   "source": [
    "Analisis de las ventas por Zona y Region"
   ]
  },
  {
   "cell_type": "code",
   "execution_count": 19,
   "metadata": {
    "colab": {
     "base_uri": "https://localhost:8080/",
     "height": 595
    },
    "executionInfo": {
     "elapsed": 1114,
     "status": "ok",
     "timestamp": 1647823356979,
     "user": {
      "displayName": "Aldo Sanchez",
      "photoUrl": "https://lh3.googleusercontent.com/a-/AOh14Gh9nuHrD0W0qzkY1uSTrV0AunQZ4sV8azTLASIj=s64",
      "userId": "00522355467807237656"
     },
     "user_tz": 180
    },
    "id": "FhAwVsvqnysK",
    "outputId": "4c6f5de8-2a50-4c66-fc3c-1d2a90a15d14"
   },
   "outputs": [
    {
     "data": {
      "text/plain": [
       "<AxesSubplot:>"
      ]
     },
     "execution_count": 19,
     "metadata": {},
     "output_type": "execute_result"
    },
    {
     "data": {
      "image/png": "[encoded data removed]",
      "text/plain": [
       "<Figure size 432x288 with 1 Axes>"
      ]
     },
     "metadata": {
      "needs_background": "light"
     },
     "output_type": "display_data"
    }
   ],
   "source": [
    "#Cantidad de ventas por zonas\n",
    "df_ventas['DS_CODZON'].value_counts().plot.bar()\n",
    "#OBSERVACIONES: La Zona de Santa Fe/Entre Ríos tiene mas incidencia en las ventas que San Luis/Córdoba. \n",
    "#Mientras que en la zona de gran Bs As es la zona GBA Sur que tiene una mayor venta a la zona GBA Norte y GBA Oeste."
   ]
  },
  {
   "cell_type": "code",
   "execution_count": 20,
   "metadata": {
    "colab": {
     "base_uri": "https://localhost:8080/",
     "height": 324
    },
    "executionInfo": {
     "elapsed": 1612,
     "status": "ok",
     "timestamp": 1647823371267,
     "user": {
      "displayName": "Aldo Sanchez",
      "photoUrl": "https://lh3.googleusercontent.com/a-/AOh14Gh9nuHrD0W0qzkY1uSTrV0AunQZ4sV8azTLASIj=s64",
      "userId": "00522355467807237656"
     },
     "user_tz": 180
    },
    "id": "s5ti3NH37Q0v",
    "outputId": "8fa8dc01-1d08-42c2-c9b2-67cdc387b61a"
   },
   "outputs": [
    {
     "data": {
      "text/plain": [
       "<AxesSubplot:>"
      ]
     },
     "execution_count": 20,
     "metadata": {},
     "output_type": "execute_result"
    },
    {
     "data": {
      "image/png": "[encoded data removed]",
      "text/plain": [
       "<Figure size 432x288 with 1 Axes>"
      ]
     },
     "metadata": {
      "needs_background": "light"
     },
     "output_type": "display_data"
    }
   ],
   "source": [
    "#Cantidad de ventas por region\n",
    "df_ventas['REGION'].value_counts().plot.bar()"
   ]
  },
  {
   "cell_type": "markdown",
   "metadata": {
    "id": "AR1e4WrD7kUp"
   },
   "source": [
    "Analisis temporal de las ventas"
   ]
  },
  {
   "cell_type": "code",
   "execution_count": null,
   "metadata": {
    "executionInfo": {
     "elapsed": 425,
     "status": "ok",
     "timestamp": 1647821593179,
     "user": {
      "displayName": "Aldo Sanchez",
      "photoUrl": "https://lh3.googleusercontent.com/a-/AOh14Gh9nuHrD0W0qzkY1uSTrV0AunQZ4sV8azTLASIj=s64",
      "userId": "00522355467807237656"
     },
     "user_tz": 180
    },
    "id": "ThF8ZWU1mHZO"
   },
   "outputs": [],
   "source": [
    "#Cuales son los dias en que ocurren mas casos?\n",
    "#Obtener el dia de la semana como una columna nueva del dataframe\n",
    "#df_ventas['Day_Week'] = df_ventas['FCHMOV'].dt.dayofweek\n",
    "#df_ventas['Day_Week_Text'] = df_ventas['FCHMOV'].dt.day_name()\n",
    "#df_ventas.head()"
   ]
  },
  {
   "cell_type": "code",
   "execution_count": 31,
   "metadata": {
    "colab": {
     "base_uri": "https://localhost:8080/",
     "height": 394
    },
    "executionInfo": {
     "elapsed": 756,
     "status": "ok",
     "timestamp": 1647822838310,
     "user": {
      "displayName": "Aldo Sanchez",
      "photoUrl": "https://lh3.googleusercontent.com/a-/AOh14Gh9nuHrD0W0qzkY1uSTrV0AunQZ4sV8azTLASIj=s64",
      "userId": "00522355467807237656"
     },
     "user_tz": 180
    },
    "id": "D85MkYx62Xi-",
    "outputId": "e621cc38-4751-4e5a-df4b-551e0a335dda"
   },
   "outputs": [
    {
     "data": {
      "text/plain": [
       "<AxesSubplot:>"
      ]
     },
     "execution_count": 31,
     "metadata": {},
     "output_type": "execute_result"
    },
    {
     "data": {
      "image/png": "[encoded data removed]",
      "text/plain": [
       "<Figure size 1296x432 with 1 Axes>"
      ]
     },
     "metadata": {
      "needs_background": "light"
     },
     "output_type": "display_data"
    }
   ],
   "source": [
    "df_ventas['Periodo'].value_counts().sort_index().plot.line(figsize=(18,6))"
   ]
  },
  {
   "cell_type": "markdown",
   "metadata": {
    "id": "Uv1xD2Hv7o93"
   },
   "source": [
    "Analisis de cantidad de ventas por vendedor"
   ]
  },
  {
   "cell_type": "code",
   "execution_count": 22,
   "metadata": {
    "colab": {
     "base_uri": "https://localhost:8080/",
     "height": 436
    },
    "executionInfo": {
     "elapsed": 1456,
     "status": "ok",
     "timestamp": 1647823546872,
     "user": {
      "displayName": "Aldo Sanchez",
      "photoUrl": "https://lh3.googleusercontent.com/a-/AOh14Gh9nuHrD0W0qzkY1uSTrV0AunQZ4sV8azTLASIj=s64",
      "userId": "00522355467807237656"
     },
     "user_tz": 180
    },
    "id": "lU8cqwVEmk8o",
    "outputId": "28ea8395-a10f-4bfd-f0de-65c5e16c9543"
   },
   "outputs": [
    {
     "data": {
      "text/plain": [
       "<AxesSubplot:>"
      ]
     },
     "execution_count": 22,
     "metadata": {},
     "output_type": "execute_result"
    },
    {
     "data": {
      "image/png": "[encoded data removed]",
      "text/plain": [
       "<Figure size 432x288 with 1 Axes>"
      ]
     },
     "metadata": {
      "needs_background": "light"
     },
     "output_type": "display_data"
    }
   ],
   "source": [
    "df_ventas['DS_VNDDOR'].value_counts().plot.bar()"
   ]
  },
  {
   "cell_type": "code",
   "execution_count": 36,
   "metadata": {
    "colab": {
     "base_uri": "https://localhost:8080/",
     "height": 270
    },
    "executionInfo": {
     "elapsed": 484,
     "status": "ok",
     "timestamp": 1647823709059,
     "user": {
      "displayName": "Aldo Sanchez",
      "photoUrl": "https://lh3.googleusercontent.com/a-/AOh14Gh9nuHrD0W0qzkY1uSTrV0AunQZ4sV8azTLASIj=s64",
      "userId": "00522355467807237656"
     },
     "user_tz": 180
    },
    "id": "EKdW2ApJiKni",
    "outputId": "fd65e82b-691b-4207-92bd-30edcb863793"
   },
   "outputs": [
    {
     "data": {
      "text/plain": [
       "<AxesSubplot:ylabel='Anio'>"
      ]
     },
     "execution_count": 36,
     "metadata": {},
     "output_type": "execute_result"
    },
    {
     "data": {
      "image/png": "[encoded data removed]",
      "text/plain": [
       "<Figure size 432x288 with 1 Axes>"
      ]
     },
     "metadata": {
      "needs_background": "light"
     },
     "output_type": "display_data"
    }
   ],
   "source": [
    "from seaborn import violinplot\n",
    "violinplot(y=df_ventas.Anio, data=df_ventas , orient=\"v\")"
   ]
  },
  {
   "cell_type": "markdown",
   "metadata": {
    "id": "QksDBrOU8tAC"
   },
   "source": [
    "### Distribucion de Frecuencias\n",
    "Calcular la frecuencia absoluta, la absoluta acumulada, la frecuencia relativa y relativa acumulada para la variable: CLASIF"
   ]
  },
  {
   "cell_type": "code",
   "execution_count": null,
   "metadata": {
    "colab": {
     "base_uri": "https://localhost:8080/",
     "height": 206
    },
    "executionInfo": {
     "elapsed": 436,
     "status": "ok",
     "timestamp": 1647823771810,
     "user": {
      "displayName": "Aldo Sanchez",
      "photoUrl": "https://lh3.googleusercontent.com/a-/AOh14Gh9nuHrD0W0qzkY1uSTrV0AunQZ4sV8azTLASIj=s64",
      "userId": "00522355467807237656"
     },
     "user_tz": 180
    },
    "id": "g_SdksU68yFJ",
    "outputId": "b85bf468-24f4-44db-a639-abfcaa04d247"
   },
   "outputs": [
    {
     "data": {
      "text/html": [
       "<div>\n",
       "<style scoped>\n",
       "    .dataframe tbody tr th:only-of-type {\n",
       "        vertical-align: middle;\n",
       "    }\n",
       "\n",
       "    .dataframe tbody tr th {\n",
       "        vertical-align: top;\n",
       "    }\n",
       "\n",
       "    .dataframe thead th {\n",
       "        text-align: right;\n",
       "    }\n",
       "</style>\n",
       "<table border=\"1\" class=\"dataframe\">\n",
       "  <thead>\n",
       "    <tr style=\"text-align: right;\">\n",
       "      <th></th>\n",
       "      <th>Frec_absoluta</th>\n",
       "    </tr>\n",
       "  </thead>\n",
       "  <tbody>\n",
       "    <tr>\n",
       "      <th>Cliente C (resto de los clientes)</th>\n",
       "      <td>100052</td>\n",
       "    </tr>\n",
       "    <tr>\n",
       "      <th>Cliente premium AAA (25 primeros clientes - Cta Cte perfecta - No Entes Gub. - Lideres en su zona - No creancompetencia)</th>\n",
       "      <td>8471</td>\n",
       "    </tr>\n",
       "    <tr>\n",
       "      <th>Cliente A ( 50 segundos clientes - Cta Cte perfecta )</th>\n",
       "      <td>7094</td>\n",
       "    </tr>\n",
       "    <tr>\n",
       "      <th>Cliente B ( 100 terceros clientes )</th>\n",
       "      <td>6484</td>\n",
       "    </tr>\n",
       "    <tr>\n",
       "      <th>Retail</th>\n",
       "      <td>1637</td>\n",
       "    </tr>\n",
       "    <tr>\n",
       "      <th>Cliente INACTIVO en el ultimo año calendario</th>\n",
       "      <td>1</td>\n",
       "    </tr>\n",
       "  </tbody>\n",
       "</table>\n",
       "</div>"
      ],
      "text/plain": [
       "                                                    Frec_absoluta\n",
       "Cliente C (resto de los clientes)                          100052\n",
       "Cliente premium AAA (25 primeros clientes - Cta...           8471\n",
       "Cliente A ( 50 segundos clientes - Cta Cte perf...           7094\n",
       "Cliente B ( 100 terceros clientes )                          6484\n",
       "Retail                                                       1637\n",
       "Cliente INACTIVO en el ultimo año calendario                    1"
      ]
     },
     "metadata": {},
     "output_type": "display_data"
    }
   ],
   "source": [
    "#Frecuencia absoluta\n",
    "df_frec = pd.DataFrame(df_ventas['CLASIF'].value_counts())\n",
    "df_frec.rename(columns={'CLASIF':'Frec_absoluta'}, inplace=True)\n",
    "df_frec"
   ]
  },
  {
   "cell_type": "code",
   "execution_count": null,
   "metadata": {
    "colab": {
     "base_uri": "https://localhost:8080/",
     "height": 206
    },
    "executionInfo": {
     "elapsed": 729,
     "status": "ok",
     "timestamp": 1647823803396,
     "user": {
      "displayName": "Aldo Sanchez",
      "photoUrl": "https://lh3.googleusercontent.com/a-/AOh14Gh9nuHrD0W0qzkY1uSTrV0AunQZ4sV8azTLASIj=s64",
      "userId": "00522355467807237656"
     },
     "user_tz": 180
    },
    "id": "xXIzAh4M81TJ",
    "outputId": "175bac7c-204a-4666-d3ae-476353799e0b"
   },
   "outputs": [
    {
     "data": {
      "text/html": [
       "<div>\n",
       "<style scoped>\n",
       "    .dataframe tbody tr th:only-of-type {\n",
       "        vertical-align: middle;\n",
       "    }\n",
       "\n",
       "    .dataframe tbody tr th {\n",
       "        vertical-align: top;\n",
       "    }\n",
       "\n",
       "    .dataframe thead th {\n",
       "        text-align: right;\n",
       "    }\n",
       "</style>\n",
       "<table border=\"1\" class=\"dataframe\">\n",
       "  <thead>\n",
       "    <tr style=\"text-align: right;\">\n",
       "      <th></th>\n",
       "      <th>Frec_absoluta</th>\n",
       "      <th>Frec_rel_%</th>\n",
       "    </tr>\n",
       "  </thead>\n",
       "  <tbody>\n",
       "    <tr>\n",
       "      <th>Cliente C (resto de los clientes)</th>\n",
       "      <td>100052</td>\n",
       "      <td>78.215732</td>\n",
       "    </tr>\n",
       "    <tr>\n",
       "      <th>Cliente premium AAA (25 primeros clientes - Cta Cte perfecta - No Entes Gub. - Lideres en su zona - No creancompetencia)</th>\n",
       "      <td>8471</td>\n",
       "      <td>6.622211</td>\n",
       "    </tr>\n",
       "    <tr>\n",
       "      <th>Cliente A ( 50 segundos clientes - Cta Cte perfecta )</th>\n",
       "      <td>7094</td>\n",
       "      <td>5.545740</td>\n",
       "    </tr>\n",
       "    <tr>\n",
       "      <th>Cliente B ( 100 terceros clientes )</th>\n",
       "      <td>6484</td>\n",
       "      <td>5.068872</td>\n",
       "    </tr>\n",
       "    <tr>\n",
       "      <th>Retail</th>\n",
       "      <td>1637</td>\n",
       "      <td>1.279726</td>\n",
       "    </tr>\n",
       "    <tr>\n",
       "      <th>Cliente INACTIVO en el ultimo año calendario</th>\n",
       "      <td>1</td>\n",
       "      <td>0.000782</td>\n",
       "    </tr>\n",
       "  </tbody>\n",
       "</table>\n",
       "</div>"
      ],
      "text/plain": [
       "                                                    Frec_absoluta  Frec_rel_%\n",
       "Cliente C (resto de los clientes)                          100052   78.215732\n",
       "Cliente premium AAA (25 primeros clientes - Cta...           8471    6.622211\n",
       "Cliente A ( 50 segundos clientes - Cta Cte perf...           7094    5.545740\n",
       "Cliente B ( 100 terceros clientes )                          6484    5.068872\n",
       "Retail                                                       1637    1.279726\n",
       "Cliente INACTIVO en el ultimo año calendario                    1    0.000782"
      ]
     },
     "metadata": {},
     "output_type": "display_data"
    }
   ],
   "source": [
    "#Frecuencia relativa\n",
    "df_frec[\"Frec_rel_%\"] = 100 * df_frec[\"Frec_absoluta\"]/len(df_ventas['CLASIF'])\n",
    "df_frec"
   ]
  },
  {
   "cell_type": "code",
   "execution_count": null,
   "metadata": {
    "colab": {
     "base_uri": "https://localhost:8080/",
     "height": 206
    },
    "executionInfo": {
     "elapsed": 451,
     "status": "ok",
     "timestamp": 1647824019623,
     "user": {
      "displayName": "Aldo Sanchez",
      "photoUrl": "https://lh3.googleusercontent.com/a-/AOh14Gh9nuHrD0W0qzkY1uSTrV0AunQZ4sV8azTLASIj=s64",
      "userId": "00522355467807237656"
     },
     "user_tz": 180
    },
    "id": "xZz5bUN18551",
    "outputId": "293da55a-9ad7-415e-8ebf-f7ac94a53584"
   },
   "outputs": [
    {
     "data": {
      "text/html": [
       "<div>\n",
       "<style scoped>\n",
       "    .dataframe tbody tr th:only-of-type {\n",
       "        vertical-align: middle;\n",
       "    }\n",
       "\n",
       "    .dataframe tbody tr th {\n",
       "        vertical-align: top;\n",
       "    }\n",
       "\n",
       "    .dataframe thead th {\n",
       "        text-align: right;\n",
       "    }\n",
       "</style>\n",
       "<table border=\"1\" class=\"dataframe\">\n",
       "  <thead>\n",
       "    <tr style=\"text-align: right;\">\n",
       "      <th></th>\n",
       "      <th>Frec_absoluta</th>\n",
       "      <th>Frec_rel_%</th>\n",
       "      <th>Frec_absoluta_Acum</th>\n",
       "      <th>Frec_rel_%_Acum</th>\n",
       "    </tr>\n",
       "  </thead>\n",
       "  <tbody>\n",
       "    <tr>\n",
       "      <th>Cliente C (resto de los clientes)</th>\n",
       "      <td>100052</td>\n",
       "      <td>78.215732</td>\n",
       "      <td>100052</td>\n",
       "      <td>78.215732</td>\n",
       "    </tr>\n",
       "    <tr>\n",
       "      <th>Cliente premium AAA (25 primeros clientes - Cta Cte perfecta - No Entes Gub. - Lideres en su zona - No creancompetencia)</th>\n",
       "      <td>8471</td>\n",
       "      <td>6.622211</td>\n",
       "      <td>108523</td>\n",
       "      <td>84.837943</td>\n",
       "    </tr>\n",
       "    <tr>\n",
       "      <th>Cliente A ( 50 segundos clientes - Cta Cte perfecta )</th>\n",
       "      <td>7094</td>\n",
       "      <td>5.545740</td>\n",
       "      <td>115617</td>\n",
       "      <td>90.383683</td>\n",
       "    </tr>\n",
       "    <tr>\n",
       "      <th>Cliente B ( 100 terceros clientes )</th>\n",
       "      <td>6484</td>\n",
       "      <td>5.068872</td>\n",
       "      <td>122101</td>\n",
       "      <td>95.452556</td>\n",
       "    </tr>\n",
       "    <tr>\n",
       "      <th>Retail</th>\n",
       "      <td>1637</td>\n",
       "      <td>1.279726</td>\n",
       "      <td>123738</td>\n",
       "      <td>96.732282</td>\n",
       "    </tr>\n",
       "    <tr>\n",
       "      <th>Cliente INACTIVO en el ultimo año calendario</th>\n",
       "      <td>1</td>\n",
       "      <td>0.000782</td>\n",
       "      <td>123739</td>\n",
       "      <td>96.733063</td>\n",
       "    </tr>\n",
       "  </tbody>\n",
       "</table>\n",
       "</div>"
      ],
      "text/plain": [
       "                                                    Frec_absoluta  Frec_rel_%  \\\n",
       "Cliente C (resto de los clientes)                          100052   78.215732   \n",
       "Cliente premium AAA (25 primeros clientes - Cta...           8471    6.622211   \n",
       "Cliente A ( 50 segundos clientes - Cta Cte perf...           7094    5.545740   \n",
       "Cliente B ( 100 terceros clientes )                          6484    5.068872   \n",
       "Retail                                                       1637    1.279726   \n",
       "Cliente INACTIVO en el ultimo año calendario                    1    0.000782   \n",
       "\n",
       "                                                    Frec_absoluta_Acum  \\\n",
       "Cliente C (resto de los clientes)                               100052   \n",
       "Cliente premium AAA (25 primeros clientes - Cta...              108523   \n",
       "Cliente A ( 50 segundos clientes - Cta Cte perf...              115617   \n",
       "Cliente B ( 100 terceros clientes )                             122101   \n",
       "Retail                                                          123738   \n",
       "Cliente INACTIVO en el ultimo año calendario                    123739   \n",
       "\n",
       "                                                    Frec_rel_%_Acum  \n",
       "Cliente C (resto de los clientes)                         78.215732  \n",
       "Cliente premium AAA (25 primeros clientes - Cta...        84.837943  \n",
       "Cliente A ( 50 segundos clientes - Cta Cte perf...        90.383683  \n",
       "Cliente B ( 100 terceros clientes )                       95.452556  \n",
       "Retail                                                    96.732282  \n",
       "Cliente INACTIVO en el ultimo año calendario              96.733063  "
      ]
     },
     "metadata": {},
     "output_type": "display_data"
    }
   ],
   "source": [
    "#Creo una función para calcular los acumulados\n",
    "def acum(df, col, colAcum):\n",
    "  values = df[col].values\n",
    "  val_acum = []\n",
    "  acumul = 0\n",
    "  for i in values:\n",
    "    acumul = acumul + i\n",
    "    val_acum.append(acumul)\n",
    "  df[colAcum] = val_acum\n",
    "  \n",
    "#Se aplica la funcion:\n",
    "acum(df_frec, 'Frec_absoluta', 'Frec_absoluta_Acum')\n",
    "acum(df_frec, 'Frec_rel_%', 'Frec_rel_%_Acum')\n",
    "df_frec"
   ]
  },
  {
   "cell_type": "markdown",
   "metadata": {},
   "source": [
    "### Análisis Bivariado"
   ]
  },
  {
   "cell_type": "code",
   "execution_count": 50,
   "metadata": {
    "scrolled": true,
    "tags": []
   },
   "outputs": [
    {
     "data": {
      "text/html": [
       "<div>\n",
       "<style scoped>\n",
       "    .dataframe tbody tr th:only-of-type {\n",
       "        vertical-align: middle;\n",
       "    }\n",
       "\n",
       "    .dataframe tbody tr th {\n",
       "        vertical-align: top;\n",
       "    }\n",
       "\n",
       "    .dataframe thead th {\n",
       "        text-align: right;\n",
       "    }\n",
       "</style>\n",
       "<table border=\"1\" class=\"dataframe\">\n",
       "  <thead>\n",
       "    <tr style=\"text-align: right;\">\n",
       "      <th></th>\n",
       "      <th>NROCTA</th>\n",
       "      <th>frequency</th>\n",
       "      <th>percentage</th>\n",
       "      <th>cumulative_perc</th>\n",
       "    </tr>\n",
       "  </thead>\n",
       "  <tbody>\n",
       "    <tr>\n",
       "      <th>0</th>\n",
       "      <td>I00000</td>\n",
       "      <td>3939</td>\n",
       "      <td>0.030793</td>\n",
       "      <td>0.030793</td>\n",
       "    </tr>\n",
       "    <tr>\n",
       "      <th>1</th>\n",
       "      <td>I00757</td>\n",
       "      <td>3073</td>\n",
       "      <td>0.024023</td>\n",
       "      <td>0.054816</td>\n",
       "    </tr>\n",
       "    <tr>\n",
       "      <th>2</th>\n",
       "      <td>I00780</td>\n",
       "      <td>2481</td>\n",
       "      <td>0.019395</td>\n",
       "      <td>0.074212</td>\n",
       "    </tr>\n",
       "    <tr>\n",
       "      <th>3</th>\n",
       "      <td>I00999</td>\n",
       "      <td>2438</td>\n",
       "      <td>0.019059</td>\n",
       "      <td>0.093271</td>\n",
       "    </tr>\n",
       "    <tr>\n",
       "      <th>4</th>\n",
       "      <td>I00605</td>\n",
       "      <td>2308</td>\n",
       "      <td>0.018043</td>\n",
       "      <td>0.111313</td>\n",
       "    </tr>\n",
       "    <tr>\n",
       "      <th>...</th>\n",
       "      <td>...</td>\n",
       "      <td>...</td>\n",
       "      <td>...</td>\n",
       "      <td>...</td>\n",
       "    </tr>\n",
       "    <tr>\n",
       "      <th>1281</th>\n",
       "      <td>I00802</td>\n",
       "      <td>1</td>\n",
       "      <td>0.000008</td>\n",
       "      <td>0.999969</td>\n",
       "    </tr>\n",
       "    <tr>\n",
       "      <th>1282</th>\n",
       "      <td>I00774</td>\n",
       "      <td>1</td>\n",
       "      <td>0.000008</td>\n",
       "      <td>0.999977</td>\n",
       "    </tr>\n",
       "    <tr>\n",
       "      <th>1283</th>\n",
       "      <td>IU0067</td>\n",
       "      <td>1</td>\n",
       "      <td>0.000008</td>\n",
       "      <td>0.999984</td>\n",
       "    </tr>\n",
       "    <tr>\n",
       "      <th>1284</th>\n",
       "      <td>I01713</td>\n",
       "      <td>1</td>\n",
       "      <td>0.000008</td>\n",
       "      <td>0.999992</td>\n",
       "    </tr>\n",
       "    <tr>\n",
       "      <th>1285</th>\n",
       "      <td>I01069</td>\n",
       "      <td>1</td>\n",
       "      <td>0.000008</td>\n",
       "      <td>1.000000</td>\n",
       "    </tr>\n",
       "  </tbody>\n",
       "</table>\n",
       "<p>1286 rows × 4 columns</p>\n",
       "</div>"
      ],
      "text/plain": [
       "      NROCTA  frequency  percentage  cumulative_perc\n",
       "0     I00000       3939    0.030793         0.030793\n",
       "1     I00757       3073    0.024023         0.054816\n",
       "2     I00780       2481    0.019395         0.074212\n",
       "3     I00999       2438    0.019059         0.093271\n",
       "4     I00605       2308    0.018043         0.111313\n",
       "...      ...        ...         ...              ...\n",
       "1281  I00802          1    0.000008         0.999969\n",
       "1282  I00774          1    0.000008         0.999977\n",
       "1283  IU0067          1    0.000008         0.999984\n",
       "1284  I01713          1    0.000008         0.999992\n",
       "1285  I01069          1    0.000008         1.000000\n",
       "\n",
       "[1286 rows x 4 columns]"
      ]
     },
     "execution_count": 50,
     "metadata": {},
     "output_type": "execute_result"
    }
   ],
   "source": [
    "# creo un df del acumulado de operaciones por cliente\n",
    "\n",
    "df_clientes = freq_tbl(df_ventas[[\"NROCTA\"]])\n",
    "# pd.set_option('display.max_rows', None)  #queda comentado para que no pese tanto el notebook\n",
    "df_clientes"
   ]
  },
  {
   "cell_type": "code",
   "execution_count": null,
   "metadata": {},
   "outputs": [],
   "source": [
    "pd.set_option('display.max_rows', 10)"
   ]
  },
  {
   "cell_type": "code",
   "execution_count": 39,
   "metadata": {},
   "outputs": [],
   "source": [
    "# filtro los 15 clientes con mas operaciones.\n",
    "\n",
    "df_clientes_filtrado = df_clientes[df_clientes[\"cumulative_perc\"] <0.24]"
   ]
  },
  {
   "cell_type": "code",
   "execution_count": 40,
   "metadata": {},
   "outputs": [],
   "source": [
    "# filtro del df original para quedarme solo con los 15 clientes\n",
    "\n",
    "df_ventas_filtroclientes = df_ventas[df_ventas[\"NROCTA\"].isin(df_clientes_filtrado[\"NROCTA\"])]"
   ]
  },
  {
   "cell_type": "code",
   "execution_count": 41,
   "metadata": {},
   "outputs": [
    {
     "data": {
      "text/plain": [
       "(30299, 23)"
      ]
     },
     "execution_count": 41,
     "metadata": {},
     "output_type": "execute_result"
    }
   ],
   "source": [
    "# veo la dimension del nuevo df. El anterior tenia 130mil registros y este 30.300\n",
    "\n",
    "df_ventas_filtroclientes.shape"
   ]
  },
  {
   "cell_type": "code",
   "execution_count": 42,
   "metadata": {},
   "outputs": [],
   "source": [
    "# renombro algunas columnas para que se facilite el trabajo\n",
    "\n",
    "df_ventas_filtroclientes = df_ventas_filtroclientes.rename(columns={\"DS_CODZON\":\"Zona\", \"NROCTA\":\"Cliente\", \"CANTID\":\"Cantidad\", \"DS_ARTCOD\t\":\"Articulo\", \"NEGOCI\":\"Negocio\", \"SEGMEN\":\"Segmento\", \"SUBSEG\":\"Subsegmento\", \"IMPORT\":\"Importe\" })"
   ]
  },
  {
   "cell_type": "code",
   "execution_count": 43,
   "metadata": {},
   "outputs": [
    {
     "data": {
      "image/png": "[encoded data removed]",
      "text/plain": [
       "<Figure size 1440x720 with 1 Axes>"
      ]
     },
     "metadata": {
      "needs_background": "light"
     },
     "output_type": "display_data"
    }
   ],
   "source": [
    "# grafico un boxplot para ver los outliers que tengo. Se observa que hay una gran cantidad de operaciones con la variable CANTIDAD muy alta. Esto distorciona el analisis por lo que se decide quedarse con las operaciones con cantidad menor a 50 y mayor a -50\n",
    "\n",
    "plt.figure(figsize=(20,10))\n",
    "sns.boxplot(df_ventas_filtroclientes[\"Segmento\"], df_ventas_filtroclientes[\"Cantidad\"])\n",
    "plt.yticks(np.arange(-750,1250,100))\n",
    "plt.show()"
   ]
  },
  {
   "cell_type": "code",
   "execution_count": 44,
   "metadata": {},
   "outputs": [],
   "source": [
    "# filtro el dataset para quedarme solo con las operaciones cuya cantidad sea menor a 50 y mayor a -50\n",
    "\n",
    "df_ventas_filtroclientes_filtrocantidades = df_ventas_filtroclientes[  (df_ventas_filtroclientes[\"Cantidad\"] <50 ) & (df_ventas_filtroclientes[\"Cantidad\"] >-50 )]"
   ]
  },
  {
   "cell_type": "code",
   "execution_count": 45,
   "metadata": {},
   "outputs": [
    {
     "data": {
      "image/png": "[encoded data removed]",
      "text/plain": [
       "<Figure size 1440x576 with 1 Axes>"
      ]
     },
     "metadata": {
      "needs_background": "light"
     },
     "output_type": "display_data"
    }
   ],
   "source": [
    "# observo la distribucion y los datos anomalos para cada segmento. Se siguen observando outliers. Deberiamos decidir si los vamos a suprimir o como lo vamos a trabajar\n",
    "\n",
    "plt.figure(figsize=(20,8))\n",
    "sns.boxplot(df_ventas_filtroclientes_filtrocantidades[\"Segmento\"], df_ventas_filtroclientes_filtrocantidades[\"Cantidad\"])\n",
    "plt.yticks(np.arange(-50,51,5))\n",
    "plt.title(\"Analisis por segmento y cantidad de ventas con BoxPlot\")\n",
    "plt.show()"
   ]
  },
  {
   "cell_type": "code",
   "execution_count": 46,
   "metadata": {},
   "outputs": [
    {
     "data": {
      "image/png": "[encoded data removed]",
      "text/plain": [
       "<Figure size 1440x576 with 1 Axes>"
      ]
     },
     "metadata": {
      "needs_background": "light"
     },
     "output_type": "display_data"
    }
   ],
   "source": [
    "# observo la distribucion y los datos anomalos para cada negocio. Deberiamos decidir si los vamos a suprimir o como lo vamos a trabajar\n",
    "plt.figure(figsize=(20,8))\n",
    "sns.boxplot(df_ventas_filtroclientes_filtrocantidades[\"Negocio\"], df_ventas_filtroclientes_filtrocantidades[\"Cantidad\"], order=[\"KLUGAN\",\"HERRAMIENTAS\", \"BOMBAS\", \"MAQUINAS\", \"NADA\"])\n",
    "plt.yticks(np.arange(-50,51,5))\n",
    "plt.show()"
   ]
  },
  {
   "cell_type": "code",
   "execution_count": 47,
   "metadata": {},
   "outputs": [
    {
     "data": {
      "image/png": "[encoded data removed]",
      "text/plain": [
       "<Figure size 1728x576 with 1 Axes>"
      ]
     },
     "metadata": {
      "needs_background": "light"
     },
     "output_type": "display_data"
    }
   ],
   "source": [
    "# observo la distribucion y los datos anomalos para cada cliente. Deberiamos decidir si los vamos a suprimir o como lo vamos a trabajar\n",
    "\n",
    "plt.figure(figsize=(24,8))\n",
    "sns.boxplot(df_ventas_filtroclientes_filtrocantidades[\"Cliente\"], df_ventas_filtroclientes_filtrocantidades[\"Cantidad\"])\n",
    "plt.yticks(np.arange(-50,51,5))\n",
    "plt.xticks(rotation=45)\n",
    "plt.show()"
   ]
  },
  {
   "cell_type": "code",
   "execution_count": 48,
   "metadata": {},
   "outputs": [
    {
     "data": {
      "text/plain": [
       "Negocio\n",
       "HERRAMIENTAS    234908.0\n",
       "BOMBAS            2693.0\n",
       "MAQUINAS          1138.0\n",
       "KLUGAN             512.0\n",
       "NADA                34.0\n",
       "Name: Cantidad, dtype: float64"
      ]
     },
     "execution_count": 48,
     "metadata": {},
     "output_type": "execute_result"
    }
   ],
   "source": [
    "# se observa que el negocio de las herramientas es por lejos el que mas productos vende\n",
    "\n",
    "df_ventas_filtroclientes_filtrocantidades.groupby(\"Negocio\")[\"Cantidad\"].sum().sort_values(ascending=False)"
   ]
  },
  {
   "cell_type": "code",
   "execution_count": 49,
   "metadata": {},
   "outputs": [
    {
     "data": {
      "text/plain": [
       "Negocio\n",
       "KLUGAN          91868.175556\n",
       "BOMBAS          42820.768223\n",
       "MAQUINAS        40448.220766\n",
       "HERRAMIENTAS    13703.219130\n",
       "NADA             1568.347368\n",
       "Name: Importe, dtype: float64"
      ]
     },
     "execution_count": 49,
     "metadata": {},
     "output_type": "execute_result"
    }
   ],
   "source": [
    "# analizando por importe, se observa que el negocio Klugan,bombas y maquinas son los que en promedio mas ingresos generan\n",
    "df_ventas_filtroclientes_filtrocantidades.groupby(\"Negocio\")[\"Importe\"].mean().sort_values(ascending=False)"
   ]
  },
  {
   "cell_type": "markdown",
   "metadata": {},
   "source": [
    "## Clasificación de clientes\n",
    "### Primero vamos a codificar las variables categóricas"
   ]
  },
  {
   "cell_type": "code",
   "execution_count": 19,
   "metadata": {},
   "outputs": [
    {
     "data": {
      "text/plain": [
       "Index(['DS_CODZON', 'CODCOM', 'FCHMOV', 'NROCTA', 'CLASIF', 'REGION', 'ZONAR',\n",
       "       'DS_VNDDOR', 'CANTID', 'IMPORT', 'PCTBFN', 'TIPPRO', 'ARTCOD',\n",
       "       'DS_ARTCOD', 'CANAL', 'REPRES', 'NEGOCI', 'SEGMEN', 'SUBSEG', 'Anio',\n",
       "       'Mes', 'Periodo', 'PRECIO', 'DS_CODZON_cat', 'CODCOM_cat', 'NROCTA_cat',\n",
       "       'REGION_cat', 'ZONAR_cat', 'DS_VNDDOR_cat', 'TIPPRO_cat', 'ARTCOD_cat',\n",
       "       'CANAL_cat', 'REPRES_cat', 'NEGOCI_cat', 'SEGMEN_cat', 'SUBSEG_cat'],\n",
       "      dtype='object')"
      ]
     },
     "execution_count": 19,
     "metadata": {},
     "output_type": "execute_result"
    }
   ],
   "source": [
    "df_ventas.columns"
   ]
  },
  {
   "cell_type": "code",
   "execution_count": 10,
   "metadata": {},
   "outputs": [],
   "source": [
    "df_ventas['DS_CODZON'] = df_ventas['DS_CODZON'].astype('category')\n",
    "df_ventas['CODCOM'] = df_ventas['CODCOM'].astype('category')\n",
    "df_ventas['NROCTA'] = df_ventas['NROCTA'].astype('category')\n",
    "df_ventas['REGION'] = df_ventas['REGION'].astype('category')\n",
    "df_ventas['ZONAR'] = df_ventas['ZONAR'].astype('category')\n",
    "df_ventas['DS_VNDDOR'] = df_ventas['DS_VNDDOR'].astype('category')\n",
    "df_ventas['TIPPRO'] = df_ventas['TIPPRO'].astype('category')\n",
    "df_ventas['ARTCOD'] = df_ventas['ARTCOD'].astype('category')\n",
    "df_ventas['CANAL'] = df_ventas['CANAL'].astype('category')\n",
    "df_ventas['REPRES'] = df_ventas['REPRES'].astype('category')\n",
    "df_ventas['NEGOCI'] = df_ventas['NEGOCI'].astype('category')\n",
    "df_ventas['SEGMEN'] = df_ventas['SEGMEN'].astype('category')\n",
    "df_ventas['SUBSEG'] = df_ventas['SUBSEG'].astype('category')\n",
    "\n",
    "df_ventas['DS_CODZON_cat'] = df_ventas['DS_CODZON'].cat.codes\n",
    "df_ventas['CODCOM_cat'] = df_ventas['CODCOM'].cat.codes\n",
    "df_ventas['NROCTA_cat'] = df_ventas['NROCTA'].cat.codes\n",
    "df_ventas['REGION_cat'] = df_ventas['REGION'].cat.codes\n",
    "df_ventas['ZONAR_cat'] = df_ventas['ZONAR'].cat.codes\n",
    "df_ventas['DS_VNDDOR_cat'] = df_ventas['DS_VNDDOR'].cat.codes\n",
    "df_ventas['TIPPRO_cat'] = df_ventas['TIPPRO'].cat.codes\n",
    "df_ventas['ARTCOD_cat'] = df_ventas['ARTCOD'].cat.codes\n",
    "df_ventas['CANAL_cat'] = df_ventas['CANAL'].cat.codes\n",
    "df_ventas['REPRES_cat'] = df_ventas['REPRES'].cat.codes\n",
    "df_ventas['NEGOCI_cat'] = df_ventas['NEGOCI'].cat.codes\n",
    "df_ventas['SEGMEN_cat'] = df_ventas['SEGMEN'].cat.codes\n",
    "df_ventas['SUBSEG_cat'] = df_ventas['SUBSEG'].cat.codes\n"
   ]
  },
  {
   "cell_type": "markdown",
   "metadata": {},
   "source": [
    "### Preparo un Dataframe para poder clasificar las ventas y tener simplificados los features"
   ]
  },
  {
   "cell_type": "code",
   "execution_count": 32,
   "metadata": {},
   "outputs": [],
   "source": [
    "df_cluster = df_ventas[['REGION_cat', 'ZONAR_cat', 'DS_VNDDOR_cat', 'CANAL_cat', 'REPRES_cat', 'NEGOCI_cat', 'SEGMEN_cat', 'SUBSEG_cat', 'PRECIO']]\n"
   ]
  },
  {
   "cell_type": "code",
   "execution_count": 33,
   "metadata": {},
   "outputs": [
    {
     "data": {
      "image/png": "[encoded data removed]",
      "text/plain": [
       "<Figure size 432x288 with 1 Axes>"
      ]
     },
     "metadata": {
      "needs_background": "light"
     },
     "output_type": "display_data"
    }
   ],
   "source": [
    "# Metodo del Codo para encontrar el numero optimo de clusters\n",
    "\n",
    "from sklearn.cluster import KMeans\n",
    "wcss = []\n",
    "for i in range(1, 11):\n",
    "    kmeans = KMeans(n_clusters = i, init = 'k-means++', random_state = 42)\n",
    "    kmeans.fit(df_cluster)\n",
    "    wcss.append(kmeans.inertia_)\n",
    "\n",
    "# Grafica de la suma de las distancias\n",
    "plt.plot(range(1, 11), wcss)\n",
    "plt.title('The Elbow Method')\n",
    "plt.xlabel('Number of clusters')\n",
    "plt.ylabel('WCSS')\n",
    "plt.show()"
   ]
  },
  {
   "cell_type": "code",
   "execution_count": 34,
   "metadata": {},
   "outputs": [],
   "source": [
    "# Creando el k-Means para los 4 grupos encontrados\n",
    "kmeans = KMeans(n_clusters = 4, init = 'k-means++', random_state = 42) #k-means++ acelera la convergencia, respecto de random\n",
    "y_kmeans = kmeans.fit_predict(df_cluster)"
   ]
  },
  {
   "cell_type": "markdown",
   "metadata": {},
   "source": [
    "### Cargo la predicción en una nueva columna del Dataframe original"
   ]
  },
  {
   "cell_type": "code",
   "execution_count": 36,
   "metadata": {},
   "outputs": [
    {
     "data": {
      "text/html": [
       "<div>\n",
       "<style scoped>\n",
       "    .dataframe tbody tr th:only-of-type {\n",
       "        vertical-align: middle;\n",
       "    }\n",
       "\n",
       "    .dataframe tbody tr th {\n",
       "        vertical-align: top;\n",
       "    }\n",
       "\n",
       "    .dataframe thead th {\n",
       "        text-align: right;\n",
       "    }\n",
       "</style>\n",
       "<table border=\"1\" class=\"dataframe\">\n",
       "  <thead>\n",
       "    <tr style=\"text-align: right;\">\n",
       "      <th></th>\n",
       "      <th>NROCTA</th>\n",
       "      <th>PRECIO</th>\n",
       "      <th>kmean</th>\n",
       "    </tr>\n",
       "  </thead>\n",
       "  <tbody>\n",
       "    <tr>\n",
       "      <th>0</th>\n",
       "      <td>I00794</td>\n",
       "      <td>6802.29</td>\n",
       "      <td>0</td>\n",
       "    </tr>\n",
       "    <tr>\n",
       "      <th>1</th>\n",
       "      <td>I00631</td>\n",
       "      <td>157.00</td>\n",
       "      <td>0</td>\n",
       "    </tr>\n",
       "    <tr>\n",
       "      <th>2</th>\n",
       "      <td>I01101</td>\n",
       "      <td>1310.52</td>\n",
       "      <td>0</td>\n",
       "    </tr>\n",
       "    <tr>\n",
       "      <th>3</th>\n",
       "      <td>I01101</td>\n",
       "      <td>449.50</td>\n",
       "      <td>0</td>\n",
       "    </tr>\n",
       "    <tr>\n",
       "      <th>4</th>\n",
       "      <td>I01101</td>\n",
       "      <td>739.94</td>\n",
       "      <td>0</td>\n",
       "    </tr>\n",
       "    <tr>\n",
       "      <th>...</th>\n",
       "      <td>...</td>\n",
       "      <td>...</td>\n",
       "      <td>...</td>\n",
       "    </tr>\n",
       "    <tr>\n",
       "      <th>127913</th>\n",
       "      <td>I01010</td>\n",
       "      <td>4140.00</td>\n",
       "      <td>0</td>\n",
       "    </tr>\n",
       "    <tr>\n",
       "      <th>127914</th>\n",
       "      <td>I01010</td>\n",
       "      <td>26342.81</td>\n",
       "      <td>1</td>\n",
       "    </tr>\n",
       "    <tr>\n",
       "      <th>127915</th>\n",
       "      <td>I01010</td>\n",
       "      <td>17601.88</td>\n",
       "      <td>1</td>\n",
       "    </tr>\n",
       "    <tr>\n",
       "      <th>127916</th>\n",
       "      <td>I01010</td>\n",
       "      <td>19234.58</td>\n",
       "      <td>1</td>\n",
       "    </tr>\n",
       "    <tr>\n",
       "      <th>127917</th>\n",
       "      <td>I01010</td>\n",
       "      <td>16225.42</td>\n",
       "      <td>1</td>\n",
       "    </tr>\n",
       "  </tbody>\n",
       "</table>\n",
       "<p>127918 rows × 3 columns</p>\n",
       "</div>"
      ],
      "text/plain": [
       "        NROCTA    PRECIO  kmean\n",
       "0       I00794   6802.29      0\n",
       "1       I00631    157.00      0\n",
       "2       I01101   1310.52      0\n",
       "3       I01101    449.50      0\n",
       "4       I01101    739.94      0\n",
       "...        ...       ...    ...\n",
       "127913  I01010   4140.00      0\n",
       "127914  I01010  26342.81      1\n",
       "127915  I01010  17601.88      1\n",
       "127916  I01010  19234.58      1\n",
       "127917  I01010  16225.42      1\n",
       "\n",
       "[127918 rows x 3 columns]"
      ]
     },
     "execution_count": 36,
     "metadata": {},
     "output_type": "execute_result"
    }
   ],
   "source": [
    "df_ventas['kmean'] = y_kmeans\n",
    "df_ventas[['NROCTA', 'PRECIO', 'kmean']]"
   ]
  }
 ],
 "metadata": {
  "interpreter": {
   "hash": "a12ff8c7a91ea37f5992d09ea518b599018c1dcd85b39a87bb2da8ef6d0f94da"
  },
  "kernelspec": {
   "display_name": "Python 3.9.10 64-bit (windows store)",
   "language": "python",
   "name": "python3"
  },
  "language_info": {
   "codemirror_mode": {
    "name": "ipython",
    "version": 3
   },
   "file_extension": ".py",
   "mimetype": "text/x-python",
   "name": "python",
   "nbconvert_exporter": "python",
   "pygments_lexer": "ipython3",
   "version": "3.9.12"
  },
  "orig_nbformat": 4
 },
 "nbformat": 4,
 "nbformat_minor": 2
}
