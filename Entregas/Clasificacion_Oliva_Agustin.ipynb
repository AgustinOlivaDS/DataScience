{
 "cells": [
  {
   "cell_type": "markdown",
   "metadata": {},
   "source": [
    "## Algoritmos de Clasificación \n",
    "Teniendo en cuenta el primer entregable, al final se implementarán dos algoritmos de clasificación"
   ]
  },
  {
   "cell_type": "markdown",
   "metadata": {},
   "source": [
    "### Data Wrangling"
   ]
  },
  {
   "cell_type": "markdown",
   "metadata": {
    "id": "1r3_g8YaiOq0"
   },
   "source": [
    "Importar las librerías"
   ]
  },
  {
   "cell_type": "code",
   "execution_count": 1,
   "metadata": {
    "id": "4va9WTJ5iOq0"
   },
   "outputs": [],
   "source": [
    "#DESHABILITO LOS WARNINIGS\n",
    "import warnings\n",
    "warnings.filterwarnings('ignore')\n",
    "\n",
    "#Datos\n",
    "import pandas as pd\n",
    "import numpy as np\n",
    "import pandas_profiling\n",
    "\n",
    "# Visualizacion de Datos\n",
    "import matplotlib\n",
    "import matplotlib.pyplot as plt\n",
    "import seaborn as sns\n",
    "# esta línea se agrega para que imprima los gráficos dentro del notebook\n",
    "%matplotlib inline  \n",
    "#pip install funpymodeling\n",
    "from funpymodeling.exploratory import profiling_num\n",
    "from funpymodeling.exploratory import freq_tbl"
   ]
  },
  {
   "cell_type": "markdown",
   "metadata": {
    "id": "7KOz5tGaiOq1"
   },
   "source": [
    "Importar el archivo csv"
   ]
  },
  {
   "cell_type": "code",
   "execution_count": 2,
   "metadata": {
    "colab": {
     "base_uri": "https://localhost:8080/",
     "height": 365
    },
    "id": "9nc5P1xuiOq2",
    "outputId": "b6553f95-82da-4603-ecab-0d6ede70a94d"
   },
   "outputs": [
    {
     "data": {
      "text/html": [
       "<div>\n",
       "<style scoped>\n",
       "    .dataframe tbody tr th:only-of-type {\n",
       "        vertical-align: middle;\n",
       "    }\n",
       "\n",
       "    .dataframe tbody tr th {\n",
       "        vertical-align: top;\n",
       "    }\n",
       "\n",
       "    .dataframe thead th {\n",
       "        text-align: right;\n",
       "    }\n",
       "</style>\n",
       "<table border=\"1\" class=\"dataframe\">\n",
       "  <thead>\n",
       "    <tr style=\"text-align: right;\">\n",
       "      <th></th>\n",
       "      <th>DS_CODZON</th>\n",
       "      <th>CODCOM</th>\n",
       "      <th>FCHMOV</th>\n",
       "      <th>NROCTA</th>\n",
       "      <th>DS_NROCTA</th>\n",
       "      <th>CLASIF</th>\n",
       "      <th>REGION</th>\n",
       "      <th>ZONAR</th>\n",
       "      <th>DS_VNDDOR</th>\n",
       "      <th>CANTID</th>\n",
       "      <th>IMPORT</th>\n",
       "      <th>PCTBFN</th>\n",
       "      <th>TIPPRO</th>\n",
       "      <th>ARTCOD</th>\n",
       "      <th>DS_ARTCOD</th>\n",
       "      <th>CANAL</th>\n",
       "      <th>REPRES</th>\n",
       "      <th>NEGOCI</th>\n",
       "      <th>SEGMEN</th>\n",
       "      <th>SUBSEG</th>\n",
       "    </tr>\n",
       "  </thead>\n",
       "  <tbody>\n",
       "    <tr>\n",
       "      <th>0</th>\n",
       "      <td>GBA Sur</td>\n",
       "      <td>NC0000</td>\n",
       "      <td>2020-01-02 00:00:00.000</td>\n",
       "      <td>I00794</td>\n",
       "      <td>SILVA IMPORTACIONES S.A.</td>\n",
       "      <td>Cliente C (resto de los clientes)</td>\n",
       "      <td>GBA</td>\n",
       "      <td>GBASUR</td>\n",
       "      <td>Juan Jose Gutemberg</td>\n",
       "      <td>-1.0</td>\n",
       "      <td>-6802.29</td>\n",
       "      <td>0.0</td>\n",
       "      <td>PT</td>\n",
       "      <td>VTI01350M</td>\n",
       "      <td>(NO USAR, DISCONTINUADO) Taladro inalambrico 1...</td>\n",
       "      <td>HERRAMIENTAS ELECTRICAS</td>\n",
       "      <td>TOTAL</td>\n",
       "      <td>HERRAMIENTAS</td>\n",
       "      <td>INALAMBRICAS</td>\n",
       "      <td>18V</td>\n",
       "    </tr>\n",
       "    <tr>\n",
       "      <th>1</th>\n",
       "      <td>PATAGONIA (Neuquen/Rio Negro/Chubut/Santa Cruz...</td>\n",
       "      <td>NC0000</td>\n",
       "      <td>2020-01-02 00:00:00.000</td>\n",
       "      <td>I00631</td>\n",
       "      <td>SEPULVEDA JUAN MANUEL</td>\n",
       "      <td>Cliente C (resto de los clientes)</td>\n",
       "      <td>NEUQUEN</td>\n",
       "      <td>NEUQUEN</td>\n",
       "      <td>Martin Mere</td>\n",
       "      <td>-12.0</td>\n",
       "      <td>-1884.02</td>\n",
       "      <td>0.0</td>\n",
       "      <td>PT</td>\n",
       "      <td>XAR030300</td>\n",
       "      <td>Acople rapido 1/2`` para riego TOTAL THWS030301</td>\n",
       "      <td>HERRAMIENTAS MANUALES</td>\n",
       "      <td>TOTAL</td>\n",
       "      <td>HERRAMIENTAS</td>\n",
       "      <td>MANUALES</td>\n",
       "      <td>Poda</td>\n",
       "    </tr>\n",
       "    <tr>\n",
       "      <th>2</th>\n",
       "      <td>GBA Norte</td>\n",
       "      <td>NC0000</td>\n",
       "      <td>2020-01-03 00:00:00.000</td>\n",
       "      <td>I01101</td>\n",
       "      <td>DECKER DIEGO ROBERTO</td>\n",
       "      <td>Cliente C (resto de los clientes)</td>\n",
       "      <td>GBA</td>\n",
       "      <td>GBANOR</td>\n",
       "      <td>CARLOS MICELI</td>\n",
       "      <td>-1.0</td>\n",
       "      <td>-1310.52</td>\n",
       "      <td>0.0</td>\n",
       "      <td>PT</td>\n",
       "      <td>XLS003700</td>\n",
       "      <td>Llave Sueca 1-1/2´´ TOTAL THT172151</td>\n",
       "      <td>HERRAMIENTAS MANUALES</td>\n",
       "      <td>TOTAL</td>\n",
       "      <td>HERRAMIENTAS</td>\n",
       "      <td>MANUALES</td>\n",
       "      <td>Llaves de Caño</td>\n",
       "    </tr>\n",
       "    <tr>\n",
       "      <th>3</th>\n",
       "      <td>GBA Norte</td>\n",
       "      <td>NC0000</td>\n",
       "      <td>2020-01-03 00:00:00.000</td>\n",
       "      <td>I01101</td>\n",
       "      <td>DECKER DIEGO ROBERTO</td>\n",
       "      <td>Cliente C (resto de los clientes)</td>\n",
       "      <td>GBA</td>\n",
       "      <td>GBANOR</td>\n",
       "      <td>CARLOS MICELI</td>\n",
       "      <td>-2.0</td>\n",
       "      <td>-899.01</td>\n",
       "      <td>0.0</td>\n",
       "      <td>PT</td>\n",
       "      <td>XTQI01580</td>\n",
       "      <td>Llave cricket158mm INDUSTRIAL TOTAL  THT106146</td>\n",
       "      <td>HERRAMIENTAS MANUALES</td>\n",
       "      <td>TOTAL</td>\n",
       "      <td>HERRAMIENTAS</td>\n",
       "      <td>MANUALES</td>\n",
       "      <td>Llaves</td>\n",
       "    </tr>\n",
       "    <tr>\n",
       "      <th>4</th>\n",
       "      <td>GBA Norte</td>\n",
       "      <td>NC0000</td>\n",
       "      <td>2020-01-03 00:00:00.000</td>\n",
       "      <td>I01101</td>\n",
       "      <td>DECKER DIEGO ROBERTO</td>\n",
       "      <td>Cliente C (resto de los clientes)</td>\n",
       "      <td>GBA</td>\n",
       "      <td>GBANOR</td>\n",
       "      <td>CARLOS MICELI</td>\n",
       "      <td>-2.0</td>\n",
       "      <td>-1479.87</td>\n",
       "      <td>0.0</td>\n",
       "      <td>PT</td>\n",
       "      <td>XTQI02600</td>\n",
       "      <td>Llave cricket 260mm INDUSTRIAL TOTAL  THT106126</td>\n",
       "      <td>HERRAMIENTAS MANUALES</td>\n",
       "      <td>TOTAL</td>\n",
       "      <td>HERRAMIENTAS</td>\n",
       "      <td>MANUALES</td>\n",
       "      <td>Bocallaves y accesorios</td>\n",
       "    </tr>\n",
       "  </tbody>\n",
       "</table>\n",
       "</div>"
      ],
      "text/plain": [
       "                                           DS_CODZON  CODCOM  \\\n",
       "0                                            GBA Sur  NC0000   \n",
       "1  PATAGONIA (Neuquen/Rio Negro/Chubut/Santa Cruz...  NC0000   \n",
       "2                                          GBA Norte  NC0000   \n",
       "3                                          GBA Norte  NC0000   \n",
       "4                                          GBA Norte  NC0000   \n",
       "\n",
       "                    FCHMOV  NROCTA                 DS_NROCTA  \\\n",
       "0  2020-01-02 00:00:00.000  I00794  SILVA IMPORTACIONES S.A.   \n",
       "1  2020-01-02 00:00:00.000  I00631     SEPULVEDA JUAN MANUEL   \n",
       "2  2020-01-03 00:00:00.000  I01101      DECKER DIEGO ROBERTO   \n",
       "3  2020-01-03 00:00:00.000  I01101      DECKER DIEGO ROBERTO   \n",
       "4  2020-01-03 00:00:00.000  I01101      DECKER DIEGO ROBERTO   \n",
       "\n",
       "                              CLASIF   REGION    ZONAR            DS_VNDDOR  \\\n",
       "0  Cliente C (resto de los clientes)      GBA   GBASUR  Juan Jose Gutemberg   \n",
       "1  Cliente C (resto de los clientes)  NEUQUEN  NEUQUEN          Martin Mere   \n",
       "2  Cliente C (resto de los clientes)      GBA   GBANOR        CARLOS MICELI   \n",
       "3  Cliente C (resto de los clientes)      GBA   GBANOR        CARLOS MICELI   \n",
       "4  Cliente C (resto de los clientes)      GBA   GBANOR        CARLOS MICELI   \n",
       "\n",
       "   CANTID   IMPORT  PCTBFN  TIPPRO     ARTCOD  \\\n",
       "0    -1.0 -6802.29     0.0  PT      VTI01350M   \n",
       "1   -12.0 -1884.02     0.0  PT      XAR030300   \n",
       "2    -1.0 -1310.52     0.0  PT      XLS003700   \n",
       "3    -2.0  -899.01     0.0  PT      XTQI01580   \n",
       "4    -2.0 -1479.87     0.0  PT      XTQI02600   \n",
       "\n",
       "                                           DS_ARTCOD                    CANAL  \\\n",
       "0  (NO USAR, DISCONTINUADO) Taladro inalambrico 1...  HERRAMIENTAS ELECTRICAS   \n",
       "1    Acople rapido 1/2`` para riego TOTAL THWS030301    HERRAMIENTAS MANUALES   \n",
       "2                Llave Sueca 1-1/2´´ TOTAL THT172151    HERRAMIENTAS MANUALES   \n",
       "3     Llave cricket158mm INDUSTRIAL TOTAL  THT106146    HERRAMIENTAS MANUALES   \n",
       "4    Llave cricket 260mm INDUSTRIAL TOTAL  THT106126    HERRAMIENTAS MANUALES   \n",
       "\n",
       "  REPRES        NEGOCI        SEGMEN                   SUBSEG  \n",
       "0  TOTAL  HERRAMIENTAS  INALAMBRICAS                      18V  \n",
       "1  TOTAL  HERRAMIENTAS      MANUALES                     Poda  \n",
       "2  TOTAL  HERRAMIENTAS      MANUALES           Llaves de Caño  \n",
       "3  TOTAL  HERRAMIENTAS      MANUALES                   Llaves  \n",
       "4  TOTAL  HERRAMIENTAS      MANUALES  Bocallaves y accesorios  "
      ]
     },
     "execution_count": 2,
     "metadata": {},
     "output_type": "execute_result"
    }
   ],
   "source": [
    "#Completar\n",
    "df_ventas = pd.read_csv('./files/HistoricoVentas.csv', sep=';')\n",
    "df_ventas.head()"
   ]
  },
  {
   "cell_type": "code",
   "execution_count": 3,
   "metadata": {
    "colab": {
     "base_uri": "https://localhost:8080/"
    },
    "executionInfo": {
     "elapsed": 637,
     "status": "ok",
     "timestamp": 1647814888993,
     "user": {
      "displayName": "Aldo Sanchez",
      "photoUrl": "https://lh3.googleusercontent.com/a-/AOh14Gh9nuHrD0W0qzkY1uSTrV0AunQZ4sV8azTLASIj=s64",
      "userId": "00522355467807237656"
     },
     "user_tz": 180
    },
    "id": "XPLIaKbtv---",
    "outputId": "2bf64b44-0415-4c2e-ca28-599a34932226"
   },
   "outputs": [
    {
     "data": {
      "text/plain": [
       "(127918, 20)"
      ]
     },
     "execution_count": 3,
     "metadata": {},
     "output_type": "execute_result"
    }
   ],
   "source": [
    "#Shape del dataframe\n",
    "df_ventas.shape"
   ]
  },
  {
   "cell_type": "code",
   "execution_count": 4,
   "metadata": {
    "colab": {
     "base_uri": "https://localhost:8080/"
    },
    "executionInfo": {
     "elapsed": 528,
     "status": "ok",
     "timestamp": 1647814897846,
     "user": {
      "displayName": "Aldo Sanchez",
      "photoUrl": "https://lh3.googleusercontent.com/a-/AOh14Gh9nuHrD0W0qzkY1uSTrV0AunQZ4sV8azTLASIj=s64",
      "userId": "00522355467807237656"
     },
     "user_tz": 180
    },
    "id": "nLflXhfuw_RW",
    "outputId": "7a1f3814-0a1a-435f-8285-cc0365db6dd1"
   },
   "outputs": [
    {
     "data": {
      "text/plain": [
       "DS_CODZON     object\n",
       "CODCOM        object\n",
       "FCHMOV        object\n",
       "NROCTA        object\n",
       "DS_NROCTA     object\n",
       "CLASIF        object\n",
       "REGION        object\n",
       "ZONAR         object\n",
       "DS_VNDDOR     object\n",
       "CANTID       float64\n",
       "IMPORT       float64\n",
       "PCTBFN       float64\n",
       "TIPPRO        object\n",
       "ARTCOD        object\n",
       "DS_ARTCOD     object\n",
       "CANAL         object\n",
       "REPRES        object\n",
       "NEGOCI        object\n",
       "SEGMEN        object\n",
       "SUBSEG        object\n",
       "dtype: object"
      ]
     },
     "execution_count": 4,
     "metadata": {},
     "output_type": "execute_result"
    }
   ],
   "source": [
    "#Tipos de datos que componen el df_ventas\n",
    "df_ventas.dtypes"
   ]
  },
  {
   "cell_type": "code",
   "execution_count": 5,
   "metadata": {
    "colab": {
     "base_uri": "https://localhost:8080/"
    },
    "executionInfo": {
     "elapsed": 515,
     "status": "ok",
     "timestamp": 1647814905192,
     "user": {
      "displayName": "Aldo Sanchez",
      "photoUrl": "https://lh3.googleusercontent.com/a-/AOh14Gh9nuHrD0W0qzkY1uSTrV0AunQZ4sV8azTLASIj=s64",
      "userId": "00522355467807237656"
     },
     "user_tz": 180
    },
    "id": "GlkAb2fnw_HG",
    "outputId": "11417b32-ec71-49b1-c935-67aba584304b"
   },
   "outputs": [
    {
     "data": {
      "text/plain": [
       "DS_CODZON    127918\n",
       "CODCOM       127918\n",
       "FCHMOV       127918\n",
       "NROCTA       127918\n",
       "DS_NROCTA    127918\n",
       "CLASIF       123739\n",
       "REGION       127918\n",
       "ZONAR        127918\n",
       "DS_VNDDOR    127918\n",
       "CANTID       127918\n",
       "IMPORT       127918\n",
       "PCTBFN       127918\n",
       "TIPPRO       127918\n",
       "ARTCOD       127918\n",
       "DS_ARTCOD    127918\n",
       "CANAL        126527\n",
       "REPRES       127918\n",
       "NEGOCI       127918\n",
       "SEGMEN       127918\n",
       "SUBSEG       127918\n",
       "dtype: int64"
      ]
     },
     "execution_count": 5,
     "metadata": {},
     "output_type": "execute_result"
    }
   ],
   "source": [
    "#Total de registros por columnas\n",
    "df_ventas.count()"
   ]
  },
  {
   "cell_type": "code",
   "execution_count": 6,
   "metadata": {
    "colab": {
     "base_uri": "https://localhost:8080/"
    },
    "executionInfo": {
     "elapsed": 6,
     "status": "ok",
     "timestamp": 1647814907480,
     "user": {
      "displayName": "Aldo Sanchez",
      "photoUrl": "https://lh3.googleusercontent.com/a-/AOh14Gh9nuHrD0W0qzkY1uSTrV0AunQZ4sV8azTLASIj=s64",
      "userId": "00522355467807237656"
     },
     "user_tz": 180
    },
    "id": "LS6H4pIdw-3v",
    "outputId": "90f1f88c-3b49-411a-d638-3fe0034044c0"
   },
   "outputs": [
    {
     "name": "stdout",
     "output_type": "stream",
     "text": [
      "<class 'pandas.core.frame.DataFrame'>\n",
      "RangeIndex: 127918 entries, 0 to 127917\n",
      "Data columns (total 20 columns):\n",
      " #   Column     Non-Null Count   Dtype  \n",
      "---  ------     --------------   -----  \n",
      " 0   DS_CODZON  127918 non-null  object \n",
      " 1   CODCOM     127918 non-null  object \n",
      " 2   FCHMOV     127918 non-null  object \n",
      " 3   NROCTA     127918 non-null  object \n",
      " 4   DS_NROCTA  127918 non-null  object \n",
      " 5   CLASIF     123739 non-null  object \n",
      " 6   REGION     127918 non-null  object \n",
      " 7   ZONAR      127918 non-null  object \n",
      " 8   DS_VNDDOR  127918 non-null  object \n",
      " 9   CANTID     127918 non-null  float64\n",
      " 10  IMPORT     127918 non-null  float64\n",
      " 11  PCTBFN     127918 non-null  float64\n",
      " 12  TIPPRO     127918 non-null  object \n",
      " 13  ARTCOD     127918 non-null  object \n",
      " 14  DS_ARTCOD  127918 non-null  object \n",
      " 15  CANAL      126527 non-null  object \n",
      " 16  REPRES     127918 non-null  object \n",
      " 17  NEGOCI     127918 non-null  object \n",
      " 18  SEGMEN     127918 non-null  object \n",
      " 19  SUBSEG     127918 non-null  object \n",
      "dtypes: float64(3), object(17)\n",
      "memory usage: 19.5+ MB\n"
     ]
    }
   ],
   "source": [
    "#Informacion de la estructura de df_ventas\n",
    "df_ventas.info()"
   ]
  },
  {
   "cell_type": "code",
   "execution_count": 7,
   "metadata": {
    "colab": {
     "base_uri": "https://localhost:8080/"
    },
    "executionInfo": {
     "elapsed": 466,
     "status": "ok",
     "timestamp": 1647824772890,
     "user": {
      "displayName": "Aldo Sanchez",
      "photoUrl": "https://lh3.googleusercontent.com/a-/AOh14Gh9nuHrD0W0qzkY1uSTrV0AunQZ4sV8azTLASIj=s64",
      "userId": "00522355467807237656"
     },
     "user_tz": 180
    },
    "id": "kcRVcHVbz3jT",
    "outputId": "d3ab01ae-f939-4b0f-cb01-68df61aa5b19"
   },
   "outputs": [
    {
     "data": {
      "text/plain": [
       "DS_CODZON            object\n",
       "CODCOM               object\n",
       "FCHMOV       datetime64[ns]\n",
       "NROCTA               object\n",
       "DS_NROCTA            object\n",
       "CLASIF               object\n",
       "REGION               object\n",
       "ZONAR                object\n",
       "DS_VNDDOR            object\n",
       "CANTID              float64\n",
       "IMPORT              float64\n",
       "PCTBFN              float64\n",
       "TIPPRO               object\n",
       "ARTCOD               object\n",
       "DS_ARTCOD            object\n",
       "CANAL                object\n",
       "REPRES               object\n",
       "NEGOCI               object\n",
       "SEGMEN               object\n",
       "SUBSEG               object\n",
       "dtype: object"
      ]
     },
     "execution_count": 7,
     "metadata": {},
     "output_type": "execute_result"
    }
   ],
   "source": [
    "df_ventas['FCHMOV'] = pd.to_datetime(df_ventas['FCHMOV']) #Se convierte columna de fecha de movimiento a fecha\n",
    "df_ventas.dtypes"
   ]
  },
  {
   "cell_type": "code",
   "execution_count": 8,
   "metadata": {
    "colab": {
     "base_uri": "https://localhost:8080/",
     "height": 595
    },
    "executionInfo": {
     "elapsed": 420,
     "status": "ok",
     "timestamp": 1647824819926,
     "user": {
      "displayName": "Aldo Sanchez",
      "photoUrl": "https://lh3.googleusercontent.com/a-/AOh14Gh9nuHrD0W0qzkY1uSTrV0AunQZ4sV8azTLASIj=s64",
      "userId": "00522355467807237656"
     },
     "user_tz": 180
    },
    "id": "M1U-nV4SxPIn",
    "outputId": "64ee779b-ff72-4c47-88e7-0d3437b388bf"
   },
   "outputs": [
    {
     "data": {
      "text/html": [
       "<div>\n",
       "<style scoped>\n",
       "    .dataframe tbody tr th:only-of-type {\n",
       "        vertical-align: middle;\n",
       "    }\n",
       "\n",
       "    .dataframe tbody tr th {\n",
       "        vertical-align: top;\n",
       "    }\n",
       "\n",
       "    .dataframe thead th {\n",
       "        text-align: right;\n",
       "    }\n",
       "</style>\n",
       "<table border=\"1\" class=\"dataframe\">\n",
       "  <thead>\n",
       "    <tr style=\"text-align: right;\">\n",
       "      <th></th>\n",
       "      <th>DS_CODZON</th>\n",
       "      <th>CODCOM</th>\n",
       "      <th>FCHMOV</th>\n",
       "      <th>NROCTA</th>\n",
       "      <th>DS_NROCTA</th>\n",
       "      <th>CLASIF</th>\n",
       "      <th>REGION</th>\n",
       "      <th>ZONAR</th>\n",
       "      <th>DS_VNDDOR</th>\n",
       "      <th>CANTID</th>\n",
       "      <th>...</th>\n",
       "      <th>DS_ARTCOD</th>\n",
       "      <th>CANAL</th>\n",
       "      <th>REPRES</th>\n",
       "      <th>NEGOCI</th>\n",
       "      <th>SEGMEN</th>\n",
       "      <th>SUBSEG</th>\n",
       "      <th>Anio</th>\n",
       "      <th>Mes</th>\n",
       "      <th>Periodo</th>\n",
       "      <th>PRECIO</th>\n",
       "    </tr>\n",
       "  </thead>\n",
       "  <tbody>\n",
       "    <tr>\n",
       "      <th>0</th>\n",
       "      <td>GBA Sur</td>\n",
       "      <td>NC0000</td>\n",
       "      <td>2020-01-02</td>\n",
       "      <td>I00794</td>\n",
       "      <td>SILVA IMPORTACIONES S.A.</td>\n",
       "      <td>Cliente C (resto de los clientes)</td>\n",
       "      <td>GBA</td>\n",
       "      <td>GBASUR</td>\n",
       "      <td>Juan Jose Gutemberg</td>\n",
       "      <td>-1.0</td>\n",
       "      <td>...</td>\n",
       "      <td>(NO USAR, DISCONTINUADO) Taladro inalambrico 1...</td>\n",
       "      <td>HERRAMIENTAS ELECTRICAS</td>\n",
       "      <td>TOTAL</td>\n",
       "      <td>HERRAMIENTAS</td>\n",
       "      <td>INALAMBRICAS</td>\n",
       "      <td>18V</td>\n",
       "      <td>2020</td>\n",
       "      <td>1</td>\n",
       "      <td>20201</td>\n",
       "      <td>6802.29</td>\n",
       "    </tr>\n",
       "    <tr>\n",
       "      <th>1</th>\n",
       "      <td>PATAGONIA (Neuquen/Rio Negro/Chubut/Santa Cruz...</td>\n",
       "      <td>NC0000</td>\n",
       "      <td>2020-01-02</td>\n",
       "      <td>I00631</td>\n",
       "      <td>SEPULVEDA JUAN MANUEL</td>\n",
       "      <td>Cliente C (resto de los clientes)</td>\n",
       "      <td>NEUQUEN</td>\n",
       "      <td>NEUQUEN</td>\n",
       "      <td>Martin Mere</td>\n",
       "      <td>-12.0</td>\n",
       "      <td>...</td>\n",
       "      <td>Acople rapido 1/2`` para riego TOTAL THWS030301</td>\n",
       "      <td>HERRAMIENTAS MANUALES</td>\n",
       "      <td>TOTAL</td>\n",
       "      <td>HERRAMIENTAS</td>\n",
       "      <td>MANUALES</td>\n",
       "      <td>Poda</td>\n",
       "      <td>2020</td>\n",
       "      <td>1</td>\n",
       "      <td>20201</td>\n",
       "      <td>157.00</td>\n",
       "    </tr>\n",
       "    <tr>\n",
       "      <th>2</th>\n",
       "      <td>GBA Norte</td>\n",
       "      <td>NC0000</td>\n",
       "      <td>2020-01-03</td>\n",
       "      <td>I01101</td>\n",
       "      <td>DECKER DIEGO ROBERTO</td>\n",
       "      <td>Cliente C (resto de los clientes)</td>\n",
       "      <td>GBA</td>\n",
       "      <td>GBANOR</td>\n",
       "      <td>CARLOS MICELI</td>\n",
       "      <td>-1.0</td>\n",
       "      <td>...</td>\n",
       "      <td>Llave Sueca 1-1/2´´ TOTAL THT172151</td>\n",
       "      <td>HERRAMIENTAS MANUALES</td>\n",
       "      <td>TOTAL</td>\n",
       "      <td>HERRAMIENTAS</td>\n",
       "      <td>MANUALES</td>\n",
       "      <td>Llaves de Caño</td>\n",
       "      <td>2020</td>\n",
       "      <td>1</td>\n",
       "      <td>20201</td>\n",
       "      <td>1310.52</td>\n",
       "    </tr>\n",
       "    <tr>\n",
       "      <th>3</th>\n",
       "      <td>GBA Norte</td>\n",
       "      <td>NC0000</td>\n",
       "      <td>2020-01-03</td>\n",
       "      <td>I01101</td>\n",
       "      <td>DECKER DIEGO ROBERTO</td>\n",
       "      <td>Cliente C (resto de los clientes)</td>\n",
       "      <td>GBA</td>\n",
       "      <td>GBANOR</td>\n",
       "      <td>CARLOS MICELI</td>\n",
       "      <td>-2.0</td>\n",
       "      <td>...</td>\n",
       "      <td>Llave cricket158mm INDUSTRIAL TOTAL  THT106146</td>\n",
       "      <td>HERRAMIENTAS MANUALES</td>\n",
       "      <td>TOTAL</td>\n",
       "      <td>HERRAMIENTAS</td>\n",
       "      <td>MANUALES</td>\n",
       "      <td>Llaves</td>\n",
       "      <td>2020</td>\n",
       "      <td>1</td>\n",
       "      <td>20201</td>\n",
       "      <td>449.50</td>\n",
       "    </tr>\n",
       "    <tr>\n",
       "      <th>4</th>\n",
       "      <td>GBA Norte</td>\n",
       "      <td>NC0000</td>\n",
       "      <td>2020-01-03</td>\n",
       "      <td>I01101</td>\n",
       "      <td>DECKER DIEGO ROBERTO</td>\n",
       "      <td>Cliente C (resto de los clientes)</td>\n",
       "      <td>GBA</td>\n",
       "      <td>GBANOR</td>\n",
       "      <td>CARLOS MICELI</td>\n",
       "      <td>-2.0</td>\n",
       "      <td>...</td>\n",
       "      <td>Llave cricket 260mm INDUSTRIAL TOTAL  THT106126</td>\n",
       "      <td>HERRAMIENTAS MANUALES</td>\n",
       "      <td>TOTAL</td>\n",
       "      <td>HERRAMIENTAS</td>\n",
       "      <td>MANUALES</td>\n",
       "      <td>Bocallaves y accesorios</td>\n",
       "      <td>2020</td>\n",
       "      <td>1</td>\n",
       "      <td>20201</td>\n",
       "      <td>739.94</td>\n",
       "    </tr>\n",
       "  </tbody>\n",
       "</table>\n",
       "<p>5 rows × 24 columns</p>\n",
       "</div>"
      ],
      "text/plain": [
       "                                           DS_CODZON  CODCOM     FCHMOV  \\\n",
       "0                                            GBA Sur  NC0000 2020-01-02   \n",
       "1  PATAGONIA (Neuquen/Rio Negro/Chubut/Santa Cruz...  NC0000 2020-01-02   \n",
       "2                                          GBA Norte  NC0000 2020-01-03   \n",
       "3                                          GBA Norte  NC0000 2020-01-03   \n",
       "4                                          GBA Norte  NC0000 2020-01-03   \n",
       "\n",
       "   NROCTA                 DS_NROCTA                             CLASIF  \\\n",
       "0  I00794  SILVA IMPORTACIONES S.A.  Cliente C (resto de los clientes)   \n",
       "1  I00631     SEPULVEDA JUAN MANUEL  Cliente C (resto de los clientes)   \n",
       "2  I01101      DECKER DIEGO ROBERTO  Cliente C (resto de los clientes)   \n",
       "3  I01101      DECKER DIEGO ROBERTO  Cliente C (resto de los clientes)   \n",
       "4  I01101      DECKER DIEGO ROBERTO  Cliente C (resto de los clientes)   \n",
       "\n",
       "    REGION    ZONAR            DS_VNDDOR  CANTID  ...  \\\n",
       "0      GBA   GBASUR  Juan Jose Gutemberg    -1.0  ...   \n",
       "1  NEUQUEN  NEUQUEN          Martin Mere   -12.0  ...   \n",
       "2      GBA   GBANOR        CARLOS MICELI    -1.0  ...   \n",
       "3      GBA   GBANOR        CARLOS MICELI    -2.0  ...   \n",
       "4      GBA   GBANOR        CARLOS MICELI    -2.0  ...   \n",
       "\n",
       "                                           DS_ARTCOD                    CANAL  \\\n",
       "0  (NO USAR, DISCONTINUADO) Taladro inalambrico 1...  HERRAMIENTAS ELECTRICAS   \n",
       "1    Acople rapido 1/2`` para riego TOTAL THWS030301    HERRAMIENTAS MANUALES   \n",
       "2                Llave Sueca 1-1/2´´ TOTAL THT172151    HERRAMIENTAS MANUALES   \n",
       "3     Llave cricket158mm INDUSTRIAL TOTAL  THT106146    HERRAMIENTAS MANUALES   \n",
       "4    Llave cricket 260mm INDUSTRIAL TOTAL  THT106126    HERRAMIENTAS MANUALES   \n",
       "\n",
       "  REPRES        NEGOCI        SEGMEN                   SUBSEG  Anio Mes  \\\n",
       "0  TOTAL  HERRAMIENTAS  INALAMBRICAS                      18V  2020   1   \n",
       "1  TOTAL  HERRAMIENTAS      MANUALES                     Poda  2020   1   \n",
       "2  TOTAL  HERRAMIENTAS      MANUALES           Llaves de Caño  2020   1   \n",
       "3  TOTAL  HERRAMIENTAS      MANUALES                   Llaves  2020   1   \n",
       "4  TOTAL  HERRAMIENTAS      MANUALES  Bocallaves y accesorios  2020   1   \n",
       "\n",
       "  Periodo   PRECIO  \n",
       "0   20201  6802.29  \n",
       "1   20201   157.00  \n",
       "2   20201  1310.52  \n",
       "3   20201   449.50  \n",
       "4   20201   739.94  \n",
       "\n",
       "[5 rows x 24 columns]"
      ]
     },
     "execution_count": 8,
     "metadata": {},
     "output_type": "execute_result"
    }
   ],
   "source": [
    "#Generar dos columnas de periodo (Año y Mes) a partir de la fecha de venta\n",
    "df_ventas['Anio'] = df_ventas['FCHMOV'].dt.year \n",
    "df_ventas['Mes'] = df_ventas['FCHMOV'].dt.month\n",
    "df_ventas['Periodo'] = pd.to_numeric(df_ventas[\"Anio\"].apply(str) + df_ventas[\"Mes\"].apply(str))\n",
    "#Generar columna precio\n",
    "df_ventas['PRECIO'] = np.round(df_ventas['IMPORT']/df_ventas['CANTID'], decimals = 2) \n",
    "df_ventas.head()"
   ]
  },
  {
   "cell_type": "code",
   "execution_count": 9,
   "metadata": {
    "colab": {
     "base_uri": "https://localhost:8080/",
     "height": 595
    },
    "executionInfo": {
     "elapsed": 458,
     "status": "ok",
     "timestamp": 1647824825390,
     "user": {
      "displayName": "Aldo Sanchez",
      "photoUrl": "https://lh3.googleusercontent.com/a-/AOh14Gh9nuHrD0W0qzkY1uSTrV0AunQZ4sV8azTLASIj=s64",
      "userId": "00522355467807237656"
     },
     "user_tz": 180
    },
    "id": "IC4ltdzZy7tg",
    "outputId": "79553c74-db95-4f11-f55b-6c1334e3aa52"
   },
   "outputs": [
    {
     "data": {
      "text/html": [
       "<div>\n",
       "<style scoped>\n",
       "    .dataframe tbody tr th:only-of-type {\n",
       "        vertical-align: middle;\n",
       "    }\n",
       "\n",
       "    .dataframe tbody tr th {\n",
       "        vertical-align: top;\n",
       "    }\n",
       "\n",
       "    .dataframe thead th {\n",
       "        text-align: right;\n",
       "    }\n",
       "</style>\n",
       "<table border=\"1\" class=\"dataframe\">\n",
       "  <thead>\n",
       "    <tr style=\"text-align: right;\">\n",
       "      <th></th>\n",
       "      <th>DS_CODZON</th>\n",
       "      <th>CODCOM</th>\n",
       "      <th>FCHMOV</th>\n",
       "      <th>NROCTA</th>\n",
       "      <th>CLASIF</th>\n",
       "      <th>REGION</th>\n",
       "      <th>ZONAR</th>\n",
       "      <th>DS_VNDDOR</th>\n",
       "      <th>CANTID</th>\n",
       "      <th>IMPORT</th>\n",
       "      <th>...</th>\n",
       "      <th>DS_ARTCOD</th>\n",
       "      <th>CANAL</th>\n",
       "      <th>REPRES</th>\n",
       "      <th>NEGOCI</th>\n",
       "      <th>SEGMEN</th>\n",
       "      <th>SUBSEG</th>\n",
       "      <th>Anio</th>\n",
       "      <th>Mes</th>\n",
       "      <th>Periodo</th>\n",
       "      <th>PRECIO</th>\n",
       "    </tr>\n",
       "  </thead>\n",
       "  <tbody>\n",
       "    <tr>\n",
       "      <th>0</th>\n",
       "      <td>GBA Sur</td>\n",
       "      <td>NC0000</td>\n",
       "      <td>2020-01-02</td>\n",
       "      <td>I00794</td>\n",
       "      <td>Cliente C (resto de los clientes)</td>\n",
       "      <td>GBA</td>\n",
       "      <td>GBASUR</td>\n",
       "      <td>Juan Jose Gutemberg</td>\n",
       "      <td>-1.0</td>\n",
       "      <td>-6802.29</td>\n",
       "      <td>...</td>\n",
       "      <td>(NO USAR, DISCONTINUADO) Taladro inalambrico 1...</td>\n",
       "      <td>HERRAMIENTAS ELECTRICAS</td>\n",
       "      <td>TOTAL</td>\n",
       "      <td>HERRAMIENTAS</td>\n",
       "      <td>INALAMBRICAS</td>\n",
       "      <td>18V</td>\n",
       "      <td>2020</td>\n",
       "      <td>1</td>\n",
       "      <td>20201</td>\n",
       "      <td>6802.29</td>\n",
       "    </tr>\n",
       "    <tr>\n",
       "      <th>1</th>\n",
       "      <td>PATAGONIA (Neuquen/Rio Negro/Chubut/Santa Cruz...</td>\n",
       "      <td>NC0000</td>\n",
       "      <td>2020-01-02</td>\n",
       "      <td>I00631</td>\n",
       "      <td>Cliente C (resto de los clientes)</td>\n",
       "      <td>NEUQUEN</td>\n",
       "      <td>NEUQUEN</td>\n",
       "      <td>Martin Mere</td>\n",
       "      <td>-12.0</td>\n",
       "      <td>-1884.02</td>\n",
       "      <td>...</td>\n",
       "      <td>Acople rapido 1/2`` para riego TOTAL THWS030301</td>\n",
       "      <td>HERRAMIENTAS MANUALES</td>\n",
       "      <td>TOTAL</td>\n",
       "      <td>HERRAMIENTAS</td>\n",
       "      <td>MANUALES</td>\n",
       "      <td>Poda</td>\n",
       "      <td>2020</td>\n",
       "      <td>1</td>\n",
       "      <td>20201</td>\n",
       "      <td>157.00</td>\n",
       "    </tr>\n",
       "    <tr>\n",
       "      <th>2</th>\n",
       "      <td>GBA Norte</td>\n",
       "      <td>NC0000</td>\n",
       "      <td>2020-01-03</td>\n",
       "      <td>I01101</td>\n",
       "      <td>Cliente C (resto de los clientes)</td>\n",
       "      <td>GBA</td>\n",
       "      <td>GBANOR</td>\n",
       "      <td>CARLOS MICELI</td>\n",
       "      <td>-1.0</td>\n",
       "      <td>-1310.52</td>\n",
       "      <td>...</td>\n",
       "      <td>Llave Sueca 1-1/2´´ TOTAL THT172151</td>\n",
       "      <td>HERRAMIENTAS MANUALES</td>\n",
       "      <td>TOTAL</td>\n",
       "      <td>HERRAMIENTAS</td>\n",
       "      <td>MANUALES</td>\n",
       "      <td>Llaves de Caño</td>\n",
       "      <td>2020</td>\n",
       "      <td>1</td>\n",
       "      <td>20201</td>\n",
       "      <td>1310.52</td>\n",
       "    </tr>\n",
       "    <tr>\n",
       "      <th>3</th>\n",
       "      <td>GBA Norte</td>\n",
       "      <td>NC0000</td>\n",
       "      <td>2020-01-03</td>\n",
       "      <td>I01101</td>\n",
       "      <td>Cliente C (resto de los clientes)</td>\n",
       "      <td>GBA</td>\n",
       "      <td>GBANOR</td>\n",
       "      <td>CARLOS MICELI</td>\n",
       "      <td>-2.0</td>\n",
       "      <td>-899.01</td>\n",
       "      <td>...</td>\n",
       "      <td>Llave cricket158mm INDUSTRIAL TOTAL  THT106146</td>\n",
       "      <td>HERRAMIENTAS MANUALES</td>\n",
       "      <td>TOTAL</td>\n",
       "      <td>HERRAMIENTAS</td>\n",
       "      <td>MANUALES</td>\n",
       "      <td>Llaves</td>\n",
       "      <td>2020</td>\n",
       "      <td>1</td>\n",
       "      <td>20201</td>\n",
       "      <td>449.50</td>\n",
       "    </tr>\n",
       "    <tr>\n",
       "      <th>4</th>\n",
       "      <td>GBA Norte</td>\n",
       "      <td>NC0000</td>\n",
       "      <td>2020-01-03</td>\n",
       "      <td>I01101</td>\n",
       "      <td>Cliente C (resto de los clientes)</td>\n",
       "      <td>GBA</td>\n",
       "      <td>GBANOR</td>\n",
       "      <td>CARLOS MICELI</td>\n",
       "      <td>-2.0</td>\n",
       "      <td>-1479.87</td>\n",
       "      <td>...</td>\n",
       "      <td>Llave cricket 260mm INDUSTRIAL TOTAL  THT106126</td>\n",
       "      <td>HERRAMIENTAS MANUALES</td>\n",
       "      <td>TOTAL</td>\n",
       "      <td>HERRAMIENTAS</td>\n",
       "      <td>MANUALES</td>\n",
       "      <td>Bocallaves y accesorios</td>\n",
       "      <td>2020</td>\n",
       "      <td>1</td>\n",
       "      <td>20201</td>\n",
       "      <td>739.94</td>\n",
       "    </tr>\n",
       "  </tbody>\n",
       "</table>\n",
       "<p>5 rows × 23 columns</p>\n",
       "</div>"
      ],
      "text/plain": [
       "                                           DS_CODZON  CODCOM     FCHMOV  \\\n",
       "0                                            GBA Sur  NC0000 2020-01-02   \n",
       "1  PATAGONIA (Neuquen/Rio Negro/Chubut/Santa Cruz...  NC0000 2020-01-02   \n",
       "2                                          GBA Norte  NC0000 2020-01-03   \n",
       "3                                          GBA Norte  NC0000 2020-01-03   \n",
       "4                                          GBA Norte  NC0000 2020-01-03   \n",
       "\n",
       "   NROCTA                             CLASIF   REGION    ZONAR  \\\n",
       "0  I00794  Cliente C (resto de los clientes)      GBA   GBASUR   \n",
       "1  I00631  Cliente C (resto de los clientes)  NEUQUEN  NEUQUEN   \n",
       "2  I01101  Cliente C (resto de los clientes)      GBA   GBANOR   \n",
       "3  I01101  Cliente C (resto de los clientes)      GBA   GBANOR   \n",
       "4  I01101  Cliente C (resto de los clientes)      GBA   GBANOR   \n",
       "\n",
       "             DS_VNDDOR  CANTID   IMPORT  ...  \\\n",
       "0  Juan Jose Gutemberg    -1.0 -6802.29  ...   \n",
       "1          Martin Mere   -12.0 -1884.02  ...   \n",
       "2        CARLOS MICELI    -1.0 -1310.52  ...   \n",
       "3        CARLOS MICELI    -2.0  -899.01  ...   \n",
       "4        CARLOS MICELI    -2.0 -1479.87  ...   \n",
       "\n",
       "                                           DS_ARTCOD                    CANAL  \\\n",
       "0  (NO USAR, DISCONTINUADO) Taladro inalambrico 1...  HERRAMIENTAS ELECTRICAS   \n",
       "1    Acople rapido 1/2`` para riego TOTAL THWS030301    HERRAMIENTAS MANUALES   \n",
       "2                Llave Sueca 1-1/2´´ TOTAL THT172151    HERRAMIENTAS MANUALES   \n",
       "3     Llave cricket158mm INDUSTRIAL TOTAL  THT106146    HERRAMIENTAS MANUALES   \n",
       "4    Llave cricket 260mm INDUSTRIAL TOTAL  THT106126    HERRAMIENTAS MANUALES   \n",
       "\n",
       "  REPRES        NEGOCI        SEGMEN                   SUBSEG  Anio Mes  \\\n",
       "0  TOTAL  HERRAMIENTAS  INALAMBRICAS                      18V  2020   1   \n",
       "1  TOTAL  HERRAMIENTAS      MANUALES                     Poda  2020   1   \n",
       "2  TOTAL  HERRAMIENTAS      MANUALES           Llaves de Caño  2020   1   \n",
       "3  TOTAL  HERRAMIENTAS      MANUALES                   Llaves  2020   1   \n",
       "4  TOTAL  HERRAMIENTAS      MANUALES  Bocallaves y accesorios  2020   1   \n",
       "\n",
       "  Periodo   PRECIO  \n",
       "0   20201  6802.29  \n",
       "1   20201   157.00  \n",
       "2   20201  1310.52  \n",
       "3   20201   449.50  \n",
       "4   20201   739.94  \n",
       "\n",
       "[5 rows x 23 columns]"
      ]
     },
     "execution_count": 9,
     "metadata": {},
     "output_type": "execute_result"
    }
   ],
   "source": [
    "#Eliminar la columna nombre del Cliente y PCTBFN\n",
    "df_ventas = df_ventas.drop(columns=['DS_NROCTA'])\n",
    "## df_ventas = df_ventas.drop(columns=['PCTBFN']) no la eliminaría en principio por si hay una relación entre el % de descuento aplicado y la cantidad comprada\n",
    "df_ventas.head()"
   ]
  },
  {
   "cell_type": "code",
   "execution_count": 10,
   "metadata": {
    "colab": {
     "base_uri": "https://localhost:8080/",
     "height": 206
    },
    "executionInfo": {
     "elapsed": 438,
     "status": "ok",
     "timestamp": 1647824830623,
     "user": {
      "displayName": "Aldo Sanchez",
      "photoUrl": "https://lh3.googleusercontent.com/a-/AOh14Gh9nuHrD0W0qzkY1uSTrV0AunQZ4sV8azTLASIj=s64",
      "userId": "00522355467807237656"
     },
     "user_tz": 180
    },
    "id": "nQEh0a7b07mw",
    "outputId": "43394d90-9c50-4674-fe6f-dc4a9f833f33"
   },
   "outputs": [
    {
     "data": {
      "text/html": [
       "<div>\n",
       "<style scoped>\n",
       "    .dataframe tbody tr th:only-of-type {\n",
       "        vertical-align: middle;\n",
       "    }\n",
       "\n",
       "    .dataframe tbody tr th {\n",
       "        vertical-align: top;\n",
       "    }\n",
       "\n",
       "    .dataframe thead th {\n",
       "        text-align: right;\n",
       "    }\n",
       "</style>\n",
       "<table border=\"1\" class=\"dataframe\">\n",
       "  <thead>\n",
       "    <tr style=\"text-align: right;\">\n",
       "      <th></th>\n",
       "      <th>Region</th>\n",
       "    </tr>\n",
       "  </thead>\n",
       "  <tbody>\n",
       "    <tr>\n",
       "      <th>0</th>\n",
       "      <td>GBA</td>\n",
       "    </tr>\n",
       "    <tr>\n",
       "      <th>1</th>\n",
       "      <td>NEUQUEN</td>\n",
       "    </tr>\n",
       "    <tr>\n",
       "      <th>2</th>\n",
       "      <td>BSAS</td>\n",
       "    </tr>\n",
       "    <tr>\n",
       "      <th>3</th>\n",
       "      <td>CABA</td>\n",
       "    </tr>\n",
       "    <tr>\n",
       "      <th>4</th>\n",
       "      <td>STAFE</td>\n",
       "    </tr>\n",
       "  </tbody>\n",
       "</table>\n",
       "</div>"
      ],
      "text/plain": [
       "    Region\n",
       "0      GBA\n",
       "1  NEUQUEN\n",
       "2     BSAS\n",
       "3     CABA\n",
       "4    STAFE"
      ]
     },
     "execution_count": 10,
     "metadata": {},
     "output_type": "execute_result"
    }
   ],
   "source": [
    "#Creacion de tablas auxiliares para convertir variables categoricas en numericas\"\n",
    "#Regiones\n",
    "region = df_ventas['REGION'].unique()\n",
    "df_region = pd.DataFrame(region, columns= [\"Region\"])\n",
    "df_region.head()"
   ]
  },
  {
   "cell_type": "code",
   "execution_count": 11,
   "metadata": {
    "colab": {
     "base_uri": "https://localhost:8080/",
     "height": 206
    },
    "executionInfo": {
     "elapsed": 428,
     "status": "ok",
     "timestamp": 1647824832791,
     "user": {
      "displayName": "Aldo Sanchez",
      "photoUrl": "https://lh3.googleusercontent.com/a-/AOh14Gh9nuHrD0W0qzkY1uSTrV0AunQZ4sV8azTLASIj=s64",
      "userId": "00522355467807237656"
     },
     "user_tz": 180
    },
    "id": "YCz75DCM8Re6",
    "outputId": "484aa24b-1073-41a8-fd90-865fa3220d11"
   },
   "outputs": [
    {
     "data": {
      "text/html": [
       "<div>\n",
       "<style scoped>\n",
       "    .dataframe tbody tr th:only-of-type {\n",
       "        vertical-align: middle;\n",
       "    }\n",
       "\n",
       "    .dataframe tbody tr th {\n",
       "        vertical-align: top;\n",
       "    }\n",
       "\n",
       "    .dataframe thead th {\n",
       "        text-align: right;\n",
       "    }\n",
       "</style>\n",
       "<table border=\"1\" class=\"dataframe\">\n",
       "  <thead>\n",
       "    <tr style=\"text-align: right;\">\n",
       "      <th></th>\n",
       "      <th>Zona</th>\n",
       "    </tr>\n",
       "  </thead>\n",
       "  <tbody>\n",
       "    <tr>\n",
       "      <th>0</th>\n",
       "      <td>GBASUR</td>\n",
       "    </tr>\n",
       "    <tr>\n",
       "      <th>1</th>\n",
       "      <td>NEUQUEN</td>\n",
       "    </tr>\n",
       "    <tr>\n",
       "      <th>2</th>\n",
       "      <td>GBANOR</td>\n",
       "    </tr>\n",
       "    <tr>\n",
       "      <th>3</th>\n",
       "      <td>BSASCO</td>\n",
       "    </tr>\n",
       "    <tr>\n",
       "      <th>4</th>\n",
       "      <td>CABA1</td>\n",
       "    </tr>\n",
       "  </tbody>\n",
       "</table>\n",
       "</div>"
      ],
      "text/plain": [
       "      Zona\n",
       "0   GBASUR\n",
       "1  NEUQUEN\n",
       "2   GBANOR\n",
       "3   BSASCO\n",
       "4    CABA1"
      ]
     },
     "execution_count": 11,
     "metadata": {},
     "output_type": "execute_result"
    }
   ],
   "source": [
    "#Zonas\n",
    "zona = df_ventas['ZONAR'].unique()\n",
    "df_zona = pd.DataFrame(zona, columns= [\"Zona\"])\n",
    "df_zona.head()"
   ]
  },
  {
   "cell_type": "code",
   "execution_count": 12,
   "metadata": {
    "colab": {
     "base_uri": "https://localhost:8080/",
     "height": 206
    },
    "executionInfo": {
     "elapsed": 409,
     "status": "ok",
     "timestamp": 1647824834724,
     "user": {
      "displayName": "Aldo Sanchez",
      "photoUrl": "https://lh3.googleusercontent.com/a-/AOh14Gh9nuHrD0W0qzkY1uSTrV0AunQZ4sV8azTLASIj=s64",
      "userId": "00522355467807237656"
     },
     "user_tz": 180
    },
    "id": "wrbCstGK8yAq",
    "outputId": "0b461f5e-a647-47ce-a7aa-bed2aadd7154"
   },
   "outputs": [
    {
     "data": {
      "text/html": [
       "<div>\n",
       "<style scoped>\n",
       "    .dataframe tbody tr th:only-of-type {\n",
       "        vertical-align: middle;\n",
       "    }\n",
       "\n",
       "    .dataframe tbody tr th {\n",
       "        vertical-align: top;\n",
       "    }\n",
       "\n",
       "    .dataframe thead th {\n",
       "        text-align: right;\n",
       "    }\n",
       "</style>\n",
       "<table border=\"1\" class=\"dataframe\">\n",
       "  <thead>\n",
       "    <tr style=\"text-align: right;\">\n",
       "      <th></th>\n",
       "      <th>Canal</th>\n",
       "    </tr>\n",
       "  </thead>\n",
       "  <tbody>\n",
       "    <tr>\n",
       "      <th>0</th>\n",
       "      <td>HERRAMIENTAS ELECTRICAS</td>\n",
       "    </tr>\n",
       "    <tr>\n",
       "      <th>1</th>\n",
       "      <td>HERRAMIENTAS MANUALES</td>\n",
       "    </tr>\n",
       "    <tr>\n",
       "      <th>2</th>\n",
       "      <td>BOMBAS INDUSTRIALES</td>\n",
       "    </tr>\n",
       "    <tr>\n",
       "      <th>3</th>\n",
       "      <td>BOMBAS DOMESTICAS</td>\n",
       "    </tr>\n",
       "    <tr>\n",
       "      <th>4</th>\n",
       "      <td>MAQUINAS</td>\n",
       "    </tr>\n",
       "  </tbody>\n",
       "</table>\n",
       "</div>"
      ],
      "text/plain": [
       "                     Canal\n",
       "0  HERRAMIENTAS ELECTRICAS\n",
       "1    HERRAMIENTAS MANUALES\n",
       "2      BOMBAS INDUSTRIALES\n",
       "3        BOMBAS DOMESTICAS\n",
       "4                 MAQUINAS"
      ]
     },
     "execution_count": 12,
     "metadata": {},
     "output_type": "execute_result"
    }
   ],
   "source": [
    "#Canales\n",
    "canal = df_ventas['CANAL'].unique()\n",
    "df_canal = pd.DataFrame(canal, columns= [\"Canal\"])\n",
    "df_canal.head()"
   ]
  },
  {
   "cell_type": "code",
   "execution_count": 13,
   "metadata": {
    "colab": {
     "base_uri": "https://localhost:8080/",
     "height": 206
    },
    "executionInfo": {
     "elapsed": 511,
     "status": "ok",
     "timestamp": 1647824836512,
     "user": {
      "displayName": "Aldo Sanchez",
      "photoUrl": "https://lh3.googleusercontent.com/a-/AOh14Gh9nuHrD0W0qzkY1uSTrV0AunQZ4sV8azTLASIj=s64",
      "userId": "00522355467807237656"
     },
     "user_tz": 180
    },
    "id": "mAp07ITa9IKc",
    "outputId": "6082938c-3bc5-4938-b99a-55ba454b54be"
   },
   "outputs": [
    {
     "data": {
      "text/html": [
       "<div>\n",
       "<style scoped>\n",
       "    .dataframe tbody tr th:only-of-type {\n",
       "        vertical-align: middle;\n",
       "    }\n",
       "\n",
       "    .dataframe tbody tr th {\n",
       "        vertical-align: top;\n",
       "    }\n",
       "\n",
       "    .dataframe thead th {\n",
       "        text-align: right;\n",
       "    }\n",
       "</style>\n",
       "<table border=\"1\" class=\"dataframe\">\n",
       "  <thead>\n",
       "    <tr style=\"text-align: right;\">\n",
       "      <th></th>\n",
       "      <th>Negocio</th>\n",
       "    </tr>\n",
       "  </thead>\n",
       "  <tbody>\n",
       "    <tr>\n",
       "      <th>0</th>\n",
       "      <td>HERRAMIENTAS</td>\n",
       "    </tr>\n",
       "    <tr>\n",
       "      <th>1</th>\n",
       "      <td>BOMBAS</td>\n",
       "    </tr>\n",
       "    <tr>\n",
       "      <th>2</th>\n",
       "      <td>MAQUINAS</td>\n",
       "    </tr>\n",
       "    <tr>\n",
       "      <th>3</th>\n",
       "      <td>NADA</td>\n",
       "    </tr>\n",
       "    <tr>\n",
       "      <th>4</th>\n",
       "      <td>KLUGAN</td>\n",
       "    </tr>\n",
       "  </tbody>\n",
       "</table>\n",
       "</div>"
      ],
      "text/plain": [
       "        Negocio\n",
       "0  HERRAMIENTAS\n",
       "1        BOMBAS\n",
       "2      MAQUINAS\n",
       "3          NADA\n",
       "4        KLUGAN"
      ]
     },
     "execution_count": 13,
     "metadata": {},
     "output_type": "execute_result"
    }
   ],
   "source": [
    "#Negocios\n",
    "negocio = df_ventas['NEGOCI'].unique()\n",
    "df_negocio = pd.DataFrame(negocio, columns= [\"Negocio\"])\n",
    "df_negocio.head()"
   ]
  },
  {
   "cell_type": "code",
   "execution_count": 14,
   "metadata": {
    "colab": {
     "base_uri": "https://localhost:8080/",
     "height": 206
    },
    "executionInfo": {
     "elapsed": 515,
     "status": "ok",
     "timestamp": 1647824846281,
     "user": {
      "displayName": "Aldo Sanchez",
      "photoUrl": "https://lh3.googleusercontent.com/a-/AOh14Gh9nuHrD0W0qzkY1uSTrV0AunQZ4sV8azTLASIj=s64",
      "userId": "00522355467807237656"
     },
     "user_tz": 180
    },
    "id": "M2QeabbO9Y4m",
    "outputId": "76ee3dae-f9f8-4959-d65d-92a48521f7be"
   },
   "outputs": [
    {
     "data": {
      "text/html": [
       "<div>\n",
       "<style scoped>\n",
       "    .dataframe tbody tr th:only-of-type {\n",
       "        vertical-align: middle;\n",
       "    }\n",
       "\n",
       "    .dataframe tbody tr th {\n",
       "        vertical-align: top;\n",
       "    }\n",
       "\n",
       "    .dataframe thead th {\n",
       "        text-align: right;\n",
       "    }\n",
       "</style>\n",
       "<table border=\"1\" class=\"dataframe\">\n",
       "  <thead>\n",
       "    <tr style=\"text-align: right;\">\n",
       "      <th></th>\n",
       "      <th>Segmento</th>\n",
       "    </tr>\n",
       "  </thead>\n",
       "  <tbody>\n",
       "    <tr>\n",
       "      <th>0</th>\n",
       "      <td>INALAMBRICAS</td>\n",
       "    </tr>\n",
       "    <tr>\n",
       "      <th>1</th>\n",
       "      <td>MANUALES</td>\n",
       "    </tr>\n",
       "    <tr>\n",
       "      <th>2</th>\n",
       "      <td>ELECTRICAS</td>\n",
       "    </tr>\n",
       "    <tr>\n",
       "      <th>3</th>\n",
       "      <td>NEUMATICAS</td>\n",
       "    </tr>\n",
       "    <tr>\n",
       "      <th>4</th>\n",
       "      <td>SUMERGIBLE</td>\n",
       "    </tr>\n",
       "  </tbody>\n",
       "</table>\n",
       "</div>"
      ],
      "text/plain": [
       "       Segmento\n",
       "0  INALAMBRICAS\n",
       "1      MANUALES\n",
       "2    ELECTRICAS\n",
       "3    NEUMATICAS\n",
       "4    SUMERGIBLE"
      ]
     },
     "execution_count": 14,
     "metadata": {},
     "output_type": "execute_result"
    }
   ],
   "source": [
    "#Segmentos\n",
    "segmento = df_ventas['SEGMEN'].unique()\n",
    "df_segmento = pd.DataFrame(segmento, columns= [\"Segmento\"])\n",
    "df_segmento.head()"
   ]
  },
  {
   "cell_type": "code",
   "execution_count": 18,
   "metadata": {},
   "outputs": [],
   "source": [
    "#Separamos los datos de entrada de la salida\n",
    "X = df_ventas.drop('CLASIF', axis=1) #Elimino de mi dataset la variable a predecir\n",
    "y = df_ventas.CLASIF #Defino el Target\n"
   ]
  },
  {
   "cell_type": "code",
   "execution_count": 19,
   "metadata": {},
   "outputs": [],
   "source": [
    "#Importamos la libreria para separar en train y test\n",
    "from sklearn.model_selection import train_test_split \n",
    "\n",
    "#Me quedo con 30% para test y 70% para train\n",
    "X_train, X_test, y_train, y_test = train_test_split(X, y, test_size=0.30, random_state=42) "
   ]
  },
  {
   "cell_type": "code",
   "execution_count": 20,
   "metadata": {},
   "outputs": [],
   "source": [
    "from sklearn.tree import DecisionTreeClassifier #Importamos el modelo\n",
    "tree = DecisionTreeClassifier(max_depth=3, random_state = 42) #Creamos el modelo"
   ]
  },
  {
   "cell_type": "code",
   "execution_count": 21,
   "metadata": {},
   "outputs": [
    {
     "ename": "ValueError",
     "evalue": "could not convert string to float: 'GBA Sur'",
     "output_type": "error",
     "traceback": [
      "\u001b[1;31m---------------------------------------------------------------------------\u001b[0m",
      "\u001b[1;31mValueError\u001b[0m                                Traceback (most recent call last)",
      "\u001b[1;32m~\\AppData\\Local\\Temp/ipykernel_32972/1494430566.py\u001b[0m in \u001b[0;36m<module>\u001b[1;34m\u001b[0m\n\u001b[0;32m      1\u001b[0m \u001b[1;31m#Entrenamos el modelo\u001b[0m\u001b[1;33m\u001b[0m\u001b[1;33m\u001b[0m\u001b[0m\n\u001b[1;32m----> 2\u001b[1;33m \u001b[0mtree\u001b[0m\u001b[1;33m.\u001b[0m\u001b[0mfit\u001b[0m\u001b[1;33m(\u001b[0m\u001b[0mX_train\u001b[0m\u001b[1;33m,\u001b[0m\u001b[0my_train\u001b[0m\u001b[1;33m)\u001b[0m \u001b[1;31m#Entrenamos el modelo\u001b[0m\u001b[1;33m\u001b[0m\u001b[1;33m\u001b[0m\u001b[0m\n\u001b[0m",
      "\u001b[1;32m~\\AppData\\Local\\Packages\\PythonSoftwareFoundation.Python.3.9_qbz5n2kfra8p0\\LocalCache\\local-packages\\Python39\\site-packages\\sklearn\\tree\\_classes.py\u001b[0m in \u001b[0;36mfit\u001b[1;34m(self, X, y, sample_weight, check_input, X_idx_sorted)\u001b[0m\n\u001b[0;32m    935\u001b[0m         \"\"\"\n\u001b[0;32m    936\u001b[0m \u001b[1;33m\u001b[0m\u001b[0m\n\u001b[1;32m--> 937\u001b[1;33m         super().fit(\n\u001b[0m\u001b[0;32m    938\u001b[0m             \u001b[0mX\u001b[0m\u001b[1;33m,\u001b[0m\u001b[1;33m\u001b[0m\u001b[1;33m\u001b[0m\u001b[0m\n\u001b[0;32m    939\u001b[0m             \u001b[0my\u001b[0m\u001b[1;33m,\u001b[0m\u001b[1;33m\u001b[0m\u001b[1;33m\u001b[0m\u001b[0m\n",
      "\u001b[1;32m~\\AppData\\Local\\Packages\\PythonSoftwareFoundation.Python.3.9_qbz5n2kfra8p0\\LocalCache\\local-packages\\Python39\\site-packages\\sklearn\\tree\\_classes.py\u001b[0m in \u001b[0;36mfit\u001b[1;34m(self, X, y, sample_weight, check_input, X_idx_sorted)\u001b[0m\n\u001b[0;32m    163\u001b[0m             \u001b[0mcheck_X_params\u001b[0m \u001b[1;33m=\u001b[0m \u001b[0mdict\u001b[0m\u001b[1;33m(\u001b[0m\u001b[0mdtype\u001b[0m\u001b[1;33m=\u001b[0m\u001b[0mDTYPE\u001b[0m\u001b[1;33m,\u001b[0m \u001b[0maccept_sparse\u001b[0m\u001b[1;33m=\u001b[0m\u001b[1;34m\"csc\"\u001b[0m\u001b[1;33m)\u001b[0m\u001b[1;33m\u001b[0m\u001b[1;33m\u001b[0m\u001b[0m\n\u001b[0;32m    164\u001b[0m             \u001b[0mcheck_y_params\u001b[0m \u001b[1;33m=\u001b[0m \u001b[0mdict\u001b[0m\u001b[1;33m(\u001b[0m\u001b[0mensure_2d\u001b[0m\u001b[1;33m=\u001b[0m\u001b[1;32mFalse\u001b[0m\u001b[1;33m,\u001b[0m \u001b[0mdtype\u001b[0m\u001b[1;33m=\u001b[0m\u001b[1;32mNone\u001b[0m\u001b[1;33m)\u001b[0m\u001b[1;33m\u001b[0m\u001b[1;33m\u001b[0m\u001b[0m\n\u001b[1;32m--> 165\u001b[1;33m             X, y = self._validate_data(\n\u001b[0m\u001b[0;32m    166\u001b[0m                 \u001b[0mX\u001b[0m\u001b[1;33m,\u001b[0m \u001b[0my\u001b[0m\u001b[1;33m,\u001b[0m \u001b[0mvalidate_separately\u001b[0m\u001b[1;33m=\u001b[0m\u001b[1;33m(\u001b[0m\u001b[0mcheck_X_params\u001b[0m\u001b[1;33m,\u001b[0m \u001b[0mcheck_y_params\u001b[0m\u001b[1;33m)\u001b[0m\u001b[1;33m\u001b[0m\u001b[1;33m\u001b[0m\u001b[0m\n\u001b[0;32m    167\u001b[0m             )\n",
      "\u001b[1;32m~\\AppData\\Local\\Packages\\PythonSoftwareFoundation.Python.3.9_qbz5n2kfra8p0\\LocalCache\\local-packages\\Python39\\site-packages\\sklearn\\base.py\u001b[0m in \u001b[0;36m_validate_data\u001b[1;34m(self, X, y, reset, validate_separately, **check_params)\u001b[0m\n\u001b[0;32m    571\u001b[0m                 \u001b[1;31m# :(\u001b[0m\u001b[1;33m\u001b[0m\u001b[1;33m\u001b[0m\u001b[0m\n\u001b[0;32m    572\u001b[0m                 \u001b[0mcheck_X_params\u001b[0m\u001b[1;33m,\u001b[0m \u001b[0mcheck_y_params\u001b[0m \u001b[1;33m=\u001b[0m \u001b[0mvalidate_separately\u001b[0m\u001b[1;33m\u001b[0m\u001b[1;33m\u001b[0m\u001b[0m\n\u001b[1;32m--> 573\u001b[1;33m                 \u001b[0mX\u001b[0m \u001b[1;33m=\u001b[0m \u001b[0mcheck_array\u001b[0m\u001b[1;33m(\u001b[0m\u001b[0mX\u001b[0m\u001b[1;33m,\u001b[0m \u001b[1;33m**\u001b[0m\u001b[0mcheck_X_params\u001b[0m\u001b[1;33m)\u001b[0m\u001b[1;33m\u001b[0m\u001b[1;33m\u001b[0m\u001b[0m\n\u001b[0m\u001b[0;32m    574\u001b[0m                 \u001b[0my\u001b[0m \u001b[1;33m=\u001b[0m \u001b[0mcheck_array\u001b[0m\u001b[1;33m(\u001b[0m\u001b[0my\u001b[0m\u001b[1;33m,\u001b[0m \u001b[1;33m**\u001b[0m\u001b[0mcheck_y_params\u001b[0m\u001b[1;33m)\u001b[0m\u001b[1;33m\u001b[0m\u001b[1;33m\u001b[0m\u001b[0m\n\u001b[0;32m    575\u001b[0m             \u001b[1;32melse\u001b[0m\u001b[1;33m:\u001b[0m\u001b[1;33m\u001b[0m\u001b[1;33m\u001b[0m\u001b[0m\n",
      "\u001b[1;32m~\\AppData\\Local\\Packages\\PythonSoftwareFoundation.Python.3.9_qbz5n2kfra8p0\\LocalCache\\local-packages\\Python39\\site-packages\\sklearn\\utils\\validation.py\u001b[0m in \u001b[0;36mcheck_array\u001b[1;34m(array, accept_sparse, accept_large_sparse, dtype, order, copy, force_all_finite, ensure_2d, allow_nd, ensure_min_samples, ensure_min_features, estimator)\u001b[0m\n\u001b[0;32m    736\u001b[0m                     \u001b[0marray\u001b[0m \u001b[1;33m=\u001b[0m \u001b[0marray\u001b[0m\u001b[1;33m.\u001b[0m\u001b[0mastype\u001b[0m\u001b[1;33m(\u001b[0m\u001b[0mdtype\u001b[0m\u001b[1;33m,\u001b[0m \u001b[0mcasting\u001b[0m\u001b[1;33m=\u001b[0m\u001b[1;34m\"unsafe\"\u001b[0m\u001b[1;33m,\u001b[0m \u001b[0mcopy\u001b[0m\u001b[1;33m=\u001b[0m\u001b[1;32mFalse\u001b[0m\u001b[1;33m)\u001b[0m\u001b[1;33m\u001b[0m\u001b[1;33m\u001b[0m\u001b[0m\n\u001b[0;32m    737\u001b[0m                 \u001b[1;32melse\u001b[0m\u001b[1;33m:\u001b[0m\u001b[1;33m\u001b[0m\u001b[1;33m\u001b[0m\u001b[0m\n\u001b[1;32m--> 738\u001b[1;33m                     \u001b[0marray\u001b[0m \u001b[1;33m=\u001b[0m \u001b[0mnp\u001b[0m\u001b[1;33m.\u001b[0m\u001b[0masarray\u001b[0m\u001b[1;33m(\u001b[0m\u001b[0marray\u001b[0m\u001b[1;33m,\u001b[0m \u001b[0morder\u001b[0m\u001b[1;33m=\u001b[0m\u001b[0morder\u001b[0m\u001b[1;33m,\u001b[0m \u001b[0mdtype\u001b[0m\u001b[1;33m=\u001b[0m\u001b[0mdtype\u001b[0m\u001b[1;33m)\u001b[0m\u001b[1;33m\u001b[0m\u001b[1;33m\u001b[0m\u001b[0m\n\u001b[0m\u001b[0;32m    739\u001b[0m             \u001b[1;32mexcept\u001b[0m \u001b[0mComplexWarning\u001b[0m \u001b[1;32mas\u001b[0m \u001b[0mcomplex_warning\u001b[0m\u001b[1;33m:\u001b[0m\u001b[1;33m\u001b[0m\u001b[1;33m\u001b[0m\u001b[0m\n\u001b[0;32m    740\u001b[0m                 raise ValueError(\n",
      "\u001b[1;32m~\\AppData\\Local\\Packages\\PythonSoftwareFoundation.Python.3.9_qbz5n2kfra8p0\\LocalCache\\local-packages\\Python39\\site-packages\\pandas\\core\\generic.py\u001b[0m in \u001b[0;36m__array__\u001b[1;34m(self, dtype)\u001b[0m\n\u001b[0;32m   1991\u001b[0m \u001b[1;33m\u001b[0m\u001b[0m\n\u001b[0;32m   1992\u001b[0m     \u001b[1;32mdef\u001b[0m \u001b[0m__array__\u001b[0m\u001b[1;33m(\u001b[0m\u001b[0mself\u001b[0m\u001b[1;33m,\u001b[0m \u001b[0mdtype\u001b[0m\u001b[1;33m:\u001b[0m \u001b[0mNpDtype\u001b[0m \u001b[1;33m|\u001b[0m \u001b[1;32mNone\u001b[0m \u001b[1;33m=\u001b[0m \u001b[1;32mNone\u001b[0m\u001b[1;33m)\u001b[0m \u001b[1;33m->\u001b[0m \u001b[0mnp\u001b[0m\u001b[1;33m.\u001b[0m\u001b[0mndarray\u001b[0m\u001b[1;33m:\u001b[0m\u001b[1;33m\u001b[0m\u001b[1;33m\u001b[0m\u001b[0m\n\u001b[1;32m-> 1993\u001b[1;33m         \u001b[1;32mreturn\u001b[0m \u001b[0mnp\u001b[0m\u001b[1;33m.\u001b[0m\u001b[0masarray\u001b[0m\u001b[1;33m(\u001b[0m\u001b[0mself\u001b[0m\u001b[1;33m.\u001b[0m\u001b[0m_values\u001b[0m\u001b[1;33m,\u001b[0m \u001b[0mdtype\u001b[0m\u001b[1;33m=\u001b[0m\u001b[0mdtype\u001b[0m\u001b[1;33m)\u001b[0m\u001b[1;33m\u001b[0m\u001b[1;33m\u001b[0m\u001b[0m\n\u001b[0m\u001b[0;32m   1994\u001b[0m \u001b[1;33m\u001b[0m\u001b[0m\n\u001b[0;32m   1995\u001b[0m     def __array_wrap__(\n",
      "\u001b[1;31mValueError\u001b[0m: could not convert string to float: 'GBA Sur'"
     ]
    }
   ],
   "source": [
    "#Entrenamos el modelo\n",
    "tree.fit(X_train,y_train) #Entrenamos el modelo"
   ]
  }
 ],
 "metadata": {
  "interpreter": {
   "hash": "a12ff8c7a91ea37f5992d09ea518b599018c1dcd85b39a87bb2da8ef6d0f94da"
  },
  "kernelspec": {
   "display_name": "Python 3.9.10 64-bit (windows store)",
   "language": "python",
   "name": "python3"
  },
  "language_info": {
   "codemirror_mode": {
    "name": "ipython",
    "version": 3
   },
   "file_extension": ".py",
   "mimetype": "text/x-python",
   "name": "python",
   "nbconvert_exporter": "python",
   "pygments_lexer": "ipython3",
   "version": "3.9.12"
  },
  "orig_nbformat": 4
 },
 "nbformat": 4,
 "nbformat_minor": 2
}
