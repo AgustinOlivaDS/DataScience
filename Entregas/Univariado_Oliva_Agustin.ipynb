{
 "cells": [
  {
   "cell_type": "markdown",
   "metadata": {
    "id": "22ijrnvZiOqw"
   },
   "source": [
    "# Análisis Univariado"
   ]
  },
  {
   "cell_type": "markdown",
   "metadata": {
    "id": "SmhRT77UiOqz"
   },
   "source": [
    "## Importar librerías y Leer archivo "
   ]
  },
  {
   "cell_type": "markdown",
   "metadata": {
    "id": "1r3_g8YaiOq0"
   },
   "source": [
    "Importar las librerías"
   ]
  },
  {
   "cell_type": "code",
   "execution_count": 2,
   "metadata": {
    "id": "4va9WTJ5iOq0"
   },
   "outputs": [],
   "source": [
    "#Completar\n",
    "import pandas as pd\n",
    "import numpy as np\n",
    "import matplotlib.pyplot as plt"
   ]
  },
  {
   "cell_type": "markdown",
   "metadata": {
    "id": "7KOz5tGaiOq1"
   },
   "source": [
    "Importar el archivo csv"
   ]
  },
  {
   "cell_type": "code",
   "execution_count": 8,
   "metadata": {
    "colab": {
     "base_uri": "https://localhost:8080/",
     "height": 365
    },
    "id": "9nc5P1xuiOq2",
    "outputId": "b6553f95-82da-4603-ecab-0d6ede70a94d"
   },
   "outputs": [
    {
     "data": {
      "text/html": [
       "<div>\n",
       "<style scoped>\n",
       "    .dataframe tbody tr th:only-of-type {\n",
       "        vertical-align: middle;\n",
       "    }\n",
       "\n",
       "    .dataframe tbody tr th {\n",
       "        vertical-align: top;\n",
       "    }\n",
       "\n",
       "    .dataframe thead th {\n",
       "        text-align: right;\n",
       "    }\n",
       "</style>\n",
       "<table border=\"1\" class=\"dataframe\">\n",
       "  <thead>\n",
       "    <tr style=\"text-align: right;\">\n",
       "      <th></th>\n",
       "      <th>DS_CODZON</th>\n",
       "      <th>CODCOM</th>\n",
       "      <th>FCHMOV</th>\n",
       "      <th>NROCTA</th>\n",
       "      <th>DS_NROCTA</th>\n",
       "      <th>CLASIF</th>\n",
       "      <th>REGION</th>\n",
       "      <th>ZONAR</th>\n",
       "      <th>DS_VNDDOR</th>\n",
       "      <th>CANTID</th>\n",
       "      <th>IMPORT</th>\n",
       "      <th>PCTBFN</th>\n",
       "      <th>TIPPRO</th>\n",
       "      <th>ARTCOD</th>\n",
       "      <th>DS_ARTCOD</th>\n",
       "      <th>CANAL</th>\n",
       "      <th>REPRES</th>\n",
       "      <th>NEGOCI</th>\n",
       "      <th>SEGMEN</th>\n",
       "      <th>SUBSEG</th>\n",
       "    </tr>\n",
       "  </thead>\n",
       "  <tbody>\n",
       "    <tr>\n",
       "      <th>0</th>\n",
       "      <td>GBA Sur</td>\n",
       "      <td>NC0000</td>\n",
       "      <td>2020-01-02 00:00:00.000</td>\n",
       "      <td>I00794</td>\n",
       "      <td>SILVA IMPORTACIONES S.A.</td>\n",
       "      <td>Cliente C (resto de los clientes)</td>\n",
       "      <td>GBA</td>\n",
       "      <td>GBASUR</td>\n",
       "      <td>Juan Jose Gutemberg</td>\n",
       "      <td>-1.0</td>\n",
       "      <td>-6802.29</td>\n",
       "      <td>0.0</td>\n",
       "      <td>PT</td>\n",
       "      <td>VTI01350M</td>\n",
       "      <td>(NO USAR, DISCONTINUADO) Taladro inalambrico 1...</td>\n",
       "      <td>HERRAMIENTAS ELECTRICAS</td>\n",
       "      <td>TOTAL</td>\n",
       "      <td>HERRAMIENTAS</td>\n",
       "      <td>INALAMBRICAS</td>\n",
       "      <td>18V</td>\n",
       "    </tr>\n",
       "    <tr>\n",
       "      <th>1</th>\n",
       "      <td>PATAGONIA (Neuquen/Rio Negro/Chubut/Santa Cruz...</td>\n",
       "      <td>NC0000</td>\n",
       "      <td>2020-01-02 00:00:00.000</td>\n",
       "      <td>I00631</td>\n",
       "      <td>SEPULVEDA JUAN MANUEL</td>\n",
       "      <td>Cliente C (resto de los clientes)</td>\n",
       "      <td>NEUQUEN</td>\n",
       "      <td>NEUQUEN</td>\n",
       "      <td>Martin Mere</td>\n",
       "      <td>-12.0</td>\n",
       "      <td>-1884.02</td>\n",
       "      <td>0.0</td>\n",
       "      <td>PT</td>\n",
       "      <td>XAR030300</td>\n",
       "      <td>Acople rapido 1/2`` para riego TOTAL THWS030301</td>\n",
       "      <td>HERRAMIENTAS MANUALES</td>\n",
       "      <td>TOTAL</td>\n",
       "      <td>HERRAMIENTAS</td>\n",
       "      <td>MANUALES</td>\n",
       "      <td>Poda</td>\n",
       "    </tr>\n",
       "    <tr>\n",
       "      <th>2</th>\n",
       "      <td>GBA Norte</td>\n",
       "      <td>NC0000</td>\n",
       "      <td>2020-01-03 00:00:00.000</td>\n",
       "      <td>I01101</td>\n",
       "      <td>DECKER DIEGO ROBERTO</td>\n",
       "      <td>Cliente C (resto de los clientes)</td>\n",
       "      <td>GBA</td>\n",
       "      <td>GBANOR</td>\n",
       "      <td>CARLOS MICELI</td>\n",
       "      <td>-1.0</td>\n",
       "      <td>-1310.52</td>\n",
       "      <td>0.0</td>\n",
       "      <td>PT</td>\n",
       "      <td>XLS003700</td>\n",
       "      <td>Llave Sueca 1-1/2´´ TOTAL THT172151</td>\n",
       "      <td>HERRAMIENTAS MANUALES</td>\n",
       "      <td>TOTAL</td>\n",
       "      <td>HERRAMIENTAS</td>\n",
       "      <td>MANUALES</td>\n",
       "      <td>Llaves de Caño</td>\n",
       "    </tr>\n",
       "    <tr>\n",
       "      <th>3</th>\n",
       "      <td>GBA Norte</td>\n",
       "      <td>NC0000</td>\n",
       "      <td>2020-01-03 00:00:00.000</td>\n",
       "      <td>I01101</td>\n",
       "      <td>DECKER DIEGO ROBERTO</td>\n",
       "      <td>Cliente C (resto de los clientes)</td>\n",
       "      <td>GBA</td>\n",
       "      <td>GBANOR</td>\n",
       "      <td>CARLOS MICELI</td>\n",
       "      <td>-2.0</td>\n",
       "      <td>-899.01</td>\n",
       "      <td>0.0</td>\n",
       "      <td>PT</td>\n",
       "      <td>XTQI01580</td>\n",
       "      <td>Llave cricket158mm INDUSTRIAL TOTAL  THT106146</td>\n",
       "      <td>HERRAMIENTAS MANUALES</td>\n",
       "      <td>TOTAL</td>\n",
       "      <td>HERRAMIENTAS</td>\n",
       "      <td>MANUALES</td>\n",
       "      <td>Llaves</td>\n",
       "    </tr>\n",
       "    <tr>\n",
       "      <th>4</th>\n",
       "      <td>GBA Norte</td>\n",
       "      <td>NC0000</td>\n",
       "      <td>2020-01-03 00:00:00.000</td>\n",
       "      <td>I01101</td>\n",
       "      <td>DECKER DIEGO ROBERTO</td>\n",
       "      <td>Cliente C (resto de los clientes)</td>\n",
       "      <td>GBA</td>\n",
       "      <td>GBANOR</td>\n",
       "      <td>CARLOS MICELI</td>\n",
       "      <td>-2.0</td>\n",
       "      <td>-1479.87</td>\n",
       "      <td>0.0</td>\n",
       "      <td>PT</td>\n",
       "      <td>XTQI02600</td>\n",
       "      <td>Llave cricket 260mm INDUSTRIAL TOTAL  THT106126</td>\n",
       "      <td>HERRAMIENTAS MANUALES</td>\n",
       "      <td>TOTAL</td>\n",
       "      <td>HERRAMIENTAS</td>\n",
       "      <td>MANUALES</td>\n",
       "      <td>Bocallaves y accesorios</td>\n",
       "    </tr>\n",
       "  </tbody>\n",
       "</table>\n",
       "</div>"
      ],
      "text/plain": [
       "                                           DS_CODZON  CODCOM  \\\n",
       "0                                            GBA Sur  NC0000   \n",
       "1  PATAGONIA (Neuquen/Rio Negro/Chubut/Santa Cruz...  NC0000   \n",
       "2                                          GBA Norte  NC0000   \n",
       "3                                          GBA Norte  NC0000   \n",
       "4                                          GBA Norte  NC0000   \n",
       "\n",
       "                    FCHMOV  NROCTA                 DS_NROCTA  \\\n",
       "0  2020-01-02 00:00:00.000  I00794  SILVA IMPORTACIONES S.A.   \n",
       "1  2020-01-02 00:00:00.000  I00631     SEPULVEDA JUAN MANUEL   \n",
       "2  2020-01-03 00:00:00.000  I01101      DECKER DIEGO ROBERTO   \n",
       "3  2020-01-03 00:00:00.000  I01101      DECKER DIEGO ROBERTO   \n",
       "4  2020-01-03 00:00:00.000  I01101      DECKER DIEGO ROBERTO   \n",
       "\n",
       "                              CLASIF   REGION    ZONAR            DS_VNDDOR  \\\n",
       "0  Cliente C (resto de los clientes)      GBA   GBASUR  Juan Jose Gutemberg   \n",
       "1  Cliente C (resto de los clientes)  NEUQUEN  NEUQUEN          Martin Mere   \n",
       "2  Cliente C (resto de los clientes)      GBA   GBANOR        CARLOS MICELI   \n",
       "3  Cliente C (resto de los clientes)      GBA   GBANOR        CARLOS MICELI   \n",
       "4  Cliente C (resto de los clientes)      GBA   GBANOR        CARLOS MICELI   \n",
       "\n",
       "   CANTID   IMPORT  PCTBFN  TIPPRO     ARTCOD  \\\n",
       "0    -1.0 -6802.29     0.0  PT      VTI01350M   \n",
       "1   -12.0 -1884.02     0.0  PT      XAR030300   \n",
       "2    -1.0 -1310.52     0.0  PT      XLS003700   \n",
       "3    -2.0  -899.01     0.0  PT      XTQI01580   \n",
       "4    -2.0 -1479.87     0.0  PT      XTQI02600   \n",
       "\n",
       "                                           DS_ARTCOD                    CANAL  \\\n",
       "0  (NO USAR, DISCONTINUADO) Taladro inalambrico 1...  HERRAMIENTAS ELECTRICAS   \n",
       "1    Acople rapido 1/2`` para riego TOTAL THWS030301    HERRAMIENTAS MANUALES   \n",
       "2                Llave Sueca 1-1/2´´ TOTAL THT172151    HERRAMIENTAS MANUALES   \n",
       "3     Llave cricket158mm INDUSTRIAL TOTAL  THT106146    HERRAMIENTAS MANUALES   \n",
       "4    Llave cricket 260mm INDUSTRIAL TOTAL  THT106126    HERRAMIENTAS MANUALES   \n",
       "\n",
       "  REPRES        NEGOCI        SEGMEN                   SUBSEG  \n",
       "0  TOTAL  HERRAMIENTAS  INALAMBRICAS                      18V  \n",
       "1  TOTAL  HERRAMIENTAS      MANUALES                     Poda  \n",
       "2  TOTAL  HERRAMIENTAS      MANUALES           Llaves de Caño  \n",
       "3  TOTAL  HERRAMIENTAS      MANUALES                   Llaves  \n",
       "4  TOTAL  HERRAMIENTAS      MANUALES  Bocallaves y accesorios  "
      ]
     },
     "execution_count": 8,
     "metadata": {},
     "output_type": "execute_result"
    }
   ],
   "source": [
    "#Completar\n",
    "df = pd.read_csv('./files/HistoricoVentas.csv', sep=';')\n",
    "df.head()"
   ]
  },
  {
   "cell_type": "markdown",
   "metadata": {
    "id": "8KdJjS7uqcmG"
   },
   "source": [
    "## Analizar el DataFrame"
   ]
  },
  {
   "cell_type": "markdown",
   "metadata": {
    "id": "jognqVs6iOq2"
   },
   "source": [
    "Analizar el shape del df"
   ]
  },
  {
   "cell_type": "code",
   "execution_count": 9,
   "metadata": {
    "colab": {
     "base_uri": "https://localhost:8080/"
    },
    "id": "z2K7fHYviOq2",
    "outputId": "e6e9db25-7447-4bf9-f269-3cccd98d7624"
   },
   "outputs": [
    {
     "data": {
      "text/plain": [
       "(127918, 20)"
      ]
     },
     "execution_count": 9,
     "metadata": {},
     "output_type": "execute_result"
    }
   ],
   "source": [
    "#Completar\n",
    "df.shape"
   ]
  },
  {
   "cell_type": "markdown",
   "metadata": {
    "id": "nCT1kz6GiOq2"
   },
   "source": [
    "Obtener la totalidad de registros por columnas"
   ]
  },
  {
   "cell_type": "code",
   "execution_count": 10,
   "metadata": {
    "colab": {
     "base_uri": "https://localhost:8080/"
    },
    "id": "NTo6fV8kiOq3",
    "outputId": "bd67f25e-8a21-45a8-c9b6-7f496c35f270"
   },
   "outputs": [
    {
     "data": {
      "text/plain": [
       "DS_CODZON    127918\n",
       "CODCOM       127918\n",
       "FCHMOV       127918\n",
       "NROCTA       127918\n",
       "DS_NROCTA    127918\n",
       "CLASIF       123739\n",
       "REGION       127918\n",
       "ZONAR        127918\n",
       "DS_VNDDOR    127918\n",
       "CANTID       127918\n",
       "IMPORT       127918\n",
       "PCTBFN       127918\n",
       "TIPPRO       127918\n",
       "ARTCOD       127918\n",
       "DS_ARTCOD    127918\n",
       "CANAL        126527\n",
       "REPRES       127918\n",
       "NEGOCI       127918\n",
       "SEGMEN       127918\n",
       "SUBSEG       127918\n",
       "dtype: int64"
      ]
     },
     "execution_count": 10,
     "metadata": {},
     "output_type": "execute_result"
    }
   ],
   "source": [
    "#Completar\n",
    "df.count()\n",
    "#Acás e puede ver que faltan clasificar algunos clientes y asignarles un canal de venta"
   ]
  },
  {
   "cell_type": "markdown",
   "metadata": {
    "id": "uC8-2Q2EiOq3"
   },
   "source": [
    "Analizar el tipo de dato de cada columna"
   ]
  },
  {
   "cell_type": "code",
   "execution_count": 32,
   "metadata": {
    "colab": {
     "base_uri": "https://localhost:8080/"
    },
    "id": "RpLDCYyQiOq3",
    "outputId": "690b3499-35c1-41de-a8f1-f06cdf2e5295"
   },
   "outputs": [
    {
     "data": {
      "text/plain": [
       "DS_CODZON     object\n",
       "CODCOM        object\n",
       "FCHMOV        object\n",
       "NROCTA        object\n",
       "DS_NROCTA     object\n",
       "CLASIF        object\n",
       "REGION        object\n",
       "ZONAR         object\n",
       "DS_VNDDOR     object\n",
       "CANTID       float64\n",
       "IMPORT       float64\n",
       "PCTBFN       float64\n",
       "TIPPRO        object\n",
       "ARTCOD        object\n",
       "DS_ARTCOD     object\n",
       "CANAL         object\n",
       "REPRES        object\n",
       "NEGOCI        object\n",
       "SEGMEN        object\n",
       "SUBSEG        object\n",
       "dtype: object"
      ]
     },
     "execution_count": 32,
     "metadata": {},
     "output_type": "execute_result"
    }
   ],
   "source": [
    "#Completar\n",
    "df.dtypes\n",
    "#La mayoría son variables descriptivas"
   ]
  },
  {
   "cell_type": "markdown",
   "metadata": {
    "id": "r2rnhH9niOq4"
   },
   "source": [
    "Obtener el tipo de estructura del dataset."
   ]
  },
  {
   "cell_type": "code",
   "execution_count": 12,
   "metadata": {
    "colab": {
     "base_uri": "https://localhost:8080/"
    },
    "id": "auf4pPzMiOq4",
    "outputId": "082a63c3-2a0b-42ab-c27a-0eb4698901fd"
   },
   "outputs": [
    {
     "name": "stdout",
     "output_type": "stream",
     "text": [
      "<class 'pandas.core.frame.DataFrame'>\n",
      "RangeIndex: 127918 entries, 0 to 127917\n",
      "Data columns (total 20 columns):\n",
      " #   Column     Non-Null Count   Dtype  \n",
      "---  ------     --------------   -----  \n",
      " 0   DS_CODZON  127918 non-null  object \n",
      " 1   CODCOM     127918 non-null  object \n",
      " 2   FCHMOV     127918 non-null  object \n",
      " 3   NROCTA     127918 non-null  object \n",
      " 4   DS_NROCTA  127918 non-null  object \n",
      " 5   CLASIF     123739 non-null  object \n",
      " 6   REGION     127918 non-null  object \n",
      " 7   ZONAR      127918 non-null  object \n",
      " 8   DS_VNDDOR  127918 non-null  object \n",
      " 9   CANTID     127918 non-null  float64\n",
      " 10  IMPORT     127918 non-null  float64\n",
      " 11  PCTBFN     127918 non-null  float64\n",
      " 12  TIPPRO     127918 non-null  object \n",
      " 13  ARTCOD     127918 non-null  object \n",
      " 14  DS_ARTCOD  127918 non-null  object \n",
      " 15  CANAL      126527 non-null  object \n",
      " 16  REPRES     127918 non-null  object \n",
      " 17  NEGOCI     127918 non-null  object \n",
      " 18  SEGMEN     127918 non-null  object \n",
      " 19  SUBSEG     127918 non-null  object \n",
      "dtypes: float64(3), object(17)\n",
      "memory usage: 19.5+ MB\n"
     ]
    }
   ],
   "source": [
    "#Completar\n",
    "df.info()"
   ]
  },
  {
   "cell_type": "markdown",
   "metadata": {
    "id": "O84hCYW5iOq4"
   },
   "source": [
    "Listar los nombres de las columnas"
   ]
  },
  {
   "cell_type": "code",
   "execution_count": 13,
   "metadata": {
    "colab": {
     "base_uri": "https://localhost:8080/"
    },
    "id": "617mnEVmiOq4",
    "outputId": "a5d34379-4299-4c71-87b5-a259f508b483"
   },
   "outputs": [
    {
     "data": {
      "text/plain": [
       "Index(['DS_CODZON', 'CODCOM', 'FCHMOV', 'NROCTA', 'DS_NROCTA', 'CLASIF',\n",
       "       'REGION', 'ZONAR', 'DS_VNDDOR', 'CANTID', 'IMPORT', 'PCTBFN', 'TIPPRO',\n",
       "       'ARTCOD', 'DS_ARTCOD', 'CANAL', 'REPRES', 'NEGOCI', 'SEGMEN', 'SUBSEG'],\n",
       "      dtype='object')"
      ]
     },
     "execution_count": 13,
     "metadata": {},
     "output_type": "execute_result"
    }
   ],
   "source": [
    "#Completar\n",
    "df.columns"
   ]
  },
  {
   "cell_type": "markdown",
   "metadata": {},
   "source": [
    "## Análisis de diferentes variables"
   ]
  },
  {
   "cell_type": "markdown",
   "metadata": {
    "id": "Tx6LcKbCiOq4"
   },
   "source": [
    "Crear un gráfico de barras con la función value_counts() sobre la variable: 'DS_CODZON'"
   ]
  },
  {
   "cell_type": "code",
   "execution_count": 14,
   "metadata": {
    "colab": {
     "base_uri": "https://localhost:8080/",
     "height": 311
    },
    "id": "7HanJUFjiOq4",
    "outputId": "c68c77bf-f1fd-4bad-faa3-eb7bd0996e60"
   },
   "outputs": [
    {
     "data": {
      "text/plain": [
       "<AxesSubplot:>"
      ]
     },
     "execution_count": 14,
     "metadata": {},
     "output_type": "execute_result"
    },
    {
     "data": {
      "image/png": "[encoded data removed]",
      "text/plain": [
       "<Figure size 432x288 with 1 Axes>"
      ]
     },
     "metadata": {
      "needs_background": "light"
     },
     "output_type": "display_data"
    }
   ],
   "source": [
    "df['DS_CODZON'].value_counts().plot.bar()\n",
    "#Es interesante ver por zona que el tercer puesto se lo lleva Santa Fe/Entre Ríos por encima de San Luis/Córdoba y que GBA Sur tiene una gran diferencia con GBA Norte"
   ]
  },
  {
   "cell_type": "markdown",
   "metadata": {
    "id": "DlBjKK-9iOq5"
   },
   "source": [
    "Crear un gráfico de líneas de la variable: 'CANAL', utilizando la función value_counts()"
   ]
  },
  {
   "cell_type": "code",
   "execution_count": 34,
   "metadata": {
    "colab": {
     "base_uri": "https://localhost:8080/",
     "height": 282
    },
    "id": "yaQMZ0UhiOq5",
    "outputId": "4baf4a94-b9a4-4092-a771-65048854d8bf"
   },
   "outputs": [
    {
     "data": {
      "text/plain": [
       "<AxesSubplot:>"
      ]
     },
     "execution_count": 34,
     "metadata": {},
     "output_type": "execute_result"
    },
    {
     "data": {
      "image/png": "[encoded data removed]",
      "text/plain": [
       "<Figure size 1296x432 with 1 Axes>"
      ]
     },
     "metadata": {
      "needs_background": "light"
     },
     "output_type": "display_data"
    }
   ],
   "source": [
    "\n",
    "df['CANAL'].value_counts().sort_index().plot.line(figsize=(18,6))\n",
    "#Lo más vendido son las herramientas, probablemente por su menor precio \n"
   ]
  },
  {
   "cell_type": "markdown",
   "metadata": {},
   "source": [
    "Crear un gráfico Box Plots sobre la variable"
   ]
  },
  {
   "cell_type": "code",
   "execution_count": 44,
   "metadata": {},
   "outputs": [
    {
     "data": {
      "text/plain": [
       "<AxesSubplot:>"
      ]
     },
     "execution_count": 44,
     "metadata": {},
     "output_type": "execute_result"
    },
    {
     "data": {
      "image/png": "[encoded data removed]",
      "text/plain": [
       "<Figure size 432x288 with 1 Axes>"
      ]
     },
     "metadata": {
      "needs_background": "light"
     },
     "output_type": "display_data"
    }
   ],
   "source": [
    "df['CLASIF'].value_counts().plot.bar()\n",
    "# lamentablemente la mayoría de los clientes está catalogado como resto, esto habría que revisarlo para poder automatizar la clasificación "
   ]
  },
  {
   "cell_type": "markdown",
   "metadata": {},
   "source": [
    "Analizo las cantidades vendidas por producto"
   ]
  },
  {
   "cell_type": "code",
   "execution_count": 47,
   "metadata": {},
   "outputs": [
    {
     "data": {
      "text/html": [
       "<div>\n",
       "<style scoped>\n",
       "    .dataframe tbody tr th:only-of-type {\n",
       "        vertical-align: middle;\n",
       "    }\n",
       "\n",
       "    .dataframe tbody tr th {\n",
       "        vertical-align: top;\n",
       "    }\n",
       "\n",
       "    .dataframe thead th {\n",
       "        text-align: right;\n",
       "    }\n",
       "</style>\n",
       "<table border=\"1\" class=\"dataframe\">\n",
       "  <thead>\n",
       "    <tr style=\"text-align: right;\">\n",
       "      <th></th>\n",
       "      <th>CANTID</th>\n",
       "    </tr>\n",
       "  </thead>\n",
       "  <tbody>\n",
       "    <tr>\n",
       "      <th>count</th>\n",
       "      <td>124856.000000</td>\n",
       "    </tr>\n",
       "    <tr>\n",
       "      <th>mean</th>\n",
       "      <td>8.770776</td>\n",
       "    </tr>\n",
       "    <tr>\n",
       "      <th>std</th>\n",
       "      <td>29.093403</td>\n",
       "    </tr>\n",
       "    <tr>\n",
       "      <th>min</th>\n",
       "      <td>1.000000</td>\n",
       "    </tr>\n",
       "    <tr>\n",
       "      <th>25%</th>\n",
       "      <td>2.000000</td>\n",
       "    </tr>\n",
       "    <tr>\n",
       "      <th>50%</th>\n",
       "      <td>4.000000</td>\n",
       "    </tr>\n",
       "    <tr>\n",
       "      <th>75%</th>\n",
       "      <td>10.000000</td>\n",
       "    </tr>\n",
       "    <tr>\n",
       "      <th>max</th>\n",
       "      <td>4000.000000</td>\n",
       "    </tr>\n",
       "  </tbody>\n",
       "</table>\n",
       "</div>"
      ],
      "text/plain": [
       "              CANTID\n",
       "count  124856.000000\n",
       "mean        8.770776\n",
       "std        29.093403\n",
       "min         1.000000\n",
       "25%         2.000000\n",
       "50%         4.000000\n",
       "75%        10.000000\n",
       "max      4000.000000"
      ]
     },
     "execution_count": 47,
     "metadata": {},
     "output_type": "execute_result"
    }
   ],
   "source": [
    "#sólo tomo las cantidaddes positivas para no tener en cuenta las devoluciones\n",
    "df.loc[df['CANTID'] > 0, ['CANTID']].describe()\n",
    "#Se puede ver que el máximo es un outlier, con un promedio de 8.77, 4000 es demasiado"
   ]
  },
  {
   "cell_type": "markdown",
   "metadata": {
    "id": "6gz_uxgIiOq5"
   },
   "source": [
    "## Distribucion de Frecuencias"
   ]
  },
  {
   "cell_type": "markdown",
   "metadata": {
    "id": "RcF-WSQpiOq6"
   },
   "source": [
    "Calcular la frecuencia absoluta, la absoluta acumulada, la frecuencia relativa y relativa acumulada para la variable: **CLASIF**"
   ]
  },
  {
   "cell_type": "code",
   "execution_count": 26,
   "metadata": {
    "colab": {
     "base_uri": "https://localhost:8080/",
     "height": 424
    },
    "id": "CrSWcICWsLpj",
    "outputId": "795ead65-52f9-41ad-8d50-67c4ec0244ec"
   },
   "outputs": [
    {
     "data": {
      "text/html": [
       "<div>\n",
       "<style scoped>\n",
       "    .dataframe tbody tr th:only-of-type {\n",
       "        vertical-align: middle;\n",
       "    }\n",
       "\n",
       "    .dataframe tbody tr th {\n",
       "        vertical-align: top;\n",
       "    }\n",
       "\n",
       "    .dataframe thead th {\n",
       "        text-align: right;\n",
       "    }\n",
       "</style>\n",
       "<table border=\"1\" class=\"dataframe\">\n",
       "  <thead>\n",
       "    <tr style=\"text-align: right;\">\n",
       "      <th></th>\n",
       "      <th>Frec_absoluta</th>\n",
       "    </tr>\n",
       "  </thead>\n",
       "  <tbody>\n",
       "    <tr>\n",
       "      <th>Cliente C (resto de los clientes)</th>\n",
       "      <td>100052</td>\n",
       "    </tr>\n",
       "    <tr>\n",
       "      <th>Cliente premium AAA (25 primeros clientes - Cta Cte perfecta - No Entes Gub. - Lideres en su zona - No creancompetencia)</th>\n",
       "      <td>8471</td>\n",
       "    </tr>\n",
       "    <tr>\n",
       "      <th>Cliente A ( 50 segundos clientes - Cta Cte perfecta )</th>\n",
       "      <td>7094</td>\n",
       "    </tr>\n",
       "    <tr>\n",
       "      <th>Cliente B ( 100 terceros clientes )</th>\n",
       "      <td>6484</td>\n",
       "    </tr>\n",
       "    <tr>\n",
       "      <th>Retail</th>\n",
       "      <td>1637</td>\n",
       "    </tr>\n",
       "    <tr>\n",
       "      <th>Cliente INACTIVO en el ultimo año calendario</th>\n",
       "      <td>1</td>\n",
       "    </tr>\n",
       "  </tbody>\n",
       "</table>\n",
       "</div>"
      ],
      "text/plain": [
       "                                                    Frec_absoluta\n",
       "Cliente C (resto de los clientes)                          100052\n",
       "Cliente premium AAA (25 primeros clientes - Cta...           8471\n",
       "Cliente A ( 50 segundos clientes - Cta Cte perf...           7094\n",
       "Cliente B ( 100 terceros clientes )                          6484\n",
       "Retail                                                       1637\n",
       "Cliente INACTIVO en el ultimo año calendario                    1"
      ]
     },
     "execution_count": 26,
     "metadata": {},
     "output_type": "execute_result"
    }
   ],
   "source": [
    "df_frec = pd.DataFrame(df['CLASIF'].value_counts())\n",
    "df_frec.rename(columns={'CLASIF':'Frec_absoluta'}, inplace=True)\n",
    "df_frec"
   ]
  },
  {
   "cell_type": "code",
   "execution_count": 29,
   "metadata": {
    "colab": {
     "base_uri": "https://localhost:8080/",
     "height": 424
    },
    "id": "gCbdO4SKs2lv",
    "outputId": "73f067f3-7d67-4237-d25a-488825a606f0"
   },
   "outputs": [
    {
     "data": {
      "text/html": [
       "<div>\n",
       "<style scoped>\n",
       "    .dataframe tbody tr th:only-of-type {\n",
       "        vertical-align: middle;\n",
       "    }\n",
       "\n",
       "    .dataframe tbody tr th {\n",
       "        vertical-align: top;\n",
       "    }\n",
       "\n",
       "    .dataframe thead th {\n",
       "        text-align: right;\n",
       "    }\n",
       "</style>\n",
       "<table border=\"1\" class=\"dataframe\">\n",
       "  <thead>\n",
       "    <tr style=\"text-align: right;\">\n",
       "      <th></th>\n",
       "      <th>Frec_absoluta</th>\n",
       "      <th>Frec_rel_%</th>\n",
       "    </tr>\n",
       "  </thead>\n",
       "  <tbody>\n",
       "    <tr>\n",
       "      <th>Cliente C (resto de los clientes)</th>\n",
       "      <td>100052</td>\n",
       "      <td>78.215732</td>\n",
       "    </tr>\n",
       "    <tr>\n",
       "      <th>Cliente premium AAA (25 primeros clientes - Cta Cte perfecta - No Entes Gub. - Lideres en su zona - No creancompetencia)</th>\n",
       "      <td>8471</td>\n",
       "      <td>6.622211</td>\n",
       "    </tr>\n",
       "    <tr>\n",
       "      <th>Cliente A ( 50 segundos clientes - Cta Cte perfecta )</th>\n",
       "      <td>7094</td>\n",
       "      <td>5.545740</td>\n",
       "    </tr>\n",
       "    <tr>\n",
       "      <th>Cliente B ( 100 terceros clientes )</th>\n",
       "      <td>6484</td>\n",
       "      <td>5.068872</td>\n",
       "    </tr>\n",
       "    <tr>\n",
       "      <th>Retail</th>\n",
       "      <td>1637</td>\n",
       "      <td>1.279726</td>\n",
       "    </tr>\n",
       "    <tr>\n",
       "      <th>Cliente INACTIVO en el ultimo año calendario</th>\n",
       "      <td>1</td>\n",
       "      <td>0.000782</td>\n",
       "    </tr>\n",
       "  </tbody>\n",
       "</table>\n",
       "</div>"
      ],
      "text/plain": [
       "                                                    Frec_absoluta  Frec_rel_%\n",
       "Cliente C (resto de los clientes)                          100052   78.215732\n",
       "Cliente premium AAA (25 primeros clientes - Cta...           8471    6.622211\n",
       "Cliente A ( 50 segundos clientes - Cta Cte perf...           7094    5.545740\n",
       "Cliente B ( 100 terceros clientes )                          6484    5.068872\n",
       "Retail                                                       1637    1.279726\n",
       "Cliente INACTIVO en el ultimo año calendario                    1    0.000782"
      ]
     },
     "execution_count": 29,
     "metadata": {},
     "output_type": "execute_result"
    }
   ],
   "source": [
    "df_frec[\"Frec_rel_%\"] = 100 * df_frec[\"Frec_absoluta\"]/len(df['CLASIF'])\n",
    "df_frec"
   ]
  },
  {
   "cell_type": "markdown",
   "metadata": {},
   "source": [
    "Creo una función para calcular los acumulados"
   ]
  },
  {
   "cell_type": "code",
   "execution_count": 30,
   "metadata": {
    "id": "G0JzOZJ1uFbd"
   },
   "outputs": [],
   "source": [
    "def acum(df, col, colAcum):\n",
    "  values = df[col].values\n",
    "  val_acum = []\n",
    "  acumul = 0\n",
    "  for i in values:\n",
    "    acumul = acumul + i\n",
    "    val_acum.append(acumul)\n",
    "\n",
    "  df[colAcum] = val_acum\n"
   ]
  },
  {
   "cell_type": "markdown",
   "metadata": {},
   "source": [
    "Uso la función"
   ]
  },
  {
   "cell_type": "code",
   "execution_count": 31,
   "metadata": {},
   "outputs": [
    {
     "data": {
      "text/html": [
       "<div>\n",
       "<style scoped>\n",
       "    .dataframe tbody tr th:only-of-type {\n",
       "        vertical-align: middle;\n",
       "    }\n",
       "\n",
       "    .dataframe tbody tr th {\n",
       "        vertical-align: top;\n",
       "    }\n",
       "\n",
       "    .dataframe thead th {\n",
       "        text-align: right;\n",
       "    }\n",
       "</style>\n",
       "<table border=\"1\" class=\"dataframe\">\n",
       "  <thead>\n",
       "    <tr style=\"text-align: right;\">\n",
       "      <th></th>\n",
       "      <th>Frec_absoluta</th>\n",
       "      <th>Frec_rel_%</th>\n",
       "      <th>Frec_absoluta_Acum</th>\n",
       "      <th>Frec_rel_%_Acum</th>\n",
       "    </tr>\n",
       "  </thead>\n",
       "  <tbody>\n",
       "    <tr>\n",
       "      <th>Cliente C (resto de los clientes)</th>\n",
       "      <td>100052</td>\n",
       "      <td>78.215732</td>\n",
       "      <td>100052</td>\n",
       "      <td>78.215732</td>\n",
       "    </tr>\n",
       "    <tr>\n",
       "      <th>Cliente premium AAA (25 primeros clientes - Cta Cte perfecta - No Entes Gub. - Lideres en su zona - No creancompetencia)</th>\n",
       "      <td>8471</td>\n",
       "      <td>6.622211</td>\n",
       "      <td>108523</td>\n",
       "      <td>84.837943</td>\n",
       "    </tr>\n",
       "    <tr>\n",
       "      <th>Cliente A ( 50 segundos clientes - Cta Cte perfecta )</th>\n",
       "      <td>7094</td>\n",
       "      <td>5.545740</td>\n",
       "      <td>115617</td>\n",
       "      <td>90.383683</td>\n",
       "    </tr>\n",
       "    <tr>\n",
       "      <th>Cliente B ( 100 terceros clientes )</th>\n",
       "      <td>6484</td>\n",
       "      <td>5.068872</td>\n",
       "      <td>122101</td>\n",
       "      <td>95.452556</td>\n",
       "    </tr>\n",
       "    <tr>\n",
       "      <th>Retail</th>\n",
       "      <td>1637</td>\n",
       "      <td>1.279726</td>\n",
       "      <td>123738</td>\n",
       "      <td>96.732282</td>\n",
       "    </tr>\n",
       "    <tr>\n",
       "      <th>Cliente INACTIVO en el ultimo año calendario</th>\n",
       "      <td>1</td>\n",
       "      <td>0.000782</td>\n",
       "      <td>123739</td>\n",
       "      <td>96.733063</td>\n",
       "    </tr>\n",
       "  </tbody>\n",
       "</table>\n",
       "</div>"
      ],
      "text/plain": [
       "                                                    Frec_absoluta  Frec_rel_%  \\\n",
       "Cliente C (resto de los clientes)                          100052   78.215732   \n",
       "Cliente premium AAA (25 primeros clientes - Cta...           8471    6.622211   \n",
       "Cliente A ( 50 segundos clientes - Cta Cte perf...           7094    5.545740   \n",
       "Cliente B ( 100 terceros clientes )                          6484    5.068872   \n",
       "Retail                                                       1637    1.279726   \n",
       "Cliente INACTIVO en el ultimo año calendario                    1    0.000782   \n",
       "\n",
       "                                                    Frec_absoluta_Acum  \\\n",
       "Cliente C (resto de los clientes)                               100052   \n",
       "Cliente premium AAA (25 primeros clientes - Cta...              108523   \n",
       "Cliente A ( 50 segundos clientes - Cta Cte perf...              115617   \n",
       "Cliente B ( 100 terceros clientes )                             122101   \n",
       "Retail                                                          123738   \n",
       "Cliente INACTIVO en el ultimo año calendario                    123739   \n",
       "\n",
       "                                                    Frec_rel_%_Acum  \n",
       "Cliente C (resto de los clientes)                         78.215732  \n",
       "Cliente premium AAA (25 primeros clientes - Cta...        84.837943  \n",
       "Cliente A ( 50 segundos clientes - Cta Cte perf...        90.383683  \n",
       "Cliente B ( 100 terceros clientes )                       95.452556  \n",
       "Retail                                                    96.732282  \n",
       "Cliente INACTIVO en el ultimo año calendario              96.733063  "
      ]
     },
     "execution_count": 31,
     "metadata": {},
     "output_type": "execute_result"
    }
   ],
   "source": [
    "acum(df_frec, 'Frec_absoluta', 'Frec_absoluta_Acum')\n",
    "acum(df_frec, 'Frec_rel_%', 'Frec_rel_%_Acum')\n",
    "df_frec"
   ]
  }
 ],
 "metadata": {
  "interpreter": {
   "hash": "a12ff8c7a91ea37f5992d09ea518b599018c1dcd85b39a87bb2da8ef6d0f94da"
  },
  "kernelspec": {
   "display_name": "Python 3.9.10 64-bit (windows store)",
   "language": "python",
   "name": "python3"
  },
  "language_info": {
   "name": "python",
   "version": "3.9.10"
  },
  "orig_nbformat": 4
 },
 "nbformat": 4,
 "nbformat_minor": 2
}
